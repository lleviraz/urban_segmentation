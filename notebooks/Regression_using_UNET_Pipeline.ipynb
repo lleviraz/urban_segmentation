{
  "cells": [
    {
      "cell_type": "markdown",
      "metadata": {
        "id": "view-in-github",
        "colab_type": "text"
      },
      "source": [
        "<a href=\"https://colab.research.google.com/github/lleviraz/urban_segmentation/blob/main/notebooks/Regression_using_UNET_Pipeline.ipynb\" target=\"_parent\"><img src=\"https://colab.research.google.com/assets/colab-badge.svg\" alt=\"Open In Colab\"/></a>"
      ]
    },
    {
      "cell_type": "markdown",
      "metadata": {
        "id": "mCgAn09OhHly"
      },
      "source": [
        "# Segmentation of Residential and Non Residential Built-Up areas using UNET\n",
        "\n",
        "(Sentienl2 satellite images with ESM masks)"
      ]
    },
    {
      "cell_type": "markdown",
      "metadata": {
        "id": "dXp1dw5Ujz-o"
      },
      "source": [
        "Regression of the counts of the 4 classes instead of a pixel-wise segmentation\n",
        "\n",
        "**TODOs:**\n",
        "0. update the last layer to return the output for regression\n",
        "1. Update loss function, and metrics to work with the output of channels x 4 numbers , counts of classes: 0,1,250,255"
      ]
    },
    {
      "cell_type": "markdown",
      "metadata": {
        "id": "ht87m_eVevHz"
      },
      "source": [
        "This notebook contains the Segmentation pipeline using fastai\n",
        "It assumes that the dataset was already preprocessed and available \n",
        "in two directories:\n",
        "- s2_resized - the input images\n",
        "- esm_aligned - the ESM masks\n",
        "\n",
        "It will create 3 new directories:\n",
        "- s2_resized_test - test samples not used in training, nor validation\n",
        "- esm_resized_test - masks of the above test images (unused)\n",
        "- preds - predicted masks based on test data\n",
        "\n",
        "By: Eli T. and Liad.L."
      ]
    },
    {
      "cell_type": "code",
      "execution_count": null,
      "metadata": {
        "colab": {
          "base_uri": "https://localhost:8080/"
        },
        "id": "gNQu2FtCoR5O",
        "outputId": "35d7c5fb-7b02-4c62-d54c-aa1da656ca21"
      },
      "outputs": [
        {
          "output_type": "stream",
          "name": "stdout",
          "text": [
            "Drive already mounted at /content/drive; to attempt to forcibly remount, call drive.mount(\"/content/drive\", force_remount=True).\n"
          ]
        }
      ],
      "source": [
        "import warnings\n",
        "warnings.filterwarnings('ignore')\n",
        "from google.colab import drive\n",
        "drive.mount('/content/drive')\n"
      ]
    },
    {
      "cell_type": "code",
      "execution_count": null,
      "metadata": {
        "colab": {
          "base_uri": "https://localhost:8080/",
          "height": 235
        },
        "id": "ZtaJKO3Ag3xr",
        "outputId": "3cd22776-4093-4c26-8ebe-4e6debc20e0b"
      },
      "outputs": [
        {
          "output_type": "execute_result",
          "data": {
            "text/plain": [
              "<IPython.core.display.Markdown object>"
            ],
            "text/markdown": "\n---\nThis article is also a Jupyter Notebook available to be run from the top down. There\nwill be code snippets that you can then run in any environment.\n\nBelow are the versions of `fastai`, `fastcore`, `wwf`, `fastbook`, `torch`, `torchvision`, `rasterio`, and `pytorch-ignite` currently running at the time of writing this:\n* `fastai` : 2.6.0 \n* `fastcore` : 1.4.2 \n* `wwf` : 0.0.16 \n* `fastbook` : 0.0.21 \n* `torch` : 1.11.0+cu113 \n* `torchvision` : 0.12.0+cu113 \n* `rasterio` : 1.2.10 \n* `pytorch-ignite` : 0.4.8 \n---"
          },
          "metadata": {},
          "execution_count": 70
        }
      ],
      "source": [
        "!pip install fastai wwf nbdev rasterio geopandas fastbook tiffile imagecodecs pytorch-ignite -q\n",
        "from wwf.utils import state_versions\n",
        "state_versions(['fastai', 'fastcore', 'wwf','fastbook','torch','torchvision','rasterio','pytorch-ignite'])"
      ]
    },
    {
      "cell_type": "code",
      "execution_count": null,
      "metadata": {
        "id": "A3u-0VLeg71I"
      },
      "outputs": [],
      "source": [
        "# Python General\n",
        "import numpy as np\n",
        "import matplotlib.pyplot as plt\n",
        "import os\n",
        "import sys\n",
        "from pathlib import Path\n",
        "import glob\n",
        "from tqdm.notebook import tqdm\n",
        "import pprint as pp\n",
        "from PIL import Image\n",
        "import numpy as np\n",
        "\n",
        "#Torch\n",
        "from torch import nn\n",
        "import torch\n",
        "import torch.nn.functional as F\n",
        "from torchvision.transforms import *\n",
        "from torchvision.transforms.functional import InterpolationMode\n",
        "# from torchvision.models.resnet import resnet18,resnet34,resnet50,resnet101,wide_resnet50_2,resnext101_32x8d\n",
        "from torchvision.models.resnet import resnet34,resnet50\n",
        "#TODO try these two architechtures!!!\n",
        "from torchvision.models.segmentation import deeplabv3_resnet50,fcn_resnet50\n",
        "from ignite.metrics import SSIM\n",
        "\n",
        "\n",
        "#rasterio\n",
        "import rasterio as rio\n",
        "from rasterio.transform import Affine\n",
        "from rasterio.plot import show_hist,show\n",
        "from rasterio.warp import calculate_default_transform, reproject, Resampling\n",
        "\n",
        "#fastai\n",
        "from fastcore.xtras import Path\n",
        "from fastai.callback.hook import summary\n",
        "from fastai.callback.progress import ProgressCallback\n",
        "from fastai.callback.schedule import lr_find, fit_flat_cos\n",
        "from fastai.data import *\n",
        "from fastai.data.block import DataBlock\n",
        "from fastai.data.external import untar_data, URLs\n",
        "from fastai.data.transforms import get_image_files, FuncSplitter, Normalize\n",
        "from fastai.layers import Mish\n",
        "from fastai.losses import BaseLoss,DiceLoss,FocalLossFlat\n",
        "from fastai.optimizer import ranger,Adam\n",
        "from fastai.torch_core import tensor\n",
        "from fastai.vision.all import *\n",
        "from fastai.vision.augment import aug_transforms\n",
        "from fastai.vision.learner import unet_learner\n",
        "from fastai.vision import *\n",
        "from fastai.vision.core import *\n",
        "from fastai.vision.data import *\n",
        "from fastai.basics import *"
      ]
    },
    {
      "cell_type": "code",
      "execution_count": null,
      "metadata": {
        "id": "87JIh4jacKSF"
      },
      "outputs": [],
      "source": [
        "import torch\n",
        "import random\n",
        "torch.manual_seed(42)\n",
        "random.seed(42)\n",
        "np.random.seed(42)"
      ]
    },
    {
      "cell_type": "code",
      "execution_count": null,
      "metadata": {
        "colab": {
          "base_uri": "https://localhost:8080/"
        },
        "id": "3SYdrFWoCOyJ",
        "outputId": "f787b532-3032-43e7-8e57-6b2df5fc6780"
      },
      "outputs": [
        {
          "output_type": "stream",
          "name": "stdout",
          "text": [
            "Using device: cuda\n"
          ]
        }
      ],
      "source": [
        "device = torch.device('cuda' if torch.cuda.is_available() else 'cpu')\n",
        "# device = 'cpu' #GOOD FOR DEBUGGING\n",
        "print('Using device:', device)"
      ]
    },
    {
      "cell_type": "code",
      "execution_count": null,
      "metadata": {
        "id": "68t7Vg10FAJ5"
      },
      "outputs": [],
      "source": [
        "!cp -r -n /content/drive/MyDrive/2022/S1/3624_Final_Project/dataset/s2_resized /content/\n",
        "!cp -r -n /content/drive/MyDrive/2022/S1/3624_Final_Project/dataset/s2_resized_test /content/\n",
        "!cp -r -n /content/drive/MyDrive/2022/S1/3624_Final_Project/dataset/esm_aligned /content/\n",
        "!cp -r -n /content/drive/MyDrive/2022/S1/3624_Final_Project/dataset/esm_aligned_test /content/"
      ]
    },
    {
      "cell_type": "code",
      "execution_count": null,
      "metadata": {
        "id": "XplaZcu6meo7"
      },
      "outputs": [],
      "source": [
        "EXPORT_DIR='/content/drive/MyDrive/2022/S1/3624_Final_Project/dataset'\n",
        "LOCAL_EXPORT_DIR='/content/'\n",
        "EXPORT_DIR = LOCAL_EXPORT_DIR\n",
        "os.chdir('/content/drive/MyDrive/2022/S1/3624_Final_Project/notebooks')\n",
        "sys.path.append('/content/drive/MyDrive/2022/S1/3624_Final_Project/notebooks')\n",
        "\n",
        "ESM_DIR = EXPORT_DIR + '/ESM'\n",
        "S2_DIR = EXPORT_DIR + '/S2'\n",
        "\n",
        "esm_aligned = os.path.join(EXPORT_DIR ,'esm_aligned/')\n",
        "s2_resized = os.path.join(EXPORT_DIR,'s2_resized/')"
      ]
    },
    {
      "cell_type": "markdown",
      "metadata": {
        "id": "DK9bwwRbyNrF"
      },
      "source": [
        "## Validate Dataset\n",
        "\n",
        "Validate that the generated masks and plot some samples of the transformed MASKs with original and matching image\n",
        "\n",
        "Note: the class proprtions are saved, except for the 'no-data' at the margins (white triangle areas), which are minimized due to the alignment."
      ]
    },
    {
      "cell_type": "code",
      "execution_count": null,
      "metadata": {
        "id": "5zGsUVh6d13d"
      },
      "outputs": [],
      "source": [
        "from libs.preprocess import *\n",
        "from libs.metrics import *\n",
        "from libs.multichannel import *\n",
        "from libs.metrics import _fast_hist\n",
        "\n",
        "\n",
        "orig_mask,new_mask,orig_img = None,None,None\n",
        "#Uncomment to run validation\n",
        "# orig_mask,new_mask,orig_img = validate_dataset(s2_resized,esm_aligned,ESM_DIR)"
      ]
    },
    {
      "cell_type": "code",
      "execution_count": null,
      "metadata": {
        "id": "UnOJ7m9lwKtB"
      },
      "outputs": [],
      "source": [
        "if (new_mask != None):\n",
        "  print('---------------------------------')\n",
        "  print(orig_mask.name,'\\n',orig_mask.meta)\n",
        "  print('---------------------------------')\n",
        "  print(new_mask.name,'\\n',new_mask.meta)\n",
        "  print('---------------------------------')\n",
        "  print(orig_img.name,'\\n',orig_img.meta)\n",
        "  print('---------------------------------') "
      ]
    },
    {
      "cell_type": "markdown",
      "metadata": {
        "id": "_M1mVfw-JTr4"
      },
      "source": [
        "## Segmenation Experiments\n"
      ]
    },
    {
      "cell_type": "markdown",
      "metadata": {
        "id": "1NWxGyttRKT4"
      },
      "source": [
        "## Create test set \n",
        "\n",
        "Save some images (and their matching labels) for test"
      ]
    },
    {
      "cell_type": "code",
      "execution_count": null,
      "metadata": {
        "id": "aWjEXgGsZGkV"
      },
      "outputs": [],
      "source": [
        "# !ls ../dataset/s2_resized_test | wc -l\n",
        "# !ls ../dataset/esm_aligned_test/ | wc -l"
      ]
    },
    {
      "cell_type": "code",
      "execution_count": null,
      "metadata": {
        "id": "mBgUmAC0YxUT"
      },
      "outputs": [],
      "source": [
        "# ! mv ../dataset/s2_resized_test/*.tif ../dataset/s2_resized\n",
        "# ! mv ../dataset/esm_aligned_test/*.tif ../dataset/esm_aligned"
      ]
    },
    {
      "cell_type": "code",
      "execution_count": null,
      "metadata": {
        "id": "AngCbg8SZkLO"
      },
      "outputs": [],
      "source": [
        "# !rm -rf ../dataset/s2_resized_test/\n",
        "# !rm -rf ../dataset/esm_aligned_test/"
      ]
    },
    {
      "cell_type": "code",
      "execution_count": null,
      "metadata": {
        "colab": {
          "base_uri": "https://localhost:8080/"
        },
        "id": "cuzydDFxRJ23",
        "outputId": "f465c0e7-761f-433f-974b-b7125a7fa537"
      },
      "outputs": [
        {
          "output_type": "stream",
          "name": "stdout",
          "text": [
            "/content/s2_resized_test Directory exists,\n",
            " exiting. (To recreate, move files back to original dirs BEFORE DELETING(!!!) and rerun)\n",
            "50\n"
          ]
        }
      ],
      "source": [
        "import shutil\n",
        "S2_TEST_DIR = os.path.join(EXPORT_DIR,'s2_resized_test')\n",
        "ESM_TEST_DIR = os.path.join(EXPORT_DIR,'esm_aligned_test')\n",
        "\n",
        "def create_test_set():\n",
        "\n",
        "  if(os.path.isdir(S2_TEST_DIR)):\n",
        "    print('{} Directory exists,\\n exiting. (To recreate, move files back to original dirs BEFORE DELETING(!!!) and rerun)'.format(S2_TEST_DIR))\n",
        "    target = os.listdir(S2_TEST_DIR)\n",
        "    number_files = len(target)\n",
        "    print(number_files)\n",
        "  else:\n",
        "    print('Creating ',S2_TEST_DIR)\n",
        "    print('Creating ',ESM_TEST_DIR)\n",
        "    os.makedirs(S2_TEST_DIR)\n",
        "    os.makedirs(ESM_TEST_DIR)\n",
        "    s2_source = s2_resized\n",
        "    esm_source = esm_aligned\n",
        "    files = os.listdir(s2_source)\n",
        "    no_of_files = 50#int(len(files) *0.07)\n",
        "\n",
        "    for file_name in random.sample(files, no_of_files):\n",
        "        shutil.move(os.path.join(s2_source, file_name), S2_TEST_DIR)\n",
        "        shutil.move(get_matching_mask_path(file_name,esm_source), ESM_TEST_DIR)\n",
        "\n",
        "create_test_set()"
      ]
    },
    {
      "cell_type": "code",
      "execution_count": null,
      "metadata": {
        "colab": {
          "base_uri": "https://localhost:8080/"
        },
        "id": "lMZjxInoYrvR",
        "outputId": "a689ac81-6fed-4b3b-cb2f-6ad58648876d"
      },
      "outputs": [
        {
          "output_type": "stream",
          "name": "stdout",
          "text": [
            "650 train files in /content/s2_resized/\n",
            "50 test files in /content/s2_resized_test\n"
          ]
        }
      ],
      "source": [
        "trn = glob.glob(os.path.join(s2_resized,'*.tif'))\n",
        "trn_number_files = len(trn)\n",
        "print('{} train files in {}'.format(trn_number_files,s2_resized))\n",
        "tst = glob.glob(os.path.join(S2_TEST_DIR,'*.tif'))\n",
        "tst_number_files = len(tst)\n",
        "print('{} test files in {}'.format(tst_number_files,S2_TEST_DIR))"
      ]
    },
    {
      "cell_type": "code",
      "execution_count": null,
      "metadata": {
        "id": "VJ9yF4bw_6lJ"
      },
      "outputs": [],
      "source": [
        "#check a sample of the expected image and matching mask both ways\n",
        "sample_mask = get_matching_mask_path(trn[0],esm_aligned)\n",
        "assert sample_mask != None\n",
        "sample_image = get_matching_img_path(sample_mask,s2_resized)\n",
        "assert sample_image != None"
      ]
    },
    {
      "cell_type": "markdown",
      "metadata": {
        "id": "caQSDrDVVqdR"
      },
      "source": [
        "## Segmentation of Multi Channel Tiff Images\n",
        "\n",
        "Custom Classes:\n",
        "\n",
        " - MCISegmentationDataLoaders - an extension of fastai's [SegmentationDataLoaders](https://docs.fast.ai/vision.data.html#SegmentationDataLoaders) to support multi channel Tiff images \n",
        " - MultiChannelImage  - Enhancing the basic [TensorImage](https://docs.fast.ai/torch_core.html#TensorImage) \n",
        "\n",
        "Both classes are defined in `libs.multichannel.py`\n"
      ]
    },
    {
      "cell_type": "code",
      "execution_count": null,
      "metadata": {
        "colab": {
          "base_uri": "https://localhost:8080/"
        },
        "id": "T-a4tpBDgRSJ",
        "outputId": "a3a59f64-10aa-4034-c3b1-b00264d7f1db"
      },
      "outputs": [
        {
          "output_type": "execute_result",
          "data": {
            "text/plain": [
              "((#650) [Path('/content/s2_resized/R_7_654.tif'),Path('/content/s2_resized/R_7_635.tif'),Path('/content/s2_resized/R_7_662.tif'),Path('/content/s2_resized/R_5_471.tif'),Path('/content/s2_resized/R_1_46.tif'),Path('/content/s2_resized/R_1_92.tif'),Path('/content/s2_resized/R_4_336.tif'),Path('/content/s2_resized/R_4_350.tif'),Path('/content/s2_resized/R_7_651.tif'),Path('/content/s2_resized/R_6_518.tif')...],\n",
              " (#650) [Path('/content/esm_aligned/ESM_172.tif'),Path('/content/esm_aligned/ESM_688.tif'),Path('/content/esm_aligned/ESM_361.tif'),Path('/content/esm_aligned/ESM_306.tif'),Path('/content/esm_aligned/ESM_553.tif'),Path('/content/esm_aligned/ESM_447.tif'),Path('/content/esm_aligned/ESM_416.tif'),Path('/content/esm_aligned/ESM_407.tif'),Path('/content/esm_aligned/ESM_105.tif'),Path('/content/esm_aligned/ESM_532.tif')...])"
            ]
          },
          "metadata": {},
          "execution_count": 84
        }
      ],
      "source": [
        "fnames = get_image_files(s2_resized)\n",
        "lbl_names = get_image_files(esm_aligned)\n",
        "fnames,lbl_names"
      ]
    },
    {
      "cell_type": "markdown",
      "metadata": {
        "id": "7cml8t9PpoW5"
      },
      "source": [
        "## Classes \n",
        "\n",
        "codes decoder dictionary (0,1,2,3)->(0,1,250,255)"
      ]
    },
    {
      "cell_type": "code",
      "execution_count": null,
      "metadata": {
        "colab": {
          "base_uri": "https://localhost:8080/"
        },
        "id": "zQaXL_Pqktr7",
        "outputId": "e4bbf0af-a3fb-47e3-a7a3-1dfc5df8a39e"
      },
      "outputs": [
        {
          "output_type": "execute_result",
          "data": {
            "text/plain": [
              "['0_0_No_Data', '1_1_Land', '2_250_Non_Resi_BU', '3_255_Resi_BU']"
            ]
          },
          "metadata": {},
          "execution_count": 85
        }
      ],
      "source": [
        "codes = ['0_0_No_Data','1_1_Land','2_250_Non_Resi_BU','3_255_Resi_BU']\n",
        "codes"
      ]
    },
    {
      "cell_type": "code",
      "execution_count": null,
      "metadata": {
        "id": "We-T0gGZSru7"
      },
      "outputs": [],
      "source": [
        "# From np.unique(mask)\n",
        "mask_vals = {0:0,1:1,2:250,3:255}"
      ]
    },
    {
      "cell_type": "code",
      "execution_count": null,
      "metadata": {
        "id": "bz1JjcBa4KML"
      },
      "outputs": [],
      "source": [
        "def get_msk(img_name,mask_dir, p2c=mask_vals,merge_bg=False):\n",
        "  '''\n",
        "  returns a matching mask for an image using the codes decoder dictionary (0,1,2,3)->(0,1,250,255)\n",
        "  '''\n",
        "  fn = get_matching_mask_path(img_name,mask_dir)\n",
        "  msk = np.array(PILMask.create(fn))\n",
        "\n",
        "  for i, val in enumerate(p2c):\n",
        "    msk[msk==p2c[i]] = val\n",
        "  if(merge_bg):\n",
        "    msk[msk==0] = 1\n",
        "    msk[0,0]=0 #save one pixel as 0 to preseve the 4 classes when comparing\n",
        "  return PILMask.create(msk)"
      ]
    },
    {
      "cell_type": "code",
      "execution_count": null,
      "metadata": {
        "id": "yFtk2Io1M28T"
      },
      "outputs": [],
      "source": [
        "def complete_array(classes,counts,codes):\n",
        "  result={c:1e-10 for c in codes}\n",
        "  for cls,cnt in zip(classes,counts):\n",
        "    # print(cls,cnt)\n",
        "    result[cls]=cnt\n",
        "  return result\n",
        "# complete_array([0,1,3],[7,8,9],mask_vals)\n"
      ]
    },
    {
      "cell_type": "code",
      "execution_count": null,
      "metadata": {
        "id": "ZhYnN9eIxIvj"
      },
      "outputs": [],
      "source": [
        "def get_msk2(img_name,mask_dir, p2c=mask_vals,to_norm=True):\n",
        "  '''\n",
        "  returns classes counts as a tensor for regression optimization\n",
        "  '''\n",
        "  fn = get_matching_mask_path(img_name,mask_dir)\n",
        "  msk = np.array(PILMask.create(fn))\n",
        "  for i, val in enumerate(p2c):\n",
        "    msk[msk==p2c[i]] = val\n",
        "  msk_classes,msk_counts=np.unique(tensor(msk),return_counts=True)\n",
        "  result = complete_array(msk_classes,msk_counts,mask_vals)\n",
        "  new_counts = list(result.values())\n",
        "  if(to_norm):\n",
        "    sum_nc = sum(new_counts)\n",
        "    norm_nc = new_counts/sum_nc\n",
        "  else:\n",
        "    norm_nc = new_counts\n",
        "  return torch.tensor(norm_nc,dtype=float,requires_grad=False)"
      ]
    },
    {
      "cell_type": "code",
      "execution_count": null,
      "metadata": {
        "colab": {
          "base_uri": "https://localhost:8080/"
        },
        "id": "V3UCQth9gRLh",
        "outputId": "8c90f144-357a-4c69-d4b3-ed9e9ce5a62b"
      },
      "outputs": [
        {
          "output_type": "execute_result",
          "data": {
            "text/plain": [
              "(300, 300)"
            ]
          },
          "metadata": {},
          "execution_count": 90
        }
      ],
      "source": [
        "img_fn = fnames[1].name\n",
        "msk = get_msk(img_fn,esm_aligned,mask_vals)\n",
        "msk.shape"
      ]
    },
    {
      "cell_type": "code",
      "execution_count": null,
      "metadata": {
        "colab": {
          "base_uri": "https://localhost:8080/"
        },
        "id": "eDwzwKJPx1b2",
        "outputId": "e66c831c-d5bf-43c7-d370-089fcdb7a5a2"
      },
      "outputs": [
        {
          "output_type": "execute_result",
          "data": {
            "text/plain": [
              "(tensor([0.0025, 0.6219, 0.0319, 0.3437]), tensor(1., dtype=torch.float64))"
            ]
          },
          "metadata": {},
          "execution_count": 91
        }
      ],
      "source": [
        "msk2 = get_msk2(img_fn,esm_aligned,mask_vals)\n",
        "tensor(msk2),torch.sum(msk2)"
      ]
    },
    {
      "cell_type": "code",
      "execution_count": null,
      "metadata": {
        "colab": {
          "base_uri": "https://localhost:8080/",
          "height": 374
        },
        "id": "a3LjGGzcijoC",
        "outputId": "fca08d7a-ba43-4c6e-b69f-d71972820d2e"
      },
      "outputs": [
        {
          "output_type": "execute_result",
          "data": {
            "text/plain": [
              "(array([0, 1, 2, 3], dtype=uint8), array([  228, 55969,  2869, 30934]))"
            ]
          },
          "metadata": {},
          "execution_count": 92
        },
        {
          "output_type": "display_data",
          "data": {
            "text/plain": [
              "<Figure size 432x432 with 1 Axes>"
            ],
            "image/png": "[encoded data removed]"
          },
          "metadata": {
            "needs_background": "light"
          }
        }
      ],
      "source": [
        "cm='Accent' #'nipy_spectral_r'\n",
        "f,axs = plt.subplots(1,1,figsize=(6,6))\n",
        "msk.show(figsize=(5,5), alpha=1.,cmap=cm,ax=axs)\n",
        "# msk2.show(figsize=(5,5), alpha=1.,cmap=cm,ax=axs[1])\n",
        "np.unique(tensor(msk),return_counts=True)#,np.unique(tensor(msk2),return_counts=True)"
      ]
    },
    {
      "cell_type": "code",
      "execution_count": null,
      "metadata": {
        "colab": {
          "base_uri": "https://localhost:8080/"
        },
        "id": "fUmpLQe6jBrm",
        "outputId": "2daa7889-3d61-4a0d-9730-c175dd9b821b"
      },
      "outputs": [
        {
          "output_type": "execute_result",
          "data": {
            "text/plain": [
              "tensor([[0, 0, 0,  ..., 0, 0, 0],\n",
              "        [0, 1, 1,  ..., 1, 0, 0],\n",
              "        [0, 1, 1,  ..., 1, 1, 1],\n",
              "        ...,\n",
              "        [0, 1, 1,  ..., 3, 1, 1],\n",
              "        [0, 1, 1,  ..., 1, 1, 1],\n",
              "        [0, 1, 1,  ..., 1, 1, 1]], dtype=torch.uint8)"
            ]
          },
          "metadata": {},
          "execution_count": 93
        }
      ],
      "source": [
        "#Tensor mask with coded values (0,1,2,3)\n",
        "tensor(msk)"
      ]
    },
    {
      "cell_type": "code",
      "execution_count": null,
      "metadata": {
        "colab": {
          "base_uri": "https://localhost:8080/"
        },
        "id": "Wc0qZIqVof_J",
        "outputId": "5c6a1dd9-afb3-439f-c057-684a3e6c1670"
      },
      "outputs": [
        {
          "output_type": "execute_result",
          "data": {
            "text/plain": [
              "tensor([0.0025, 0.6219, 0.0319, 0.3437])"
            ]
          },
          "metadata": {},
          "execution_count": 94
        }
      ],
      "source": [
        "tensor(msk2)"
      ]
    },
    {
      "cell_type": "code",
      "execution_count": null,
      "metadata": {
        "colab": {
          "base_uri": "https://localhost:8080/"
        },
        "id": "qujuxrZlms2v",
        "outputId": "c2f3f580-30f4-4fac-f14b-e69d3b17fe79"
      },
      "outputs": [
        {
          "output_type": "execute_result",
          "data": {
            "text/plain": [
              "{'0_0_No_Data': 0, '1_1_Land': 1, '2_250_Non_Resi_BU': 2, '3_255_Resi_BU': 3}"
            ]
          },
          "metadata": {},
          "execution_count": 95
        }
      ],
      "source": [
        "name2id = {v:k for k,v in enumerate(codes)}\n",
        "name2id"
      ]
    },
    {
      "cell_type": "code",
      "execution_count": null,
      "metadata": {
        "id": "rM9bLrCBmsz2"
      },
      "outputs": [],
      "source": [
        "# no_data_code = name2id['3_0_No_Data']\n",
        "# no_data_code"
      ]
    },
    {
      "cell_type": "markdown",
      "metadata": {
        "id": "46VVCNBsMR3x"
      },
      "source": [
        "## Calculating per image class proprtions for regression task\n"
      ]
    },
    {
      "cell_type": "code",
      "execution_count": null,
      "metadata": {
        "id": "m2VLRchgMYNL"
      },
      "outputs": [],
      "source": [
        "# def build_proportions_df(fnames,preds=None):\n",
        "#   cols=['image_name','mask_name',0,1,250,255,'bi_prop','250_Non_Resi_BU','255_Resi_BU']\n",
        "#   if(preds!=None):\n",
        "#     cols=['image_name','mask_name',0,1,250,255,'bi_prop','250_Non_Resi_BU','255_Resi_BU','pred_0','pred_1','pred_250','pred_255']\n",
        "  \n",
        "#   reg_df=pd.DataFrame(columns=cols)\n",
        "\n",
        "#   for fn in fnames:\n",
        "#     img_fn = fn.name\n",
        "#     mask = get_matching_mask_path(img_fn,esm_aligned)\n",
        "#     msk_fn = mask.split('/')[-1]\n",
        "#     with rio.open(mask) as fmsk:\n",
        "#       classes,counts = np.unique(fmsk.read(1),return_counts=True)\n",
        "#       cnt = {cl:cn for (cl,cn) in zip(classes,counts)}\n",
        "#       cnt['image_name']=img_fn\n",
        "#       cnt['mask_name']=msk_fn\n",
        "#       total=sum(counts)\n",
        "#       a,b=0,0\n",
        "#       if(250 in cnt):\n",
        "#         a=cnt[250]\n",
        "#       if(255 in cnt):\n",
        "#         b=cnt[255]\n",
        "#       fg_classes=a+b\n",
        "#       cnt['250_Non_Resi_BU']=a/total\n",
        "#       cnt['255_Resi_BU']=b/total\n",
        "#       cnt['bi_prop']=fg_classes/total\n",
        "#       reg_df=reg_df.append(cnt,ignore_index=True)\n",
        "#   return reg_df\n",
        "\n",
        "# orig_prop_df = build_proportions_df(fnames)\n",
        "# orig_prop_df"
      ]
    },
    {
      "cell_type": "code",
      "execution_count": null,
      "metadata": {
        "id": "fa8vrS4eMYKJ"
      },
      "outputs": [],
      "source": [
        "# orig_prop_df.describe()"
      ]
    },
    {
      "cell_type": "markdown",
      "metadata": {
        "id": "8Iwc44WxWpHa"
      },
      "source": [
        "## Metrics: IoU (Jaccard Index) ,Dice Score , Accuracy"
      ]
    },
    {
      "cell_type": "code",
      "execution_count": null,
      "metadata": {
        "id": "3WELzkuuZn50"
      },
      "outputs": [],
      "source": [
        "# def overall_acc(inp, targ):\n",
        "#   '''\n",
        "#   Overall pixel accuracy (not a good metric...)\n",
        "#   '''\n",
        "#   hist = prep_hist(inp,targ)\n",
        "#   return overall_pixel_accuracy(hist)"
      ]
    },
    {
      "cell_type": "code",
      "execution_count": null,
      "metadata": {
        "id": "qx3kB8TdZnyG"
      },
      "outputs": [],
      "source": [
        "# def per_cls_acc(inp, targ):\n",
        "#   '''\n",
        "#   Per class pixel accuracy (not a bad metric...)\n",
        "#   '''\n",
        "#   hist = prep_hist(inp,targ)\n",
        "#   return per_class_pixel_accuracy(hist)"
      ]
    },
    {
      "cell_type": "code",
      "execution_count": null,
      "metadata": {
        "id": "yVTQrFBiZnpP"
      },
      "outputs": [],
      "source": [
        "# def iou(inp, targ):\n",
        "#   '''\n",
        "#   IoU - Intersection over Union , Jaccard index\n",
        "#   '''\n",
        "#   hist = prep_hist(inp,targ)\n",
        "#   return jaccard_index(hist)"
      ]
    },
    {
      "cell_type": "code",
      "execution_count": null,
      "metadata": {
        "id": "90k7FXP3ZngR"
      },
      "outputs": [],
      "source": [
        "# def dice(inp, targ):\n",
        "#   '''\n",
        "#   Calculates the Dice coefficient between two images\n",
        "#   '''\n",
        "#   hist = prep_hist(inp,targ)\n",
        "#   return dice_coefficient(hist)"
      ]
    },
    {
      "cell_type": "code",
      "execution_count": null,
      "metadata": {
        "id": "QnWDXdCVHD4q"
      },
      "outputs": [],
      "source": [
        "# def foreground_acc(inp, targ, bkg_idx=1, axis=1):\n",
        "#     \"Computes non-background accuracy for multiclass segmentation without the background class\" \n",
        "#     targ = cast(targ.squeeze(1), TensorBase)\n",
        "#     mask = targ != bkg_idx\n",
        "#     return (inp.argmax(dim=axis)[mask]==targ[mask]).float().mean()"
      ]
    },
    {
      "cell_type": "markdown",
      "metadata": {
        "id": "84PSoGphjxi3"
      },
      "source": [
        "## A Combined Loss function\n",
        "\n",
        "A combined loss DiceLoss + Focal loss, that takes care of the class imbalance in the dataset https://docs.fast.ai/losses.html\n",
        "\n",
        "Tuning the \"gamma\" and \"alpha\" hyperparams is critical.\n",
        "\n",
        "FocalLoss: https://amaarora.github.io/2020/06/29/FocalLoss.html\n",
        "\n",
        "Inspiration from this paper:\n",
        "[Unified Focal loss: Generalising Dice and cross entropy-based losses to handle class imbalanced medical image segmentation](https://paperswithcode.com/paper/a-mixed-focal-loss-function-for-handling )\n",
        "\n",
        "\n",
        "Code is at: `libs.multichannel.py`"
      ]
    },
    {
      "cell_type": "code",
      "execution_count": null,
      "metadata": {
        "id": "QG0TU0T8XpRH"
      },
      "outputs": [],
      "source": [
        "#Training images dir\n",
        "TRAIN = s2_resized"
      ]
    },
    {
      "cell_type": "markdown",
      "metadata": {
        "id": "FhZ7y3oErNZR"
      },
      "source": [
        "## Augmentations\n",
        "\n",
        "Required for multi channel images (and their masks) using [Albumenations](https://albumentations.ai/docs/examples/example_kaggle_salt/#Using-Albumentations-for-a-semantic-segmentation-task)"
      ]
    },
    {
      "cell_type": "code",
      "execution_count": null,
      "metadata": {
        "id": "jopfeWB1gGcP"
      },
      "outputs": [],
      "source": [
        "#DEBUG / TEST trying to apply the dataset statistics values\n",
        "# stats_mean_df = pd.read_csv('stats_mean_df.csv',index_col=0,header=0)\n",
        "# stats_std_df  = pd.read_csv('stats_std_df.csv',index_col=0,header=0)\n",
        "\n",
        "# means=list(stats_mean_df.mean().values)\n",
        "# stds=list(stats_std_df.mean().values)\n",
        "# s2_stats = (means,stds)"
      ]
    },
    {
      "cell_type": "code",
      "execution_count": null,
      "metadata": {
        "id": "IgzVgnuulQQR"
      },
      "outputs": [],
      "source": [
        "#TODO move to multichannel.py\n",
        "#Trying Albumenations as regular torch Augmentations support only 3 channels\n",
        "import albumentations as A\n",
        "width=300\n",
        "height=300\n",
        "class SegmentationAlbumentationsTransform(ItemTransform):\n",
        "    split_idx = 0\n",
        "    \n",
        "    def __init__(self, aug): self.aug = aug\n",
        "    def encodes(self, x):\n",
        "        img,mask = x\n",
        "\n",
        "        # for albumentations to work correctly, the channels must be at the last dimension\n",
        "        aug = self.aug(image=np.array(img.permute(1,2,0)), mask=np.array(mask))\n",
        "        return TensorImage(aug['image'].transpose(2,0,1)), TensorMask(aug['mask'])\n",
        "\n",
        "ppp=0.5\n",
        "#From https://albumentations.ai/docs/examples/example_kaggle_salt/#Using-Albumentations-for-a-semantic-segmentation-task\n",
        "#Half size is a popular choice of augmenation for segmentation tasks\n",
        "aug_pipe = A.Compose([\n",
        "                      # A.RandomSizedCrop(min_max_height=(150, 150), height=height, width=width, p=ppp),\n",
        "    # A.PadIfNeeded(min_height=height, min_width=width, p=1),\n",
        "    A.VerticalFlip(p=ppp),\n",
        "    # A.RandomRotate90(p=ppp),\n",
        "    A.RandomBrightnessContrast(p=ppp)]\n",
        "    )\n",
        "\n",
        "\n",
        "# Create our class with this aug_pipe\n",
        "aug = SegmentationAlbumentationsTransform(aug_pipe)\n"
      ]
    },
    {
      "cell_type": "code",
      "execution_count": null,
      "metadata": {
        "colab": {
          "base_uri": "https://localhost:8080/"
        },
        "id": "qbnq7KWIdZby",
        "outputId": "284c2496-8902-4d85-9496-633de0f63fad"
      },
      "outputs": [
        {
          "output_type": "execute_result",
          "data": {
            "text/plain": [
              "['VerticalFlip', 'RandomBrightnessContrast']"
            ]
          },
          "metadata": {},
          "execution_count": 107
        }
      ],
      "source": [
        "augs_list = []\n",
        "for a in aug_pipe:\n",
        "  augs_list.append(a.__class__.__name__)\n",
        "augs_list"
      ]
    },
    {
      "cell_type": "markdown",
      "metadata": {
        "id": "RgXBhTdNsLXQ"
      },
      "source": [
        "## L1 and MSE Losses"
      ]
    },
    {
      "cell_type": "code",
      "execution_count": null,
      "metadata": {
        "id": "fqq3bj02I_B8"
      },
      "outputs": [],
      "source": [
        "\n",
        "# # Cell\n",
        "# class BaseLoss():\n",
        "#     \"Same as `loss_cls`, but flattens input and target.\"\n",
        "#     activation=decodes=noops\n",
        "#     def __init__(self, loss_cls, *args, axis=-1, flatten=True, floatify=False, is_2d=True, **kwargs):\n",
        "#         store_attr(\"axis,flatten,floatify,is_2d\")\n",
        "#         self.func = loss_cls(*args,**kwargs)\n",
        "#         functools.update_wrapper(self, self.func)\n",
        "\n",
        "#     def __repr__(self): return f\"FlattenedLoss of {self.func}\"\n",
        "#     @property\n",
        "#     def reduction(self): return self.func.reduction\n",
        "#     @reduction.setter\n",
        "#     def reduction(self, v): self.func.reduction = v\n",
        "\n",
        "#     def _contiguous(self,x):\n",
        "#         return TensorBase(x.transpose(self.axis,-1).contiguous()) if isinstance(x,torch.Tensor) else x\n",
        "\n",
        "#     def __call__(self, inp, targ, **kwargs):\n",
        "#         inp,targ  = map(self._contiguous, (inp,targ))\n",
        "#         # print('INP>>>>>>>>>>>>',inp)\n",
        "#         # print('TGT>>>>>>>>>>>>',targ)\n",
        "#         if self.floatify and targ.dtype!=torch.float16: targ = targ.float()\n",
        "#         if targ.dtype in [torch.int8, torch.int16, torch.int32]: targ = targ.long()\n",
        "#         if self.flatten: inp = inp.view(-1,inp.shape[-1]) if self.is_2d else inp.view(-1)\n",
        "#         return self.func.__call__(inp, targ.view(-1) if self.flatten else targ, **kwargs)\n",
        "\n",
        "#     def to(self, device):\n",
        "#         if isinstance(self.func, nn.Module): self.func.to(device)\n",
        "\n",
        "# # Cell\n",
        "# @use_kwargs_dict(reduction='mean')\n",
        "# def MSELossFlat1(*args, axis=-1, floatify=True, **kwargs):\n",
        "#     \"Same as `nn.MSELoss`, but flattens input and target.\"\n",
        "#     return BaseLoss(nn.MSELoss, *args, axis=axis, floatify=floatify, is_2d=False, **kwargs)\n",
        "\n",
        "\n",
        "\n",
        "\n",
        "\n",
        "\n"
      ]
    },
    {
      "cell_type": "markdown",
      "metadata": {
        "id": "YUUsIPKib0wt"
      },
      "source": [
        "## Hyperparams"
      ]
    },
    {
      "cell_type": "code",
      "execution_count": null,
      "metadata": {
        "id": "gsAWaeYOOlTn"
      },
      "outputs": [],
      "source": [
        "####################################\n",
        "### MSE Loss (for regresssion)   ###\n",
        "####################################\n",
        "# loss_fn=MSELossFlat1(reduction='sum')\n",
        "loss_fn=MSELossFlat()\n",
        "# loss_fn=L1LossFlat()\n",
        "\n",
        "####################################\n",
        "### Combined Focal and Dice Loss ###\n",
        "####################################\n",
        "#======================================================================================\n",
        "#GREAT RESULTS: |1. alpha=0.1,gamma=6\n",
        "#======================================================================================\n",
        "# loss_fn=CombinedLoss(alpha=0.1,gamma=6)\n",
        "\n",
        "#######################\n",
        "###  DiceLoss  Only ###\n",
        "#######################\n",
        "#loss_fn = DiceLoss(reduction=\"mean\")\n",
        "#Very bad - no learning at all\n",
        "\n",
        "######################\n",
        "### FocalLoss Only ###\n",
        "######################\n",
        "#axis=1,gamma=2.0\n",
        "# loss_fn=FocalLossFlat(axis=1,gamma=6)\n",
        "#although getting very low losses of ~0.06 - this is sometimes missing entire classes - and giving an overall lower scores\n",
        "# when gamm is default , 2.0 - this is same as CE - it totally mixes entire classes (switches the pred of class 1 with 250)\n",
        "\n",
        "#################\n",
        "### CELoss ###\n",
        "#################\n",
        "#pass weights of each class from the EDA\n",
        "# weights = torch.tensor([1e-07,0.70,0.05,0.25]).cuda()\n",
        "# loss_fn = CrossEntropyLossFlat(weight=weights, axis=1)\n",
        "# loss_fn=CrossEntropyLossFlat(axis=1) #Show that this is not a good LOSS for segmentation (without weights at least)\n",
        "# RESULTS: cross-entropy is segmenting too small areas and has the worst scores performance (which makes sense for imbalanced dataset)\n",
        "# it totally mixes entire classes (switches the pred of class 1 with 250)"
      ]
    },
    {
      "cell_type": "code",
      "execution_count": null,
      "metadata": {
        "id": "1RH9UeKosRvq"
      },
      "outputs": [],
      "source": [
        "#Other hyper parameters\n",
        "\n",
        "model='unet_fastai_reg'\n",
        "\n",
        "#DataLoader and Learner \n",
        "batch_size=15\n",
        "num_epochs=200\n",
        "arch= resnet34 #deeplabv3_resnet50 # resnet34 # #resnet34\n",
        "opt=ranger #SGD #ranger #Adam\n",
        "#based on feature selection in EDA\n",
        "#channels=[13,14,15] #crashes when 15 is added in Trio\n",
        "# pretrained=True\n",
        "\n",
        "pretrained=False #can be True only if using 3 channels\n",
        "channels=None\n",
        "# normalize_input=False\n",
        "normalize_input=True\n",
        "num_chan=len(channels) if channels!=None else None\n",
        "\n",
        "# lr=0.0 #will be automatically set by lr_find\n",
        "valid_pct=0.20\n",
        "\n",
        "#AUGMENTATIONS\n",
        "item_augms = aug\n",
        "\n",
        "# batch_augms = Normalize.from_stats(*s2_stats) #[RandomHorizontalFlip(p=ppp),RandomVerticalFlip(p=ppp)]\n",
        "batch_augms=None #Normalize.from_stats(*s2_stats)#None\n"
      ]
    },
    {
      "cell_type": "code",
      "execution_count": null,
      "metadata": {
        "id": "NlhI4bzKm6CR"
      },
      "outputs": [],
      "source": [
        "def MultiChannelImageBlock(cls=MultiChannelTensorImage, chans=None): \n",
        "    \"By default all channels are loaded\"\n",
        "    return TransformBlock(partial(cls.create, chans=chans))\n",
        "    \n",
        "    \n",
        "class MCISegmentationDataLoaders(DataLoaders):\n",
        "    '''\n",
        "    A wrapper around several `DataLoader`s with factory methods for segmentation of multi channel tiff images\n",
        "    This is an extension to fastai's SegmentationDataLoaders (https://docs.fast.ai/vision.data.html#SegmentationDataLoaders )\n",
        "    to support multi channel Tiff images.\n",
        "    '''\n",
        "    @classmethod\n",
        "    @delegates(DataLoaders.from_dblock)\n",
        "    def from_label_func_segm(cls, path, fnames, label_func, chans=None, \n",
        "                         extensions=['.tif'], valid_pct=0.2, seed=None, \n",
        "                         codes=None, item_tfms=None, batch_tfms=None, **kwargs):\n",
        "        '''\n",
        "        Create from list of `fnames` in `path`s with `label_func`.\n",
        "        This method creates a new fastai (PyTorch) data loader from two directories of images and matching masks,\n",
        "        It was needed to handle the Sentinel2 multi channel Tiff images (Default implementation supports RGB with 3 channels only)\n",
        "        It is basically a copy of the original fastai class method: https://github.com/fastai/fastai/blob/master/fastai/vision/data.py#L180 \n",
        "        except if it using the custom `MultiChannelImageBlock` that was defined above.\n",
        "        - path (str): full path to train images\n",
        "        - bs (int): the batch size to use with the data loader - default 5\n",
        "        - codes (list): a list of all possible target classes in the mask\n",
        "        - fnames (list): a list of all the image file names without their path\n",
        "        - label_func (func): a function that returns the matching mask of an image\n",
        "        - valid_pct (float 0 to 1): the precentage of images for validation during training - default 0.1\n",
        "        - extensions (list):  list of image file fexts to use when loading image and mask files - default ['.tif']\n",
        "        - channels (list of integers): the channels to read from the input image, and int from 1 to 12\n",
        "        - seed (int): random seed for reproducing results (for numpy pytorch)\n",
        "        - item_tfms (list of transforms): list of transformations (augmentations)  - (fastai) Item transforms are for collating and preparing for a batch and theyÃ¢â‚¬â„¢re run on the CPU\n",
        "        - batch_tfms (list of transforms): list of transformations (augmentations) -  (fastai) Batch transforms are applied after everything is resized and batched up and done on the GPU\n",
        "        '''        \n",
        "        dblock = DataBlock(blocks=(MultiChannelImageBlock(chans=chans), \n",
        "                                  #  MaskBlock(codes=codes)),\n",
        "                                   RegressionBlock(len(codes))),\n",
        "                           splitter=RandomSplitter(valid_pct, seed=seed),\n",
        "                           get_y=label_func,\n",
        "                           item_tfms=item_tfms,\n",
        "                           batch_tfms=batch_tfms)\n",
        "        res = cls.from_dblock(dblock, fnames, path=path, **kwargs)\n",
        "        return res"
      ]
    },
    {
      "cell_type": "code",
      "execution_count": null,
      "metadata": {
        "id": "1D-0AECR08gu"
      },
      "outputs": [],
      "source": [
        "TRAIN = s2_resized\n",
        "\n",
        "dl_train = MCISegmentationDataLoaders.from_label_func_segm(chans=channels,path=TRAIN, bs=batch_size, codes=codes,\n",
        "                                                   fnames=get_files(TRAIN, extensions=['.tif'], recurse=False),\n",
        "                                                   #For regression use get_msk2\n",
        "                                                   label_func = lambda o: get_msk2(o.name,esm_aligned, mask_vals),\n",
        "                                                   #For segmentation use get_msk2\n",
        "                                                  #  label_func = lambda o: get_msk(o.name,esm_aligned, mask_vals),\n",
        "                                                   item_tfms=item_augms,batch_tfms=batch_augms,\n",
        "                                                   valid_pct=valid_pct)"
      ]
    },
    {
      "cell_type": "code",
      "execution_count": null,
      "metadata": {
        "colab": {
          "base_uri": "https://localhost:8080/",
          "height": 357
        },
        "id": "-ys9yDK0lj0W",
        "outputId": "a9eaed15-e48f-4a2f-b73f-ced873e60d2f"
      },
      "outputs": [
        {
          "output_type": "display_data",
          "data": {
            "text/plain": [
              "<Figure size 432x432 with 4 Axes>"
            ],
            "image/png": "[encoded data removed]"
          },
          "metadata": {
            "needs_background": "light"
          }
        }
      ],
      "source": [
        "cm='Accent'\n",
        "dl_train.show_batch(max_n=4,figsize=(6,6),cmap=cm)"
      ]
    },
    {
      "cell_type": "code",
      "execution_count": null,
      "metadata": {
        "colab": {
          "base_uri": "https://localhost:8080/"
        },
        "id": "pnA04HO2e6u5",
        "outputId": "86eba2ca-7368-4d3d-bc73-e1cfc849c2ea"
      },
      "outputs": [
        {
          "output_type": "stream",
          "name": "stdout",
          "text": [
            "/content/s2_resized/R_2_191.tif /content/s2_resized/R_4_345.tif\n",
            "130 520\n"
          ]
        }
      ],
      "source": [
        "print(dl_train.train.items[0], dl_train.valid.items[0])\n",
        "print(len(dl_train.valid.items),len(dl_train.train.items))\n"
      ]
    },
    {
      "cell_type": "code",
      "execution_count": null,
      "metadata": {
        "id": "uHg9cvNNUilO"
      },
      "outputs": [],
      "source": [
        "# #export\n",
        "# from fastai.torch_basics import *\n",
        "# from fastai.callback.hook import *"
      ]
    },
    {
      "cell_type": "code",
      "execution_count": null,
      "metadata": {
        "id": "rjfhaJW5Uqt7"
      },
      "outputs": [],
      "source": [
        "# #export \n",
        "# def _get_sz_change_idxs(sizes):\n",
        "#     \"Get the indexes of the layers where the size of the activation changes.\"\n",
        "#     feature_szs = [size[-1] for size in sizes]\n",
        "#     sz_chg_idxs = list(np.where(np.array(feature_szs[:-1]) != np.array(feature_szs[1:]))[0])\n",
        "#     return sz_chg_idxs"
      ]
    },
    {
      "cell_type": "code",
      "execution_count": null,
      "metadata": {
        "id": "t3PCtLsxU1o_"
      },
      "outputs": [],
      "source": [
        "# #export \n",
        "# class UnetBlock(Module):\n",
        "#     \"A quasi-UNet block, using `PixelShuffle_ICNR upsampling`.\"\n",
        "#     @delegates(ConvLayer.__init__)\n",
        "#     def __init__(self, up_in_c, x_in_c, hook, final_div=True, blur=False, act_cls=defaults.activation,\n",
        "#                  self_attention=False, init=nn.init.kaiming_normal_, norm_type=None, **kwargs):\n",
        "#         self.hook = hook\n",
        "#         self.shuf = PixelShuffle_ICNR(up_in_c, up_in_c//2, blur=blur, act_cls=act_cls, norm_type=norm_type)\n",
        "#         self.bn = BatchNorm(x_in_c)\n",
        "#         ni = up_in_c//2 + x_in_c\n",
        "#         nf = ni if final_div else ni//2\n",
        "#         self.conv1 = ConvLayer(ni, nf, act_cls=act_cls, norm_type=norm_type, **kwargs)\n",
        "#         self.conv2 = ConvLayer(nf, nf, act_cls=act_cls, norm_type=norm_type,\n",
        "#                                xtra=SelfAttention(nf) if self_attention else None, **kwargs)\n",
        "#         self.relu = act_cls()\n",
        "#         # apply_init(nn.Sequential(self.conv2, self.conv2), init)\n",
        "#         apply_init(nn.Sequential(self.conv1, self.conv2), init)\n",
        "\n",
        "#     def forward(self, up_in):\n",
        "#         s = self.hook.stored\n",
        "#         up_out = self.shuf(up_in)\n",
        "#         ssh = s.shape[-2:]\n",
        "#         if ssh != up_out.shape[-2:]:\n",
        "#             up_out = F.interpolate(up_out, s.shape[-2:], mode='nearest')\n",
        "#         cat_x = self.relu(torch.cat([up_out, self.bn(s)], dim=1))\n",
        "#         return self.conv2(self.conv1(cat_x))"
      ]
    },
    {
      "cell_type": "code",
      "execution_count": null,
      "metadata": {
        "id": "77kQe98OVCcD"
      },
      "outputs": [],
      "source": [
        "# #export \n",
        "# class DynamicUnet(SequentialEx):\n",
        "#     \"Create a U-Net from a given architecture.\"\n",
        "#     def __init__(self, encoder, n_out, img_size, blur=False, blur_final=True, self_attention=False,\n",
        "#                  y_range=None, last_cross=True, bottle=False, act_cls=defaults.activation,\n",
        "#                  init=nn.init.kaiming_normal_, norm_type=None, **kwargs):\n",
        "#         print('WHOOOOOOOOOOOOA! custom it is then')\n",
        "#         imsize = img_size\n",
        "#         sizes = model_sizes(encoder, size=imsize)\n",
        "#         sz_chg_idxs = list(reversed(_get_sz_change_idxs(sizes)))\n",
        "#         self.sfs = hook_outputs([encoder[i] for i in sz_chg_idxs], detach=False)\n",
        "#         x = dummy_eval(encoder, imsize).detach()\n",
        "\n",
        "#         ni = sizes[-1][1]\n",
        "#         middle_conv = nn.Sequential(ConvLayer(ni, ni*2, act_cls=act_cls, norm_type=norm_type, **kwargs),\n",
        "#                                     ConvLayer(ni*2, ni, act_cls=act_cls, norm_type=norm_type, **kwargs)).eval()\n",
        "#         x = middle_conv(x)\n",
        "#         layers = [encoder, BatchNorm(ni), nn.ReLU(), middle_conv]\n",
        "\n",
        "#         for i,idx in enumerate(sz_chg_idxs):\n",
        "#             not_final = i!=len(sz_chg_idxs)-1\n",
        "#             up_in_c, x_in_c = int(x.shape[1]), int(sizes[idx][1])\n",
        "#             do_blur = blur and (not_final or blur_final)\n",
        "#             sa = self_attention and (i==len(sz_chg_idxs)-3)\n",
        "#             unet_block = UnetBlock(up_in_c, x_in_c, self.sfs[i], final_div=not_final, blur=do_blur, self_attention=sa,\n",
        "#                                    act_cls=act_cls, init=init, norm_type=norm_type, **kwargs).eval()\n",
        "#             layers.append(unet_block)\n",
        "#             x = unet_block(x)\n",
        "\n",
        "#         ni = x.shape[1]\n",
        "#         if imsize != sizes[0][-2:]: layers.append(PixelShuffle_ICNR(ni, act_cls=act_cls, norm_type=norm_type))\n",
        "#         layers.append(ResizeToOrig())\n",
        "#         if last_cross:\n",
        "#             layers.append(MergeLayer(dense=True))\n",
        "#             ni += in_channels(encoder)\n",
        "#             layers.append(ResBlock(1, ni, ni//2 if bottle else ni, act_cls=act_cls, norm_type=norm_type, **kwargs))\n",
        "#         # layers += [ConvLayer(ni, n_out, ks=1, act_cls=None, norm_type=norm_type, **kwargs)]\n",
        "#         layers += [ConvLayer(ni, 2*n_out, ks=1, act_cls=None, norm_type=norm_type, **kwargs)]\n",
        "#         #TODO change the output to be C x 4 to predict the count of every class only!!!!!!!!!!!!!!!!!!!!!!!!!!!!!\n",
        "#         # print(ni,n_out)\n",
        "#         # layers += [nn.Flatten(**kwargs)]\n",
        "#         # layers += [nn.Linear(imsize[0], n_out, **kwargs)]\n",
        "#         apply_init(nn.Sequential(layers[3], layers[-2]), init)\n",
        "#         #apply_init(nn.Sequential(layers[2]), init)\n",
        "#         if y_range is not None: layers.append(SigmoidRange(*y_range))\n",
        "#         # layers.append(ToTensorBase())\n",
        "#         super().__init__(*layers)\n",
        "\n",
        "#     def __del__(self):\n",
        "#         if hasattr(self, \"sfs\"): self.sfs.remove()"
      ]
    },
    {
      "cell_type": "code",
      "execution_count": null,
      "metadata": {
        "id": "SsnydvOrVJpw"
      },
      "outputs": [],
      "source": [
        "# m = resnet50()\n",
        "# m = resnet34()\n",
        "# m = nn.Sequential(*list(m.children())[:-2])\n",
        "# tstmodel = DynamicUnet(m, 4, (99,99), norm_type=None)\n",
        "# x = cast(torch.randn(2, 3, 99, 99), TensorImage)\n",
        "# y = tstmodel(x)\n",
        "# test_eq(y.shape, [2, 8, 99,99])"
      ]
    },
    {
      "cell_type": "code",
      "execution_count": null,
      "metadata": {
        "id": "k5VPvs-lVJkE"
      },
      "outputs": [],
      "source": [
        "# #From here: https://github.com/fastai/fastai/blob/62e608e9350858e8a10292b997482ee5d9c072fa/fastai/vision/learner.py\n",
        "\n",
        "# # Cell\n",
        "# def _add_norm(dls, meta, pretrained):\n",
        "#     if not pretrained: return\n",
        "#     stats = meta.get('stats')\n",
        "#     if stats is None: return\n",
        "#     if not dls.after_batch.fs.filter(risinstance(Normalize)):\n",
        "#         dls.add_tfms([Normalize.from_stats(*stats)],'after_batch')\n",
        "        \n",
        "# _default_meta    = {'cut':None, 'split':default_split}\n",
        "\n",
        "# # Cell\n",
        "# @delegates(models.unet.DynamicUnet.__init__)\n",
        "# def create_unet_model(arch, n_out, img_size, pretrained=True, cut=None, n_in=3, **kwargs):\n",
        "#     '''\n",
        "#     Create custom unet architecture\n",
        "#     '''\n",
        "#     meta = model_meta.get(arch, _default_meta)\n",
        "#     body = create_body(arch, n_in, pretrained, ifnone(cut, meta['cut']))\n",
        "#     #local copy\n",
        "#     model = DynamicUnet(body, n_out, img_size, **kwargs)\n",
        "#     # model = models.unet.DynamicUnet(body, n_out, img_size, **kwargs)\n",
        "\n",
        "#     return model\n",
        "\n",
        "# # Cell\n",
        "# @delegates(create_unet_model)\n",
        "# def unet_learner(dls, arch, normalize=True, n_out=None, pretrained=True, config=None,\n",
        "#                  # learner args\n",
        "#                  loss_func=None, opt_func=Adam, lr=defaults.lr, splitter=None, cbs=None, metrics=None, path=None,\n",
        "#                  model_dir='models', wd=None, wd_bn_bias=False, train_bn=True, moms=(0.95,0.85,0.95),\n",
        "#                  # other model args\n",
        "#                  **kwargs):\n",
        "#     \"Build a unet learner from `dls` and `arch`\"\n",
        "#     print('YEAHHHHHHHHHHHHHHHHHHHHHHH custom it is then...')\n",
        "#     if config:\n",
        "#         warnings.warn('config param is deprecated. Pass your args directly to unet_learner.')\n",
        "#         kwargs = {**config, **kwargs}\n",
        "\n",
        "#     meta = model_meta.get(arch, _default_meta)\n",
        "#     if normalize: _add_norm(dls, meta, pretrained)\n",
        "\n",
        "#     n_out = ifnone(n_out, get_c(dls))\n",
        "#     assert n_out, \"`n_out` is not defined, and could not be inferred from data, set `dls.c` or pass `n_out`\"\n",
        "#     img_size = dls.one_batch()[0].shape[-2:]\n",
        "#     assert img_size, \"image size could not be inferred from data\"\n",
        "#     model = create_unet_model(arch, n_out, img_size, pretrained=pretrained, **kwargs)\n",
        "    \n",
        "#     splitter=ifnone(splitter, meta['split'])\n",
        "#     learn = Learner(dls=dls, model=model, loss_func=loss_func, opt_func=opt_func, lr=lr, splitter=splitter, cbs=cbs,\n",
        "#                    metrics=metrics, path=path, model_dir=model_dir, wd=wd, wd_bn_bias=wd_bn_bias, train_bn=train_bn,\n",
        "#                    moms=moms)\n",
        "#     if pretrained: learn.freeze()\n",
        "#     # keep track of args for loggers\n",
        "#     store_attr('arch,normalize,n_out,pretrained', self=learn, **kwargs)\n",
        "#     return learn"
      ]
    },
    {
      "cell_type": "markdown",
      "metadata": {
        "id": "vBwaj4owZyXZ"
      },
      "source": [
        "## Transfer Learning from the trained UNET \n",
        "\n",
        "https://docs.fast.ai/vision.learner.html#unet_learner"
      ]
    },
    {
      "cell_type": "code",
      "execution_count": null,
      "metadata": {
        "id": "NzxGhEkoggak"
      },
      "outputs": [],
      "source": [
        "!cp -n '/content/drive/MyDrive/2022/S1/3624_Final_Project/models/last_model.pth' ."
      ]
    },
    {
      "cell_type": "code",
      "execution_count": null,
      "metadata": {
        "id": "yjAb-NRZoWxt"
      },
      "outputs": [],
      "source": [
        "# !ls last_model.pth"
      ]
    },
    {
      "cell_type": "code",
      "execution_count": null,
      "metadata": {
        "colab": {
          "base_uri": "https://localhost:8080/"
        },
        "id": "IhD1PGnzfii7",
        "outputId": "8738e5b6-6372-4d60-fdab-c9bb0710befb"
      },
      "outputs": [
        {
          "output_type": "execute_result",
          "data": {
            "text/plain": [
              "True"
            ]
          },
          "metadata": {},
          "execution_count": 123
        }
      ],
      "source": [
        "final_states_dict_file = Path('last_model.pth')\n",
        "INFERECE_MODE=final_states_dict_file.is_file()\n",
        "INFERECE_MODE"
      ]
    },
    {
      "cell_type": "code",
      "execution_count": null,
      "metadata": {
        "colab": {
          "base_uri": "https://localhost:8080/"
        },
        "id": "X_92p9RaZyXa",
        "outputId": "86e87936-ab48-4959-e3b9-a3a91feae103"
      },
      "outputs": [
        {
          "output_type": "stream",
          "name": "stdout",
          "text": [
            "Inference mode: loading model states dict...\n"
          ]
        }
      ],
      "source": [
        "if num_chan==None:\n",
        "  num_chan=15\n",
        "nn_out=len(codes)\n",
        "learn = unet_learner(dl_train, n_in=num_chan, n_out=nn_out,pretrained=pretrained,model_dir='../../models/',\n",
        "                    arch=arch,\n",
        "                    metrics=[mse],\n",
        "                    # self_attention=True,\n",
        "                    loss_func=loss_fn,\n",
        "                    act_cls = nn.ReLU,#Mish,\n",
        "                    opt_func=opt,\n",
        "                    normalize=normalize_input).to_fp16()\n",
        "\n",
        "if(INFERECE_MODE):\n",
        "  print('Inference mode: loading model states dict...')\n",
        "  learn.load_state_dict(torch.load(final_states_dict_file),strict=False)\n"
      ]
    },
    {
      "cell_type": "code",
      "source": [
        "learn.freeze()"
      ],
      "metadata": {
        "id": "TQhL7CGSLhTd"
      },
      "execution_count": null,
      "outputs": []
    },
    {
      "cell_type": "code",
      "source": [
        "os.chdir('/content/crfasrnn_pytorch/')\n",
        "# !pwd\n",
        "# !git clone https://github.com/sadeepj/crfasrnn_pytorch.git\n",
        "# !pip install -r requirements.txt\n",
        "# !wget https://github.com/sadeepj/crfasrnn_pytorch/releases/download/0.0.1/crfasrnn_weights.pth \n",
        "# !python -m  /content/crfasrnn_pytorch/crfasrnn/dist/permuto_cpp-0.0.0-py3.7-linux-x86_64.egg\n",
        "# !python setup.py install\n",
        "# !python run_demo.py\n",
        "# restart runtime !!!\n",
        "# from crfasrnn import util\n",
        "from crfasrnn.crfrnn import CrfRnn\n",
        "from crfasrnn.crfasrnn_model import CrfRnnNet\n",
        "\n",
        "\n",
        "# model = CrfRnnNet()\n",
        "# crfrnn = CrfRnn(num_labels=nn_out, num_iterations=10)\n"
      ],
      "metadata": {
        "id": "0pOhTDt4LqU_"
      },
      "execution_count": null,
      "outputs": []
    },
    {
      "cell_type": "code",
      "execution_count": null,
      "metadata": {
        "colab": {
          "base_uri": "https://localhost:8080/"
        },
        "id": "vjVCzv2BM8wv",
        "outputId": "73515afb-eec8-4d9a-ff16-1103957f6070"
      },
      "outputs": [
        {
          "output_type": "stream",
          "name": "stdout",
          "text": [
            "model frozen, added new output layer\n"
          ]
        },
        {
          "output_type": "execute_result",
          "data": {
            "text/plain": [
              "Sequential(\n",
              "  (0): CrfRnnNet(\n",
              "    (conv1_1): Conv2d(3, 64, kernel_size=(3, 3), stride=(1, 1), padding=(100, 100))\n",
              "    (relu1_1): ReLU(inplace=True)\n",
              "    (conv1_2): Conv2d(64, 64, kernel_size=(3, 3), stride=(1, 1), padding=(1, 1))\n",
              "    (relu1_2): ReLU(inplace=True)\n",
              "    (pool1): MaxPool2d(kernel_size=2, stride=2, padding=0, dilation=1, ceil_mode=True)\n",
              "    (conv2_1): Conv2d(64, 128, kernel_size=(3, 3), stride=(1, 1), padding=(1, 1))\n",
              "    (relu2_1): ReLU(inplace=True)\n",
              "    (conv2_2): Conv2d(128, 128, kernel_size=(3, 3), stride=(1, 1), padding=(1, 1))\n",
              "    (relu2_2): ReLU(inplace=True)\n",
              "    (pool2): MaxPool2d(kernel_size=2, stride=2, padding=0, dilation=1, ceil_mode=True)\n",
              "    (conv3_1): Conv2d(128, 256, kernel_size=(3, 3), stride=(1, 1), padding=(1, 1))\n",
              "    (relu3_1): ReLU(inplace=True)\n",
              "    (conv3_2): Conv2d(256, 256, kernel_size=(3, 3), stride=(1, 1), padding=(1, 1))\n",
              "    (relu3_2): ReLU(inplace=True)\n",
              "    (conv3_3): Conv2d(256, 256, kernel_size=(3, 3), stride=(1, 1), padding=(1, 1))\n",
              "    (relu3_3): ReLU(inplace=True)\n",
              "    (pool3): MaxPool2d(kernel_size=2, stride=2, padding=0, dilation=1, ceil_mode=True)\n",
              "    (conv4_1): Conv2d(256, 512, kernel_size=(3, 3), stride=(1, 1), padding=(1, 1))\n",
              "    (relu4_1): ReLU(inplace=True)\n",
              "    (conv4_2): Conv2d(512, 512, kernel_size=(3, 3), stride=(1, 1), padding=(1, 1))\n",
              "    (relu4_2): ReLU(inplace=True)\n",
              "    (conv4_3): Conv2d(512, 512, kernel_size=(3, 3), stride=(1, 1), padding=(1, 1))\n",
              "    (relu4_3): ReLU(inplace=True)\n",
              "    (pool4): MaxPool2d(kernel_size=2, stride=2, padding=0, dilation=1, ceil_mode=True)\n",
              "    (conv5_1): Conv2d(512, 512, kernel_size=(3, 3), stride=(1, 1), padding=(1, 1))\n",
              "    (relu5_1): ReLU(inplace=True)\n",
              "    (conv5_2): Conv2d(512, 512, kernel_size=(3, 3), stride=(1, 1), padding=(1, 1))\n",
              "    (relu5_2): ReLU(inplace=True)\n",
              "    (conv5_3): Conv2d(512, 512, kernel_size=(3, 3), stride=(1, 1), padding=(1, 1))\n",
              "    (relu5_3): ReLU(inplace=True)\n",
              "    (pool5): MaxPool2d(kernel_size=2, stride=2, padding=0, dilation=1, ceil_mode=True)\n",
              "    (fc6): Conv2d(512, 4096, kernel_size=(7, 7), stride=(1, 1))\n",
              "    (relu6): ReLU(inplace=True)\n",
              "    (drop6): Dropout2d(p=0.5, inplace=False)\n",
              "    (fc7): Conv2d(4096, 4096, kernel_size=(1, 1), stride=(1, 1))\n",
              "    (relu7): ReLU(inplace=True)\n",
              "    (drop7): Dropout2d(p=0.5, inplace=False)\n",
              "    (score_fr): Conv2d(4096, 21, kernel_size=(1, 1), stride=(1, 1))\n",
              "    (score_pool3): Conv2d(256, 21, kernel_size=(1, 1), stride=(1, 1))\n",
              "    (score_pool4): Conv2d(512, 21, kernel_size=(1, 1), stride=(1, 1))\n",
              "    (upscore2): ConvTranspose2d(21, 21, kernel_size=(4, 4), stride=(2, 2))\n",
              "    (upscore8): ConvTranspose2d(21, 21, kernel_size=(16, 16), stride=(8, 8), bias=False)\n",
              "    (upscore_pool4): ConvTranspose2d(21, 21, kernel_size=(4, 4), stride=(2, 2), bias=False)\n",
              "    (crfrnn): CrfRnn(\n",
              "      (_softmax): Softmax(dim=0)\n",
              "    )\n",
              "  )\n",
              ")"
            ]
          },
          "metadata": {},
          "execution_count": 150
        }
      ],
      "source": [
        "def freeze_layers(learn):\n",
        "  for p in learn.model.layers.named_parameters():\n",
        "    p[1].requires_grad=False\n",
        "# freeze_layers(learn)\n",
        "learn.freeze()\n",
        "\n",
        "img_size=300\n",
        "new_lin = nn.Sequential(\n",
        "    nn.Flatten(),\n",
        "    nn.Linear( nn_out*img_size**2, nn_out),\n",
        "    # nn.Softmax(dim=1)\n",
        "    # CrfRnn(num_labels=nn_out, num_iterations=10)\n",
        "    nn.ReLU()\n",
        "    # CrfRnnNet()\n",
        ")\n",
        "# learn.model.layers\n",
        "learn.model.layers.append(new_lin)\n",
        "print('model frozen, added new output layer')\n",
        "learn.model.layers[-1]\n",
        "# pret_model['new_custom_layer']"
      ]
    },
    {
      "cell_type": "code",
      "execution_count": null,
      "metadata": {
        "colab": {
          "base_uri": "https://localhost:8080/",
          "height": 311
        },
        "id": "O75LMz8FE2WQ",
        "outputId": "b7096a03-8c2e-4a70-8f50-3a633fe74b1a"
      },
      "outputs": [
        {
          "output_type": "display_data",
          "data": {
            "text/plain": [
              "<IPython.core.display.HTML object>"
            ],
            "text/html": [
              "\n",
              "<style>\n",
              "    /* Turns off some styling */\n",
              "    progress {\n",
              "        /* gets rid of default border in Firefox and Opera. */\n",
              "        border: none;\n",
              "        /* Needs to be in here for Safari polyfill so background images work as expected. */\n",
              "        background-size: auto;\n",
              "    }\n",
              "    .progress-bar-interrupted, .progress-bar-interrupted::-webkit-progress-bar {\n",
              "        background: #F44336;\n",
              "    }\n",
              "</style>\n"
            ]
          },
          "metadata": {}
        },
        {
          "output_type": "display_data",
          "data": {
            "text/plain": [
              "<IPython.core.display.HTML object>"
            ],
            "text/html": [
              ""
            ]
          },
          "metadata": {}
        },
        {
          "output_type": "error",
          "ename": "TypeError",
          "evalue": "ignored",
          "traceback": [
            "\u001b[0;31m---------------------------------------------------------------------------\u001b[0m",
            "\u001b[0;31mTypeError\u001b[0m                                 Traceback (most recent call last)",
            "\u001b[0;32m<ipython-input-151-bc39e9e85f86>\u001b[0m in \u001b[0;36m<module>\u001b[0;34m()\u001b[0m\n\u001b[0;32m----> 1\u001b[0;31m \u001b[0mlearn\u001b[0m\u001b[0;34m.\u001b[0m\u001b[0msummary\u001b[0m\u001b[0;34m(\u001b[0m\u001b[0;34m)\u001b[0m\u001b[0;34m\u001b[0m\u001b[0;34m\u001b[0m\u001b[0m\n\u001b[0m",
            "\u001b[0;32m/usr/local/lib/python3.7/dist-packages/fastai/callback/hook.py\u001b[0m in \u001b[0;36msummary\u001b[0;34m(self)\u001b[0m\n\u001b[1;32m    208\u001b[0m     \u001b[0;34m\"Print a summary of the model, optimizer and loss function.\"\u001b[0m\u001b[0;34m\u001b[0m\u001b[0;34m\u001b[0m\u001b[0m\n\u001b[1;32m    209\u001b[0m     \u001b[0mxb\u001b[0m \u001b[0;34m=\u001b[0m \u001b[0mself\u001b[0m\u001b[0;34m.\u001b[0m\u001b[0mdls\u001b[0m\u001b[0;34m.\u001b[0m\u001b[0mtrain\u001b[0m\u001b[0;34m.\u001b[0m\u001b[0mone_batch\u001b[0m\u001b[0;34m(\u001b[0m\u001b[0;34m)\u001b[0m\u001b[0;34m[\u001b[0m\u001b[0;34m:\u001b[0m\u001b[0mgetattr\u001b[0m\u001b[0;34m(\u001b[0m\u001b[0mself\u001b[0m\u001b[0;34m.\u001b[0m\u001b[0mdls\u001b[0m\u001b[0;34m.\u001b[0m\u001b[0mtrain\u001b[0m\u001b[0;34m,\u001b[0m \u001b[0;34m\"n_inp\"\u001b[0m\u001b[0;34m,\u001b[0m \u001b[0;36m1\u001b[0m\u001b[0;34m)\u001b[0m\u001b[0;34m]\u001b[0m\u001b[0;34m\u001b[0m\u001b[0;34m\u001b[0m\u001b[0m\n\u001b[0;32m--> 210\u001b[0;31m     \u001b[0mres\u001b[0m \u001b[0;34m=\u001b[0m \u001b[0mmodule_summary\u001b[0m\u001b[0;34m(\u001b[0m\u001b[0mself\u001b[0m\u001b[0;34m,\u001b[0m \u001b[0;34m*\u001b[0m\u001b[0mxb\u001b[0m\u001b[0;34m)\u001b[0m\u001b[0;34m\u001b[0m\u001b[0;34m\u001b[0m\u001b[0m\n\u001b[0m\u001b[1;32m    211\u001b[0m     \u001b[0mres\u001b[0m \u001b[0;34m+=\u001b[0m \u001b[0;34mf\"Optimizer used: {self.opt_func}\\nLoss function: {self.loss_func}\\n\\n\"\u001b[0m\u001b[0;34m\u001b[0m\u001b[0;34m\u001b[0m\u001b[0m\n\u001b[1;32m    212\u001b[0m     \u001b[0;32mif\u001b[0m \u001b[0mself\u001b[0m\u001b[0;34m.\u001b[0m\u001b[0mopt\u001b[0m \u001b[0;32mis\u001b[0m \u001b[0;32mnot\u001b[0m \u001b[0;32mNone\u001b[0m\u001b[0;34m:\u001b[0m\u001b[0;34m\u001b[0m\u001b[0;34m\u001b[0m\u001b[0m\n",
            "\u001b[0;32m/usr/local/lib/python3.7/dist-packages/fastai/callback/hook.py\u001b[0m in \u001b[0;36mmodule_summary\u001b[0;34m(learn, *xb)\u001b[0m\n\u001b[1;32m    176\u001b[0m     \u001b[0;31m#  thus are not counted inside the summary\u001b[0m\u001b[0;34m\u001b[0m\u001b[0;34m\u001b[0m\u001b[0;34m\u001b[0m\u001b[0m\n\u001b[1;32m    177\u001b[0m     \u001b[0;31m#TODO: find a way to have them counted in param number somehow\u001b[0m\u001b[0;34m\u001b[0m\u001b[0;34m\u001b[0m\u001b[0;34m\u001b[0m\u001b[0m\n\u001b[0;32m--> 178\u001b[0;31m     \u001b[0minfos\u001b[0m \u001b[0;34m=\u001b[0m \u001b[0mlayer_info\u001b[0m\u001b[0;34m(\u001b[0m\u001b[0mlearn\u001b[0m\u001b[0;34m,\u001b[0m \u001b[0;34m*\u001b[0m\u001b[0mxb\u001b[0m\u001b[0;34m)\u001b[0m\u001b[0;34m\u001b[0m\u001b[0;34m\u001b[0m\u001b[0m\n\u001b[0m\u001b[1;32m    179\u001b[0m     \u001b[0mn\u001b[0m\u001b[0;34m,\u001b[0m\u001b[0mbs\u001b[0m \u001b[0;34m=\u001b[0m \u001b[0;36m76\u001b[0m\u001b[0;34m,\u001b[0m\u001b[0mfind_bs\u001b[0m\u001b[0;34m(\u001b[0m\u001b[0mxb\u001b[0m\u001b[0;34m)\u001b[0m\u001b[0;34m\u001b[0m\u001b[0;34m\u001b[0m\u001b[0m\n\u001b[1;32m    180\u001b[0m     \u001b[0minp_sz\u001b[0m \u001b[0;34m=\u001b[0m \u001b[0m_print_shapes\u001b[0m\u001b[0;34m(\u001b[0m\u001b[0mapply\u001b[0m\u001b[0;34m(\u001b[0m\u001b[0;32mlambda\u001b[0m \u001b[0mx\u001b[0m\u001b[0;34m:\u001b[0m\u001b[0mx\u001b[0m\u001b[0;34m.\u001b[0m\u001b[0mshape\u001b[0m\u001b[0;34m,\u001b[0m \u001b[0mxb\u001b[0m\u001b[0;34m)\u001b[0m\u001b[0;34m,\u001b[0m \u001b[0mbs\u001b[0m\u001b[0;34m)\u001b[0m\u001b[0;34m\u001b[0m\u001b[0;34m\u001b[0m\u001b[0m\n",
            "\u001b[0;32m/usr/local/lib/python3.7/dist-packages/fastai/callback/hook.py\u001b[0m in \u001b[0;36mlayer_info\u001b[0;34m(learn, *xb)\u001b[0m\n\u001b[1;32m    157\u001b[0m         \u001b[0mtrain_only_cbs\u001b[0m \u001b[0;34m=\u001b[0m \u001b[0;34m[\u001b[0m\u001b[0mcb\u001b[0m \u001b[0;32mfor\u001b[0m \u001b[0mcb\u001b[0m \u001b[0;32min\u001b[0m \u001b[0mlearn\u001b[0m\u001b[0;34m.\u001b[0m\u001b[0mcbs\u001b[0m \u001b[0;32mif\u001b[0m \u001b[0mhasattr\u001b[0m\u001b[0;34m(\u001b[0m\u001b[0mcb\u001b[0m\u001b[0;34m,\u001b[0m \u001b[0;34m'_only_train_loop'\u001b[0m\u001b[0;34m)\u001b[0m\u001b[0;34m]\u001b[0m\u001b[0;34m\u001b[0m\u001b[0;34m\u001b[0m\u001b[0m\n\u001b[1;32m    158\u001b[0m         \u001b[0;32mwith\u001b[0m \u001b[0mlearn\u001b[0m\u001b[0;34m.\u001b[0m\u001b[0mremoved_cbs\u001b[0m\u001b[0;34m(\u001b[0m\u001b[0mtrain_only_cbs\u001b[0m\u001b[0;34m)\u001b[0m\u001b[0;34m,\u001b[0m \u001b[0mlearn\u001b[0m\u001b[0;34m.\u001b[0m\u001b[0mno_logging\u001b[0m\u001b[0;34m(\u001b[0m\u001b[0;34m)\u001b[0m\u001b[0;34m,\u001b[0m \u001b[0mlearn\u001b[0m \u001b[0;32mas\u001b[0m \u001b[0ml\u001b[0m\u001b[0;34m:\u001b[0m\u001b[0;34m\u001b[0m\u001b[0;34m\u001b[0m\u001b[0m\n\u001b[0;32m--> 159\u001b[0;31m             \u001b[0mr\u001b[0m \u001b[0;34m=\u001b[0m \u001b[0ml\u001b[0m\u001b[0;34m.\u001b[0m\u001b[0mget_preds\u001b[0m\u001b[0;34m(\u001b[0m\u001b[0mdl\u001b[0m\u001b[0;34m=\u001b[0m\u001b[0;34m[\u001b[0m\u001b[0mbatch\u001b[0m\u001b[0;34m]\u001b[0m\u001b[0;34m,\u001b[0m \u001b[0minner\u001b[0m\u001b[0;34m=\u001b[0m\u001b[0;32mTrue\u001b[0m\u001b[0;34m,\u001b[0m \u001b[0mreorder\u001b[0m\u001b[0;34m=\u001b[0m\u001b[0;32mFalse\u001b[0m\u001b[0;34m)\u001b[0m\u001b[0;34m\u001b[0m\u001b[0;34m\u001b[0m\u001b[0m\n\u001b[0m\u001b[1;32m    160\u001b[0m         \u001b[0;32mreturn\u001b[0m \u001b[0mh\u001b[0m\u001b[0;34m.\u001b[0m\u001b[0mstored\u001b[0m\u001b[0;34m\u001b[0m\u001b[0;34m\u001b[0m\u001b[0m\n\u001b[1;32m    161\u001b[0m \u001b[0;34m\u001b[0m\u001b[0m\n",
            "\u001b[0;32m/usr/local/lib/python3.7/dist-packages/fastai/learner.py\u001b[0m in \u001b[0;36mget_preds\u001b[0;34m(self, ds_idx, dl, with_input, with_decoded, with_loss, act, inner, reorder, cbs, **kwargs)\u001b[0m\n\u001b[1;32m    253\u001b[0m         \u001b[0;32mif\u001b[0m \u001b[0mwith_loss\u001b[0m\u001b[0;34m:\u001b[0m \u001b[0mctx_mgrs\u001b[0m\u001b[0;34m.\u001b[0m\u001b[0mappend\u001b[0m\u001b[0;34m(\u001b[0m\u001b[0mself\u001b[0m\u001b[0;34m.\u001b[0m\u001b[0mloss_not_reduced\u001b[0m\u001b[0;34m(\u001b[0m\u001b[0;34m)\u001b[0m\u001b[0;34m)\u001b[0m\u001b[0;34m\u001b[0m\u001b[0;34m\u001b[0m\u001b[0m\n\u001b[1;32m    254\u001b[0m         \u001b[0;32mwith\u001b[0m \u001b[0mContextManagers\u001b[0m\u001b[0;34m(\u001b[0m\u001b[0mctx_mgrs\u001b[0m\u001b[0;34m)\u001b[0m\u001b[0;34m:\u001b[0m\u001b[0;34m\u001b[0m\u001b[0;34m\u001b[0m\u001b[0m\n\u001b[0;32m--> 255\u001b[0;31m             \u001b[0mself\u001b[0m\u001b[0;34m.\u001b[0m\u001b[0m_do_epoch_validate\u001b[0m\u001b[0;34m(\u001b[0m\u001b[0mdl\u001b[0m\u001b[0;34m=\u001b[0m\u001b[0mdl\u001b[0m\u001b[0;34m)\u001b[0m\u001b[0;34m\u001b[0m\u001b[0;34m\u001b[0m\u001b[0m\n\u001b[0m\u001b[1;32m    256\u001b[0m             \u001b[0;32mif\u001b[0m \u001b[0mact\u001b[0m \u001b[0;32mis\u001b[0m \u001b[0;32mNone\u001b[0m\u001b[0;34m:\u001b[0m \u001b[0mact\u001b[0m \u001b[0;34m=\u001b[0m \u001b[0mgetattr\u001b[0m\u001b[0;34m(\u001b[0m\u001b[0mself\u001b[0m\u001b[0;34m.\u001b[0m\u001b[0mloss_func\u001b[0m\u001b[0;34m,\u001b[0m \u001b[0;34m'activation'\u001b[0m\u001b[0;34m,\u001b[0m \u001b[0mnoop\u001b[0m\u001b[0;34m)\u001b[0m\u001b[0;34m\u001b[0m\u001b[0;34m\u001b[0m\u001b[0m\n\u001b[1;32m    257\u001b[0m             \u001b[0mres\u001b[0m \u001b[0;34m=\u001b[0m \u001b[0mcb\u001b[0m\u001b[0;34m.\u001b[0m\u001b[0mall_tensors\u001b[0m\u001b[0;34m(\u001b[0m\u001b[0;34m)\u001b[0m\u001b[0;34m\u001b[0m\u001b[0;34m\u001b[0m\u001b[0m\n",
            "\u001b[0;32m/usr/local/lib/python3.7/dist-packages/fastai/learner.py\u001b[0m in \u001b[0;36m_do_epoch_validate\u001b[0;34m(self, ds_idx, dl)\u001b[0m\n\u001b[1;32m    201\u001b[0m         \u001b[0;32mif\u001b[0m \u001b[0mdl\u001b[0m \u001b[0;32mis\u001b[0m \u001b[0;32mNone\u001b[0m\u001b[0;34m:\u001b[0m \u001b[0mdl\u001b[0m \u001b[0;34m=\u001b[0m \u001b[0mself\u001b[0m\u001b[0;34m.\u001b[0m\u001b[0mdls\u001b[0m\u001b[0;34m[\u001b[0m\u001b[0mds_idx\u001b[0m\u001b[0;34m]\u001b[0m\u001b[0;34m\u001b[0m\u001b[0;34m\u001b[0m\u001b[0m\n\u001b[1;32m    202\u001b[0m         \u001b[0mself\u001b[0m\u001b[0;34m.\u001b[0m\u001b[0mdl\u001b[0m \u001b[0;34m=\u001b[0m \u001b[0mdl\u001b[0m\u001b[0;34m\u001b[0m\u001b[0;34m\u001b[0m\u001b[0m\n\u001b[0;32m--> 203\u001b[0;31m         \u001b[0;32mwith\u001b[0m \u001b[0mtorch\u001b[0m\u001b[0;34m.\u001b[0m\u001b[0mno_grad\u001b[0m\u001b[0;34m(\u001b[0m\u001b[0;34m)\u001b[0m\u001b[0;34m:\u001b[0m \u001b[0mself\u001b[0m\u001b[0;34m.\u001b[0m\u001b[0m_with_events\u001b[0m\u001b[0;34m(\u001b[0m\u001b[0mself\u001b[0m\u001b[0;34m.\u001b[0m\u001b[0mall_batches\u001b[0m\u001b[0;34m,\u001b[0m \u001b[0;34m'validate'\u001b[0m\u001b[0;34m,\u001b[0m \u001b[0mCancelValidException\u001b[0m\u001b[0;34m)\u001b[0m\u001b[0;34m\u001b[0m\u001b[0;34m\u001b[0m\u001b[0m\n\u001b[0m\u001b[1;32m    204\u001b[0m \u001b[0;34m\u001b[0m\u001b[0m\n\u001b[1;32m    205\u001b[0m     \u001b[0;32mdef\u001b[0m \u001b[0m_do_epoch\u001b[0m\u001b[0;34m(\u001b[0m\u001b[0mself\u001b[0m\u001b[0;34m)\u001b[0m\u001b[0;34m:\u001b[0m\u001b[0;34m\u001b[0m\u001b[0;34m\u001b[0m\u001b[0m\n",
            "\u001b[0;32m/usr/local/lib/python3.7/dist-packages/fastai/learner.py\u001b[0m in \u001b[0;36m_with_events\u001b[0;34m(self, f, event_type, ex, final)\u001b[0m\n\u001b[1;32m    161\u001b[0m \u001b[0;34m\u001b[0m\u001b[0m\n\u001b[1;32m    162\u001b[0m     \u001b[0;32mdef\u001b[0m \u001b[0m_with_events\u001b[0m\u001b[0;34m(\u001b[0m\u001b[0mself\u001b[0m\u001b[0;34m,\u001b[0m \u001b[0mf\u001b[0m\u001b[0;34m,\u001b[0m \u001b[0mevent_type\u001b[0m\u001b[0;34m,\u001b[0m \u001b[0mex\u001b[0m\u001b[0;34m,\u001b[0m \u001b[0mfinal\u001b[0m\u001b[0;34m=\u001b[0m\u001b[0mnoop\u001b[0m\u001b[0;34m)\u001b[0m\u001b[0;34m:\u001b[0m\u001b[0;34m\u001b[0m\u001b[0;34m\u001b[0m\u001b[0m\n\u001b[0;32m--> 163\u001b[0;31m         \u001b[0;32mtry\u001b[0m\u001b[0;34m:\u001b[0m \u001b[0mself\u001b[0m\u001b[0;34m(\u001b[0m\u001b[0;34mf'before_{event_type}'\u001b[0m\u001b[0;34m)\u001b[0m\u001b[0;34m;\u001b[0m  \u001b[0mf\u001b[0m\u001b[0;34m(\u001b[0m\u001b[0;34m)\u001b[0m\u001b[0;34m\u001b[0m\u001b[0;34m\u001b[0m\u001b[0m\n\u001b[0m\u001b[1;32m    164\u001b[0m         \u001b[0;32mexcept\u001b[0m \u001b[0mex\u001b[0m\u001b[0;34m:\u001b[0m \u001b[0mself\u001b[0m\u001b[0;34m(\u001b[0m\u001b[0;34mf'after_cancel_{event_type}'\u001b[0m\u001b[0;34m)\u001b[0m\u001b[0;34m\u001b[0m\u001b[0;34m\u001b[0m\u001b[0m\n\u001b[1;32m    165\u001b[0m         \u001b[0mself\u001b[0m\u001b[0;34m(\u001b[0m\u001b[0;34mf'after_{event_type}'\u001b[0m\u001b[0;34m)\u001b[0m\u001b[0;34m;\u001b[0m  \u001b[0mfinal\u001b[0m\u001b[0;34m(\u001b[0m\u001b[0;34m)\u001b[0m\u001b[0;34m\u001b[0m\u001b[0;34m\u001b[0m\u001b[0m\n",
            "\u001b[0;32m/usr/local/lib/python3.7/dist-packages/fastai/learner.py\u001b[0m in \u001b[0;36mall_batches\u001b[0;34m(self)\u001b[0m\n\u001b[1;32m    167\u001b[0m     \u001b[0;32mdef\u001b[0m \u001b[0mall_batches\u001b[0m\u001b[0;34m(\u001b[0m\u001b[0mself\u001b[0m\u001b[0;34m)\u001b[0m\u001b[0;34m:\u001b[0m\u001b[0;34m\u001b[0m\u001b[0;34m\u001b[0m\u001b[0m\n\u001b[1;32m    168\u001b[0m         \u001b[0mself\u001b[0m\u001b[0;34m.\u001b[0m\u001b[0mn_iter\u001b[0m \u001b[0;34m=\u001b[0m \u001b[0mlen\u001b[0m\u001b[0;34m(\u001b[0m\u001b[0mself\u001b[0m\u001b[0;34m.\u001b[0m\u001b[0mdl\u001b[0m\u001b[0;34m)\u001b[0m\u001b[0;34m\u001b[0m\u001b[0;34m\u001b[0m\u001b[0m\n\u001b[0;32m--> 169\u001b[0;31m         \u001b[0;32mfor\u001b[0m \u001b[0mo\u001b[0m \u001b[0;32min\u001b[0m \u001b[0menumerate\u001b[0m\u001b[0;34m(\u001b[0m\u001b[0mself\u001b[0m\u001b[0;34m.\u001b[0m\u001b[0mdl\u001b[0m\u001b[0;34m)\u001b[0m\u001b[0;34m:\u001b[0m \u001b[0mself\u001b[0m\u001b[0;34m.\u001b[0m\u001b[0mone_batch\u001b[0m\u001b[0;34m(\u001b[0m\u001b[0;34m*\u001b[0m\u001b[0mo\u001b[0m\u001b[0;34m)\u001b[0m\u001b[0;34m\u001b[0m\u001b[0;34m\u001b[0m\u001b[0m\n\u001b[0m\u001b[1;32m    170\u001b[0m \u001b[0;34m\u001b[0m\u001b[0m\n\u001b[1;32m    171\u001b[0m     \u001b[0;32mdef\u001b[0m \u001b[0m_do_one_batch\u001b[0m\u001b[0;34m(\u001b[0m\u001b[0mself\u001b[0m\u001b[0;34m)\u001b[0m\u001b[0;34m:\u001b[0m\u001b[0;34m\u001b[0m\u001b[0;34m\u001b[0m\u001b[0m\n",
            "\u001b[0;32m/usr/local/lib/python3.7/dist-packages/fastai/learner.py\u001b[0m in \u001b[0;36mone_batch\u001b[0;34m(self, i, b)\u001b[0m\n\u001b[1;32m    192\u001b[0m         \u001b[0mb\u001b[0m \u001b[0;34m=\u001b[0m \u001b[0mself\u001b[0m\u001b[0;34m.\u001b[0m\u001b[0m_set_device\u001b[0m\u001b[0;34m(\u001b[0m\u001b[0mb\u001b[0m\u001b[0;34m)\u001b[0m\u001b[0;34m\u001b[0m\u001b[0;34m\u001b[0m\u001b[0m\n\u001b[1;32m    193\u001b[0m         \u001b[0mself\u001b[0m\u001b[0;34m.\u001b[0m\u001b[0m_split\u001b[0m\u001b[0;34m(\u001b[0m\u001b[0mb\u001b[0m\u001b[0;34m)\u001b[0m\u001b[0;34m\u001b[0m\u001b[0;34m\u001b[0m\u001b[0m\n\u001b[0;32m--> 194\u001b[0;31m         \u001b[0mself\u001b[0m\u001b[0;34m.\u001b[0m\u001b[0m_with_events\u001b[0m\u001b[0;34m(\u001b[0m\u001b[0mself\u001b[0m\u001b[0;34m.\u001b[0m\u001b[0m_do_one_batch\u001b[0m\u001b[0;34m,\u001b[0m \u001b[0;34m'batch'\u001b[0m\u001b[0;34m,\u001b[0m \u001b[0mCancelBatchException\u001b[0m\u001b[0;34m)\u001b[0m\u001b[0;34m\u001b[0m\u001b[0;34m\u001b[0m\u001b[0m\n\u001b[0m\u001b[1;32m    195\u001b[0m \u001b[0;34m\u001b[0m\u001b[0m\n\u001b[1;32m    196\u001b[0m     \u001b[0;32mdef\u001b[0m \u001b[0m_do_epoch_train\u001b[0m\u001b[0;34m(\u001b[0m\u001b[0mself\u001b[0m\u001b[0;34m)\u001b[0m\u001b[0;34m:\u001b[0m\u001b[0;34m\u001b[0m\u001b[0;34m\u001b[0m\u001b[0m\n",
            "\u001b[0;32m/usr/local/lib/python3.7/dist-packages/fastai/learner.py\u001b[0m in \u001b[0;36m_with_events\u001b[0;34m(self, f, event_type, ex, final)\u001b[0m\n\u001b[1;32m    161\u001b[0m \u001b[0;34m\u001b[0m\u001b[0m\n\u001b[1;32m    162\u001b[0m     \u001b[0;32mdef\u001b[0m \u001b[0m_with_events\u001b[0m\u001b[0;34m(\u001b[0m\u001b[0mself\u001b[0m\u001b[0;34m,\u001b[0m \u001b[0mf\u001b[0m\u001b[0;34m,\u001b[0m \u001b[0mevent_type\u001b[0m\u001b[0;34m,\u001b[0m \u001b[0mex\u001b[0m\u001b[0;34m,\u001b[0m \u001b[0mfinal\u001b[0m\u001b[0;34m=\u001b[0m\u001b[0mnoop\u001b[0m\u001b[0;34m)\u001b[0m\u001b[0;34m:\u001b[0m\u001b[0;34m\u001b[0m\u001b[0;34m\u001b[0m\u001b[0m\n\u001b[0;32m--> 163\u001b[0;31m         \u001b[0;32mtry\u001b[0m\u001b[0;34m:\u001b[0m \u001b[0mself\u001b[0m\u001b[0;34m(\u001b[0m\u001b[0;34mf'before_{event_type}'\u001b[0m\u001b[0;34m)\u001b[0m\u001b[0;34m;\u001b[0m  \u001b[0mf\u001b[0m\u001b[0;34m(\u001b[0m\u001b[0;34m)\u001b[0m\u001b[0;34m\u001b[0m\u001b[0;34m\u001b[0m\u001b[0m\n\u001b[0m\u001b[1;32m    164\u001b[0m         \u001b[0;32mexcept\u001b[0m \u001b[0mex\u001b[0m\u001b[0;34m:\u001b[0m \u001b[0mself\u001b[0m\u001b[0;34m(\u001b[0m\u001b[0;34mf'after_cancel_{event_type}'\u001b[0m\u001b[0;34m)\u001b[0m\u001b[0;34m\u001b[0m\u001b[0;34m\u001b[0m\u001b[0m\n\u001b[1;32m    165\u001b[0m         \u001b[0mself\u001b[0m\u001b[0;34m(\u001b[0m\u001b[0;34mf'after_{event_type}'\u001b[0m\u001b[0;34m)\u001b[0m\u001b[0;34m;\u001b[0m  \u001b[0mfinal\u001b[0m\u001b[0;34m(\u001b[0m\u001b[0;34m)\u001b[0m\u001b[0;34m\u001b[0m\u001b[0;34m\u001b[0m\u001b[0m\n",
            "\u001b[0;32m/usr/local/lib/python3.7/dist-packages/fastai/learner.py\u001b[0m in \u001b[0;36m_do_one_batch\u001b[0;34m(self)\u001b[0m\n\u001b[1;32m    170\u001b[0m \u001b[0;34m\u001b[0m\u001b[0m\n\u001b[1;32m    171\u001b[0m     \u001b[0;32mdef\u001b[0m \u001b[0m_do_one_batch\u001b[0m\u001b[0;34m(\u001b[0m\u001b[0mself\u001b[0m\u001b[0;34m)\u001b[0m\u001b[0;34m:\u001b[0m\u001b[0;34m\u001b[0m\u001b[0;34m\u001b[0m\u001b[0m\n\u001b[0;32m--> 172\u001b[0;31m         \u001b[0mself\u001b[0m\u001b[0;34m.\u001b[0m\u001b[0mpred\u001b[0m \u001b[0;34m=\u001b[0m \u001b[0mself\u001b[0m\u001b[0;34m.\u001b[0m\u001b[0mmodel\u001b[0m\u001b[0;34m(\u001b[0m\u001b[0;34m*\u001b[0m\u001b[0mself\u001b[0m\u001b[0;34m.\u001b[0m\u001b[0mxb\u001b[0m\u001b[0;34m)\u001b[0m\u001b[0;34m\u001b[0m\u001b[0;34m\u001b[0m\u001b[0m\n\u001b[0m\u001b[1;32m    173\u001b[0m         \u001b[0mself\u001b[0m\u001b[0;34m(\u001b[0m\u001b[0;34m'after_pred'\u001b[0m\u001b[0;34m)\u001b[0m\u001b[0;34m\u001b[0m\u001b[0;34m\u001b[0m\u001b[0m\n\u001b[1;32m    174\u001b[0m         \u001b[0;32mif\u001b[0m \u001b[0mlen\u001b[0m\u001b[0;34m(\u001b[0m\u001b[0mself\u001b[0m\u001b[0;34m.\u001b[0m\u001b[0myb\u001b[0m\u001b[0;34m)\u001b[0m\u001b[0;34m:\u001b[0m\u001b[0;34m\u001b[0m\u001b[0;34m\u001b[0m\u001b[0m\n",
            "\u001b[0;32m/usr/local/lib/python3.7/dist-packages/torch/nn/modules/module.py\u001b[0m in \u001b[0;36m_call_impl\u001b[0;34m(self, *input, **kwargs)\u001b[0m\n\u001b[1;32m   1108\u001b[0m         if not (self._backward_hooks or self._forward_hooks or self._forward_pre_hooks or _global_backward_hooks\n\u001b[1;32m   1109\u001b[0m                 or _global_forward_hooks or _global_forward_pre_hooks):\n\u001b[0;32m-> 1110\u001b[0;31m             \u001b[0;32mreturn\u001b[0m \u001b[0mforward_call\u001b[0m\u001b[0;34m(\u001b[0m\u001b[0;34m*\u001b[0m\u001b[0minput\u001b[0m\u001b[0;34m,\u001b[0m \u001b[0;34m**\u001b[0m\u001b[0mkwargs\u001b[0m\u001b[0;34m)\u001b[0m\u001b[0;34m\u001b[0m\u001b[0;34m\u001b[0m\u001b[0m\n\u001b[0m\u001b[1;32m   1111\u001b[0m         \u001b[0;31m# Do not call functions when jit is used\u001b[0m\u001b[0;34m\u001b[0m\u001b[0;34m\u001b[0m\u001b[0;34m\u001b[0m\u001b[0m\n\u001b[1;32m   1112\u001b[0m         \u001b[0mfull_backward_hooks\u001b[0m\u001b[0;34m,\u001b[0m \u001b[0mnon_full_backward_hooks\u001b[0m \u001b[0;34m=\u001b[0m \u001b[0;34m[\u001b[0m\u001b[0;34m]\u001b[0m\u001b[0;34m,\u001b[0m \u001b[0;34m[\u001b[0m\u001b[0;34m]\u001b[0m\u001b[0;34m\u001b[0m\u001b[0;34m\u001b[0m\u001b[0m\n",
            "\u001b[0;32m/usr/local/lib/python3.7/dist-packages/fastai/layers.py\u001b[0m in \u001b[0;36mforward\u001b[0;34m(self, x)\u001b[0m\n\u001b[1;32m    405\u001b[0m         \u001b[0;32mfor\u001b[0m \u001b[0ml\u001b[0m \u001b[0;32min\u001b[0m \u001b[0mself\u001b[0m\u001b[0;34m.\u001b[0m\u001b[0mlayers\u001b[0m\u001b[0;34m:\u001b[0m\u001b[0;34m\u001b[0m\u001b[0;34m\u001b[0m\u001b[0m\n\u001b[1;32m    406\u001b[0m             \u001b[0mres\u001b[0m\u001b[0;34m.\u001b[0m\u001b[0morig\u001b[0m \u001b[0;34m=\u001b[0m \u001b[0mx\u001b[0m\u001b[0;34m\u001b[0m\u001b[0;34m\u001b[0m\u001b[0m\n\u001b[0;32m--> 407\u001b[0;31m             \u001b[0mnres\u001b[0m \u001b[0;34m=\u001b[0m \u001b[0ml\u001b[0m\u001b[0;34m(\u001b[0m\u001b[0mres\u001b[0m\u001b[0;34m)\u001b[0m\u001b[0;34m\u001b[0m\u001b[0;34m\u001b[0m\u001b[0m\n\u001b[0m\u001b[1;32m    408\u001b[0m             \u001b[0;31m# We have to remove res.orig to avoid hanging refs and therefore memory leaks\u001b[0m\u001b[0;34m\u001b[0m\u001b[0;34m\u001b[0m\u001b[0;34m\u001b[0m\u001b[0m\n\u001b[1;32m    409\u001b[0m             \u001b[0mres\u001b[0m\u001b[0;34m.\u001b[0m\u001b[0morig\u001b[0m\u001b[0;34m,\u001b[0m \u001b[0mnres\u001b[0m\u001b[0;34m.\u001b[0m\u001b[0morig\u001b[0m \u001b[0;34m=\u001b[0m \u001b[0;32mNone\u001b[0m\u001b[0;34m,\u001b[0m \u001b[0;32mNone\u001b[0m\u001b[0;34m\u001b[0m\u001b[0;34m\u001b[0m\u001b[0m\n",
            "\u001b[0;32m/usr/local/lib/python3.7/dist-packages/torch/nn/modules/module.py\u001b[0m in \u001b[0;36m_call_impl\u001b[0;34m(self, *input, **kwargs)\u001b[0m\n\u001b[1;32m   1108\u001b[0m         if not (self._backward_hooks or self._forward_hooks or self._forward_pre_hooks or _global_backward_hooks\n\u001b[1;32m   1109\u001b[0m                 or _global_forward_hooks or _global_forward_pre_hooks):\n\u001b[0;32m-> 1110\u001b[0;31m             \u001b[0;32mreturn\u001b[0m \u001b[0mforward_call\u001b[0m\u001b[0;34m(\u001b[0m\u001b[0;34m*\u001b[0m\u001b[0minput\u001b[0m\u001b[0;34m,\u001b[0m \u001b[0;34m**\u001b[0m\u001b[0mkwargs\u001b[0m\u001b[0;34m)\u001b[0m\u001b[0;34m\u001b[0m\u001b[0;34m\u001b[0m\u001b[0m\n\u001b[0m\u001b[1;32m   1111\u001b[0m         \u001b[0;31m# Do not call functions when jit is used\u001b[0m\u001b[0;34m\u001b[0m\u001b[0;34m\u001b[0m\u001b[0;34m\u001b[0m\u001b[0m\n\u001b[1;32m   1112\u001b[0m         \u001b[0mfull_backward_hooks\u001b[0m\u001b[0;34m,\u001b[0m \u001b[0mnon_full_backward_hooks\u001b[0m \u001b[0;34m=\u001b[0m \u001b[0;34m[\u001b[0m\u001b[0;34m]\u001b[0m\u001b[0;34m,\u001b[0m \u001b[0;34m[\u001b[0m\u001b[0;34m]\u001b[0m\u001b[0;34m\u001b[0m\u001b[0;34m\u001b[0m\u001b[0m\n",
            "\u001b[0;32m/usr/local/lib/python3.7/dist-packages/torch/nn/modules/container.py\u001b[0m in \u001b[0;36mforward\u001b[0;34m(self, input)\u001b[0m\n\u001b[1;32m    139\u001b[0m     \u001b[0;32mdef\u001b[0m \u001b[0mforward\u001b[0m\u001b[0;34m(\u001b[0m\u001b[0mself\u001b[0m\u001b[0;34m,\u001b[0m \u001b[0minput\u001b[0m\u001b[0;34m)\u001b[0m\u001b[0;34m:\u001b[0m\u001b[0;34m\u001b[0m\u001b[0;34m\u001b[0m\u001b[0m\n\u001b[1;32m    140\u001b[0m         \u001b[0;32mfor\u001b[0m \u001b[0mmodule\u001b[0m \u001b[0;32min\u001b[0m \u001b[0mself\u001b[0m\u001b[0;34m:\u001b[0m\u001b[0;34m\u001b[0m\u001b[0;34m\u001b[0m\u001b[0m\n\u001b[0;32m--> 141\u001b[0;31m             \u001b[0minput\u001b[0m \u001b[0;34m=\u001b[0m \u001b[0mmodule\u001b[0m\u001b[0;34m(\u001b[0m\u001b[0minput\u001b[0m\u001b[0;34m)\u001b[0m\u001b[0;34m\u001b[0m\u001b[0;34m\u001b[0m\u001b[0m\n\u001b[0m\u001b[1;32m    142\u001b[0m         \u001b[0;32mreturn\u001b[0m \u001b[0minput\u001b[0m\u001b[0;34m\u001b[0m\u001b[0;34m\u001b[0m\u001b[0m\n\u001b[1;32m    143\u001b[0m \u001b[0;34m\u001b[0m\u001b[0m\n",
            "\u001b[0;32m/usr/local/lib/python3.7/dist-packages/torch/nn/modules/module.py\u001b[0m in \u001b[0;36m_call_impl\u001b[0;34m(self, *input, **kwargs)\u001b[0m\n\u001b[1;32m   1108\u001b[0m         if not (self._backward_hooks or self._forward_hooks or self._forward_pre_hooks or _global_backward_hooks\n\u001b[1;32m   1109\u001b[0m                 or _global_forward_hooks or _global_forward_pre_hooks):\n\u001b[0;32m-> 1110\u001b[0;31m             \u001b[0;32mreturn\u001b[0m \u001b[0mforward_call\u001b[0m\u001b[0;34m(\u001b[0m\u001b[0;34m*\u001b[0m\u001b[0minput\u001b[0m\u001b[0;34m,\u001b[0m \u001b[0;34m**\u001b[0m\u001b[0mkwargs\u001b[0m\u001b[0;34m)\u001b[0m\u001b[0;34m\u001b[0m\u001b[0;34m\u001b[0m\u001b[0m\n\u001b[0m\u001b[1;32m   1111\u001b[0m         \u001b[0;31m# Do not call functions when jit is used\u001b[0m\u001b[0;34m\u001b[0m\u001b[0;34m\u001b[0m\u001b[0;34m\u001b[0m\u001b[0m\n\u001b[1;32m   1112\u001b[0m         \u001b[0mfull_backward_hooks\u001b[0m\u001b[0;34m,\u001b[0m \u001b[0mnon_full_backward_hooks\u001b[0m \u001b[0;34m=\u001b[0m \u001b[0;34m[\u001b[0m\u001b[0;34m]\u001b[0m\u001b[0;34m,\u001b[0m \u001b[0;34m[\u001b[0m\u001b[0;34m]\u001b[0m\u001b[0;34m\u001b[0m\u001b[0;34m\u001b[0m\u001b[0m\n",
            "\u001b[0;31mTypeError\u001b[0m: forward() missing 1 required positional argument: 'logits'"
          ]
        }
      ],
      "source": [
        "learn.summary()"
      ]
    },
    {
      "cell_type": "code",
      "execution_count": null,
      "metadata": {
        "colab": {
          "base_uri": "https://localhost:8080/"
        },
        "id": "g8dQ11-RzHys",
        "outputId": "f15e5687-69d4-4eb2-e319-3c18812c74bd"
      },
      "outputs": [
        {
          "output_type": "stream",
          "name": "stdout",
          "text": [
            "date and time = 26/04/2022 18:00:25\n"
          ]
        }
      ],
      "source": [
        "from datetime import datetime\n",
        "now = datetime.now()\n",
        "# dd/mm/YY H:M:S\n",
        "dt_string = now.strftime(\"%d/%m/%Y %H:%M:%S\")\n",
        "print(\"date and time =\", dt_string)"
      ]
    },
    {
      "cell_type": "code",
      "execution_count": null,
      "metadata": {
        "colab": {
          "base_uri": "https://localhost:8080/",
          "height": 283
        },
        "id": "wo-VD6WkZyXa",
        "outputId": "1a4b2899-5abb-4038-9c6d-2986a0bd60b5"
      },
      "outputs": [
        {
          "output_type": "display_data",
          "data": {
            "text/plain": [
              "<IPython.core.display.HTML object>"
            ],
            "text/html": [
              "\n",
              "<style>\n",
              "    /* Turns off some styling */\n",
              "    progress {\n",
              "        /* gets rid of default border in Firefox and Opera. */\n",
              "        border: none;\n",
              "        /* Needs to be in here for Safari polyfill so background images work as expected. */\n",
              "        background-size: auto;\n",
              "    }\n",
              "    .progress-bar-interrupted, .progress-bar-interrupted::-webkit-progress-bar {\n",
              "        background: #F44336;\n",
              "    }\n",
              "</style>\n"
            ]
          },
          "metadata": {}
        },
        {
          "output_type": "display_data",
          "data": {
            "text/plain": [
              "<IPython.core.display.HTML object>"
            ],
            "text/html": [
              ""
            ]
          },
          "metadata": {}
        },
        {
          "output_type": "display_data",
          "data": {
            "text/plain": [
              "<Figure size 432x288 with 1 Axes>"
            ],
            "image/png": "[encoded data removed]"
          },
          "metadata": {
            "needs_background": "light"
          }
        }
      ],
      "source": [
        "# if(INFERECE_MODE):\n",
        "#   print('Inference mode: skipping training, loading model states dict...')\n",
        "#   learn.load_state_dict(torch.load(final_states_dict_file))\n",
        "# else:\n",
        "# learn.unfreeze()\n",
        "l = learn.lr_find()"
      ]
    },
    {
      "cell_type": "code",
      "execution_count": null,
      "metadata": {
        "colab": {
          "base_uri": "https://localhost:8080/"
        },
        "id": "1Si14iUrVTgB",
        "outputId": "c062e6fd-0fa6-4a51-d9f3-c08d644ae739"
      },
      "outputs": [
        {
          "output_type": "stream",
          "name": "stdout",
          "text": [
            "0.00013182566908653826\n"
          ]
        }
      ],
      "source": [
        "min_grad_lr = l.valley\n",
        "print(min_grad_lr)"
      ]
    },
    {
      "cell_type": "code",
      "execution_count": null,
      "metadata": {
        "id": "H4oU9FzV3sqh"
      },
      "outputs": [],
      "source": [
        "# learn.unfreeze()\n",
        "# learn.fit_one_cycle(num_epochs,min_grad_lr,\n",
        "#                     cbs=[SaveModelCallback(),\n",
        "#                     EarlyStoppingCallback(monitor='valid_loss', patience=15)])"
      ]
    },
    {
      "cell_type": "code",
      "execution_count": null,
      "metadata": {
        "colab": {
          "base_uri": "https://localhost:8080/",
          "height": 1000
        },
        "id": "MdTOcUqK6MGb",
        "outputId": "77b359bb-eae7-44aa-cac3-3ec4164d68a1"
      },
      "outputs": [
        {
          "output_type": "display_data",
          "data": {
            "text/plain": [
              "<IPython.core.display.HTML object>"
            ],
            "text/html": [
              "\n",
              "<style>\n",
              "    /* Turns off some styling */\n",
              "    progress {\n",
              "        /* gets rid of default border in Firefox and Opera. */\n",
              "        border: none;\n",
              "        /* Needs to be in here for Safari polyfill so background images work as expected. */\n",
              "        background-size: auto;\n",
              "    }\n",
              "    .progress-bar-interrupted, .progress-bar-interrupted::-webkit-progress-bar {\n",
              "        background: #F44336;\n",
              "    }\n",
              "</style>\n"
            ]
          },
          "metadata": {}
        },
        {
          "output_type": "display_data",
          "data": {
            "text/plain": [
              "<IPython.core.display.HTML object>"
            ],
            "text/html": [
              "<table border=\"1\" class=\"dataframe\">\n",
              "  <thead>\n",
              "    <tr style=\"text-align: left;\">\n",
              "      <th>epoch</th>\n",
              "      <th>train_loss</th>\n",
              "      <th>valid_loss</th>\n",
              "      <th>mse</th>\n",
              "      <th>time</th>\n",
              "    </tr>\n",
              "  </thead>\n",
              "  <tbody>\n",
              "    <tr>\n",
              "      <td>0</td>\n",
              "      <td>0.145652</td>\n",
              "      <td>0.130605</td>\n",
              "      <td>0.035209</td>\n",
              "      <td>00:21</td>\n",
              "    </tr>\n",
              "    <tr>\n",
              "      <td>1</td>\n",
              "      <td>0.105900</td>\n",
              "      <td>0.077536</td>\n",
              "      <td>0.013826</td>\n",
              "      <td>00:20</td>\n",
              "    </tr>\n",
              "    <tr>\n",
              "      <td>2</td>\n",
              "      <td>0.089504</td>\n",
              "      <td>0.071051</td>\n",
              "      <td>0.011599</td>\n",
              "      <td>00:20</td>\n",
              "    </tr>\n",
              "    <tr>\n",
              "      <td>3</td>\n",
              "      <td>0.078321</td>\n",
              "      <td>0.071646</td>\n",
              "      <td>0.011733</td>\n",
              "      <td>00:20</td>\n",
              "    </tr>\n",
              "    <tr>\n",
              "      <td>4</td>\n",
              "      <td>0.071911</td>\n",
              "      <td>0.070062</td>\n",
              "      <td>0.011272</td>\n",
              "      <td>00:20</td>\n",
              "    </tr>\n",
              "    <tr>\n",
              "      <td>5</td>\n",
              "      <td>0.070907</td>\n",
              "      <td>0.069510</td>\n",
              "      <td>0.011019</td>\n",
              "      <td>00:20</td>\n",
              "    </tr>\n",
              "    <tr>\n",
              "      <td>6</td>\n",
              "      <td>0.067515</td>\n",
              "      <td>0.078365</td>\n",
              "      <td>0.013213</td>\n",
              "      <td>00:20</td>\n",
              "    </tr>\n",
              "    <tr>\n",
              "      <td>7</td>\n",
              "      <td>0.062888</td>\n",
              "      <td>0.067245</td>\n",
              "      <td>0.010231</td>\n",
              "      <td>00:20</td>\n",
              "    </tr>\n",
              "    <tr>\n",
              "      <td>8</td>\n",
              "      <td>0.057605</td>\n",
              "      <td>0.067608</td>\n",
              "      <td>0.010421</td>\n",
              "      <td>00:20</td>\n",
              "    </tr>\n",
              "    <tr>\n",
              "      <td>9</td>\n",
              "      <td>0.054274</td>\n",
              "      <td>0.067843</td>\n",
              "      <td>0.010332</td>\n",
              "      <td>00:20</td>\n",
              "    </tr>\n",
              "    <tr>\n",
              "      <td>10</td>\n",
              "      <td>0.052011</td>\n",
              "      <td>0.067470</td>\n",
              "      <td>0.010345</td>\n",
              "      <td>00:20</td>\n",
              "    </tr>\n",
              "    <tr>\n",
              "      <td>11</td>\n",
              "      <td>0.049743</td>\n",
              "      <td>0.063662</td>\n",
              "      <td>0.009499</td>\n",
              "      <td>00:20</td>\n",
              "    </tr>\n",
              "    <tr>\n",
              "      <td>12</td>\n",
              "      <td>0.047101</td>\n",
              "      <td>0.064799</td>\n",
              "      <td>0.009183</td>\n",
              "      <td>00:20</td>\n",
              "    </tr>\n",
              "    <tr>\n",
              "      <td>13</td>\n",
              "      <td>0.045926</td>\n",
              "      <td>0.066922</td>\n",
              "      <td>0.010059</td>\n",
              "      <td>00:20</td>\n",
              "    </tr>\n",
              "    <tr>\n",
              "      <td>14</td>\n",
              "      <td>0.043389</td>\n",
              "      <td>0.063295</td>\n",
              "      <td>0.009005</td>\n",
              "      <td>00:20</td>\n",
              "    </tr>\n",
              "    <tr>\n",
              "      <td>15</td>\n",
              "      <td>0.041186</td>\n",
              "      <td>0.065514</td>\n",
              "      <td>0.009119</td>\n",
              "      <td>00:20</td>\n",
              "    </tr>\n",
              "    <tr>\n",
              "      <td>16</td>\n",
              "      <td>0.039652</td>\n",
              "      <td>0.061825</td>\n",
              "      <td>0.008676</td>\n",
              "      <td>00:20</td>\n",
              "    </tr>\n",
              "    <tr>\n",
              "      <td>17</td>\n",
              "      <td>0.038415</td>\n",
              "      <td>0.061579</td>\n",
              "      <td>0.008202</td>\n",
              "      <td>00:20</td>\n",
              "    </tr>\n",
              "    <tr>\n",
              "      <td>18</td>\n",
              "      <td>0.036990</td>\n",
              "      <td>0.063192</td>\n",
              "      <td>0.008587</td>\n",
              "      <td>00:20</td>\n",
              "    </tr>\n",
              "    <tr>\n",
              "      <td>19</td>\n",
              "      <td>0.034629</td>\n",
              "      <td>0.064493</td>\n",
              "      <td>0.009015</td>\n",
              "      <td>00:20</td>\n",
              "    </tr>\n",
              "    <tr>\n",
              "      <td>20</td>\n",
              "      <td>0.033297</td>\n",
              "      <td>0.063432</td>\n",
              "      <td>0.008511</td>\n",
              "      <td>00:20</td>\n",
              "    </tr>\n",
              "    <tr>\n",
              "      <td>21</td>\n",
              "      <td>0.032940</td>\n",
              "      <td>0.063315</td>\n",
              "      <td>0.009025</td>\n",
              "      <td>00:20</td>\n",
              "    </tr>\n",
              "    <tr>\n",
              "      <td>22</td>\n",
              "      <td>0.031747</td>\n",
              "      <td>0.062298</td>\n",
              "      <td>0.008755</td>\n",
              "      <td>00:20</td>\n",
              "    </tr>\n",
              "    <tr>\n",
              "      <td>23</td>\n",
              "      <td>0.032144</td>\n",
              "      <td>0.059477</td>\n",
              "      <td>0.007869</td>\n",
              "      <td>00:20</td>\n",
              "    </tr>\n",
              "    <tr>\n",
              "      <td>24</td>\n",
              "      <td>0.030841</td>\n",
              "      <td>0.060156</td>\n",
              "      <td>0.007915</td>\n",
              "      <td>00:20</td>\n",
              "    </tr>\n",
              "    <tr>\n",
              "      <td>25</td>\n",
              "      <td>0.029505</td>\n",
              "      <td>0.060396</td>\n",
              "      <td>0.007841</td>\n",
              "      <td>00:20</td>\n",
              "    </tr>\n",
              "    <tr>\n",
              "      <td>26</td>\n",
              "      <td>0.029535</td>\n",
              "      <td>0.059222</td>\n",
              "      <td>0.007547</td>\n",
              "      <td>00:20</td>\n",
              "    </tr>\n",
              "    <tr>\n",
              "      <td>27</td>\n",
              "      <td>0.028710</td>\n",
              "      <td>0.062509</td>\n",
              "      <td>0.008041</td>\n",
              "      <td>00:20</td>\n",
              "    </tr>\n",
              "    <tr>\n",
              "      <td>28</td>\n",
              "      <td>0.026942</td>\n",
              "      <td>0.060093</td>\n",
              "      <td>0.007982</td>\n",
              "      <td>00:20</td>\n",
              "    </tr>\n",
              "    <tr>\n",
              "      <td>29</td>\n",
              "      <td>0.027296</td>\n",
              "      <td>0.059831</td>\n",
              "      <td>0.007450</td>\n",
              "      <td>00:20</td>\n",
              "    </tr>\n",
              "    <tr>\n",
              "      <td>30</td>\n",
              "      <td>0.026547</td>\n",
              "      <td>0.058472</td>\n",
              "      <td>0.007144</td>\n",
              "      <td>00:20</td>\n",
              "    </tr>\n",
              "    <tr>\n",
              "      <td>31</td>\n",
              "      <td>0.025696</td>\n",
              "      <td>0.059862</td>\n",
              "      <td>0.007293</td>\n",
              "      <td>00:20</td>\n",
              "    </tr>\n",
              "    <tr>\n",
              "      <td>32</td>\n",
              "      <td>0.025503</td>\n",
              "      <td>0.057387</td>\n",
              "      <td>0.007145</td>\n",
              "      <td>00:20</td>\n",
              "    </tr>\n",
              "    <tr>\n",
              "      <td>33</td>\n",
              "      <td>0.025529</td>\n",
              "      <td>0.059144</td>\n",
              "      <td>0.007620</td>\n",
              "      <td>00:20</td>\n",
              "    </tr>\n",
              "    <tr>\n",
              "      <td>34</td>\n",
              "      <td>0.024911</td>\n",
              "      <td>0.061296</td>\n",
              "      <td>0.008075</td>\n",
              "      <td>00:20</td>\n",
              "    </tr>\n",
              "    <tr>\n",
              "      <td>35</td>\n",
              "      <td>0.024942</td>\n",
              "      <td>0.057482</td>\n",
              "      <td>0.007043</td>\n",
              "      <td>00:20</td>\n",
              "    </tr>\n",
              "    <tr>\n",
              "      <td>36</td>\n",
              "      <td>0.024594</td>\n",
              "      <td>0.057239</td>\n",
              "      <td>0.007306</td>\n",
              "      <td>00:20</td>\n",
              "    </tr>\n",
              "    <tr>\n",
              "      <td>37</td>\n",
              "      <td>0.023905</td>\n",
              "      <td>0.056215</td>\n",
              "      <td>0.006797</td>\n",
              "      <td>00:20</td>\n",
              "    </tr>\n",
              "    <tr>\n",
              "      <td>38</td>\n",
              "      <td>0.023297</td>\n",
              "      <td>0.056529</td>\n",
              "      <td>0.006880</td>\n",
              "      <td>00:20</td>\n",
              "    </tr>\n",
              "    <tr>\n",
              "      <td>39</td>\n",
              "      <td>0.023112</td>\n",
              "      <td>0.056201</td>\n",
              "      <td>0.006625</td>\n",
              "      <td>00:20</td>\n",
              "    </tr>\n",
              "    <tr>\n",
              "      <td>40</td>\n",
              "      <td>0.022524</td>\n",
              "      <td>0.058902</td>\n",
              "      <td>0.006993</td>\n",
              "      <td>00:20</td>\n",
              "    </tr>\n",
              "    <tr>\n",
              "      <td>41</td>\n",
              "      <td>0.022760</td>\n",
              "      <td>0.057365</td>\n",
              "      <td>0.006924</td>\n",
              "      <td>00:20</td>\n",
              "    </tr>\n",
              "    <tr>\n",
              "      <td>42</td>\n",
              "      <td>0.022125</td>\n",
              "      <td>0.056580</td>\n",
              "      <td>0.007109</td>\n",
              "      <td>00:20</td>\n",
              "    </tr>\n",
              "    <tr>\n",
              "      <td>43</td>\n",
              "      <td>0.021938</td>\n",
              "      <td>0.057371</td>\n",
              "      <td>0.007077</td>\n",
              "      <td>00:20</td>\n",
              "    </tr>\n",
              "    <tr>\n",
              "      <td>44</td>\n",
              "      <td>0.021875</td>\n",
              "      <td>0.055313</td>\n",
              "      <td>0.006769</td>\n",
              "      <td>00:20</td>\n",
              "    </tr>\n",
              "    <tr>\n",
              "      <td>45</td>\n",
              "      <td>0.021876</td>\n",
              "      <td>0.056544</td>\n",
              "      <td>0.006870</td>\n",
              "      <td>00:20</td>\n",
              "    </tr>\n",
              "    <tr>\n",
              "      <td>46</td>\n",
              "      <td>0.021479</td>\n",
              "      <td>0.057197</td>\n",
              "      <td>0.006752</td>\n",
              "      <td>00:20</td>\n",
              "    </tr>\n",
              "    <tr>\n",
              "      <td>47</td>\n",
              "      <td>0.022521</td>\n",
              "      <td>0.055082</td>\n",
              "      <td>0.006664</td>\n",
              "      <td>00:20</td>\n",
              "    </tr>\n",
              "    <tr>\n",
              "      <td>48</td>\n",
              "      <td>0.021369</td>\n",
              "      <td>0.053985</td>\n",
              "      <td>0.006444</td>\n",
              "      <td>00:20</td>\n",
              "    </tr>\n",
              "    <tr>\n",
              "      <td>49</td>\n",
              "      <td>0.020921</td>\n",
              "      <td>0.054887</td>\n",
              "      <td>0.006448</td>\n",
              "      <td>00:20</td>\n",
              "    </tr>\n",
              "    <tr>\n",
              "      <td>50</td>\n",
              "      <td>0.020692</td>\n",
              "      <td>0.055021</td>\n",
              "      <td>0.006496</td>\n",
              "      <td>00:20</td>\n",
              "    </tr>\n",
              "    <tr>\n",
              "      <td>51</td>\n",
              "      <td>0.020805</td>\n",
              "      <td>0.054846</td>\n",
              "      <td>0.006341</td>\n",
              "      <td>00:20</td>\n",
              "    </tr>\n",
              "    <tr>\n",
              "      <td>52</td>\n",
              "      <td>0.021374</td>\n",
              "      <td>0.056565</td>\n",
              "      <td>0.006991</td>\n",
              "      <td>00:20</td>\n",
              "    </tr>\n",
              "    <tr>\n",
              "      <td>53</td>\n",
              "      <td>0.020614</td>\n",
              "      <td>0.053623</td>\n",
              "      <td>0.006277</td>\n",
              "      <td>00:20</td>\n",
              "    </tr>\n",
              "    <tr>\n",
              "      <td>54</td>\n",
              "      <td>0.020069</td>\n",
              "      <td>0.055081</td>\n",
              "      <td>0.006642</td>\n",
              "      <td>00:20</td>\n",
              "    </tr>\n",
              "    <tr>\n",
              "      <td>55</td>\n",
              "      <td>0.019727</td>\n",
              "      <td>0.055712</td>\n",
              "      <td>0.006800</td>\n",
              "      <td>00:20</td>\n",
              "    </tr>\n",
              "    <tr>\n",
              "      <td>56</td>\n",
              "      <td>0.019653</td>\n",
              "      <td>0.056012</td>\n",
              "      <td>0.006639</td>\n",
              "      <td>00:20</td>\n",
              "    </tr>\n",
              "    <tr>\n",
              "      <td>57</td>\n",
              "      <td>0.019656</td>\n",
              "      <td>0.055737</td>\n",
              "      <td>0.006572</td>\n",
              "      <td>00:20</td>\n",
              "    </tr>\n",
              "    <tr>\n",
              "      <td>58</td>\n",
              "      <td>0.019970</td>\n",
              "      <td>0.055028</td>\n",
              "      <td>0.006505</td>\n",
              "      <td>00:20</td>\n",
              "    </tr>\n",
              "    <tr>\n",
              "      <td>59</td>\n",
              "      <td>0.019667</td>\n",
              "      <td>0.055413</td>\n",
              "      <td>0.006591</td>\n",
              "      <td>00:20</td>\n",
              "    </tr>\n",
              "  </tbody>\n",
              "</table>"
            ]
          },
          "metadata": {}
        },
        {
          "output_type": "stream",
          "name": "stdout",
          "text": [
            "Better model found at epoch 0 with valid_loss value: 0.130604550242424.\n",
            "Better model found at epoch 1 with valid_loss value: 0.07753637433052063.\n",
            "Better model found at epoch 2 with valid_loss value: 0.07105051726102829.\n",
            "Better model found at epoch 4 with valid_loss value: 0.0700618177652359.\n",
            "Better model found at epoch 5 with valid_loss value: 0.0695100724697113.\n",
            "Better model found at epoch 7 with valid_loss value: 0.06724512577056885.\n",
            "Epoch 9: reducing lr to 1.3182566908653825e-05\n",
            "Better model found at epoch 11 with valid_loss value: 0.06366240233182907.\n",
            "Epoch 13: reducing lr to 1.3182566908653825e-05\n",
            "Better model found at epoch 14 with valid_loss value: 0.06329464167356491.\n",
            "Better model found at epoch 16 with valid_loss value: 0.0618254579603672.\n",
            "Better model found at epoch 17 with valid_loss value: 0.06157916039228439.\n",
            "Epoch 19: reducing lr to 1.3182566908653825e-05\n",
            "Epoch 21: reducing lr to 1.3182566908653825e-05\n",
            "Better model found at epoch 23 with valid_loss value: 0.05947732552886009.\n",
            "Epoch 25: reducing lr to 1.3182566908653825e-05\n",
            "Better model found at epoch 26 with valid_loss value: 0.059222299605607986.\n",
            "Epoch 28: reducing lr to 1.3182566908653825e-05\n",
            "Better model found at epoch 30 with valid_loss value: 0.05847182497382164.\n",
            "Better model found at epoch 32 with valid_loss value: 0.05738667771220207.\n",
            "Epoch 34: reducing lr to 1.3182566908653825e-05\n",
            "Better model found at epoch 36 with valid_loss value: 0.057239070534706116.\n",
            "Better model found at epoch 37 with valid_loss value: 0.05621465668082237.\n",
            "Better model found at epoch 39 with valid_loss value: 0.05620072782039642.\n",
            "Epoch 41: reducing lr to 1.3182566908653825e-05\n",
            "Epoch 43: reducing lr to 1.3182566908653825e-05\n",
            "Better model found at epoch 44 with valid_loss value: 0.05531252920627594.\n",
            "Epoch 46: reducing lr to 1.3182566908653825e-05\n",
            "Better model found at epoch 47 with valid_loss value: 0.05508187413215637.\n",
            "Better model found at epoch 48 with valid_loss value: 0.053984519094228745.\n",
            "Epoch 50: reducing lr to 1.3182566908653825e-05\n",
            "Epoch 52: reducing lr to 1.3182566908653825e-05\n",
            "Better model found at epoch 53 with valid_loss value: 0.053622689098119736.\n",
            "Epoch 55: reducing lr to 1.3182566908653825e-05\n",
            "Epoch 57: reducing lr to 1.3182566908653825e-05\n",
            "Epoch 59: reducing lr to 1.3182566908653825e-05\n",
            "No improvement since epoch 53: early stopping\n"
          ]
        }
      ],
      "source": [
        "learn.fit_flat_cos(num_epochs,lr=min_grad_lr,\n",
        "                        cbs=[SaveModelCallback(),\n",
        "                        EarlyStoppingCallback(monitor='valid_loss', patience=6),\n",
        "                        ReduceLROnPlateau( patience=2)])\n",
        "  \n"
      ]
    },
    {
      "cell_type": "code",
      "execution_count": null,
      "metadata": {
        "colab": {
          "base_uri": "https://localhost:8080/"
        },
        "id": "dsYEm4qgtows",
        "outputId": "866f61f9-60f4-429d-c378-76af98b2624b"
      },
      "outputs": [
        {
          "output_type": "execute_result",
          "data": {
            "text/plain": [
              "(#5) [59,0.01966659352183342,0.055413469672203064,0.0065905312076210976,'00:20']"
            ]
          },
          "metadata": {},
          "execution_count": 65
        }
      ],
      "source": [
        "#TODO this is not showing the best values -  just the last ones...\n",
        "\n",
        "log = learn.recorder.log\n",
        "log"
      ]
    },
    {
      "cell_type": "code",
      "execution_count": null,
      "metadata": {
        "colab": {
          "base_uri": "https://localhost:8080/"
        },
        "id": "whm25qT1qiOL",
        "outputId": "f799fe2d-2f52-4ea6-f613-c4ebe2d7fb42"
      },
      "outputs": [
        {
          "output_type": "execute_result",
          "data": {
            "text/plain": [
              "(#5) [59,0.01966659352183342,0.055413469672203064,0.0065905312076210976,'00:20']"
            ]
          },
          "metadata": {},
          "execution_count": 66
        }
      ],
      "source": [
        "learn.recorder.log"
      ]
    },
    {
      "cell_type": "code",
      "execution_count": null,
      "metadata": {
        "colab": {
          "base_uri": "https://localhost:8080/",
          "height": 265
        },
        "id": "Q2qiYZ3z7ADw",
        "outputId": "92876769-1de8-49f0-ec0a-41b98905fe6b"
      },
      "outputs": [
        {
          "output_type": "display_data",
          "data": {
            "text/plain": [
              "<Figure size 432x288 with 1 Axes>"
            ],
            "image/png": "[encoded data removed]"
          },
          "metadata": {
            "needs_background": "light"
          }
        }
      ],
      "source": [
        "learn.recorder.plot_loss()"
      ]
    },
    {
      "cell_type": "code",
      "execution_count": null,
      "metadata": {
        "colab": {
          "base_uri": "https://localhost:8080/",
          "height": 244
        },
        "id": "m0Kj0iSvtOuk",
        "outputId": "da3636fe-5d7d-40e0-b5ce-fd3be29d4f00"
      },
      "outputs": [
        {
          "output_type": "display_data",
          "data": {
            "text/plain": [
              "<Figure size 1440x288 with 3 Axes>"
            ],
            "image/png": "[encoded data removed]"
          },
          "metadata": {
            "needs_background": "light"
          }
        }
      ],
      "source": [
        "learn.recorder.plot_metrics()"
      ]
    },
    {
      "cell_type": "code",
      "execution_count": null,
      "metadata": {
        "colab": {
          "base_uri": "https://localhost:8080/",
          "height": 265
        },
        "id": "FYFEa4mMjCLm",
        "outputId": "81b168fe-2a48-4a67-fa9e-f6936586eab2"
      },
      "outputs": [
        {
          "output_type": "display_data",
          "data": {
            "text/plain": [
              "<Figure size 432x288 with 1 Axes>"
            ],
            "image/png": "[encoded data removed]"
          },
          "metadata": {
            "needs_background": "light"
          }
        }
      ],
      "source": [
        "learn.recorder.plot_sched()"
      ]
    },
    {
      "cell_type": "code",
      "execution_count": null,
      "metadata": {
        "id": "nq_9Cm1NH2wc"
      },
      "outputs": [],
      "source": [
        "# interp.plot_confusion_matrix(figsize=(6,6), dpi=100)"
      ]
    },
    {
      "cell_type": "markdown",
      "metadata": {
        "id": "NBXfBzUjmFQ7"
      },
      "source": [
        "## Store results of experiments and save to a log\n"
      ]
    },
    {
      "cell_type": "code",
      "execution_count": null,
      "metadata": {
        "colab": {
          "base_uri": "https://localhost:8080/",
          "height": 162
        },
        "id": "0SiviW2zsX8Z",
        "outputId": "a721a9e6-11b0-468b-fe96-81d6b35bd552"
      },
      "outputs": [
        {
          "output_type": "execute_result",
          "data": {
            "text/plain": [
              "              datetime            model num_epochs   loss_fn batch_size  \\\n",
              "0  26/04/2022 18:00:25  unet_fastai_reg         59  BaseLoss         15   \n",
              "\n",
              "       arch   optim channels pretrained        lr  valid_pct  trn_loss  \\\n",
              "0  resnet34  ranger     None      False  0.000132        0.2  0.019667   \n",
              "\n",
              "   val_loss       mse epoch_time  \n",
              "0  0.055413  0.006591      00:20  "
            ],
            "text/html": [
              "\n",
              "  <div id=\"df-eb7d8f1f-c98d-4824-9cc7-2b81c093a861\">\n",
              "    <div class=\"colab-df-container\">\n",
              "      <div>\n",
              "<style scoped>\n",
              "    .dataframe tbody tr th:only-of-type {\n",
              "        vertical-align: middle;\n",
              "    }\n",
              "\n",
              "    .dataframe tbody tr th {\n",
              "        vertical-align: top;\n",
              "    }\n",
              "\n",
              "    .dataframe thead th {\n",
              "        text-align: right;\n",
              "    }\n",
              "</style>\n",
              "<table border=\"1\" class=\"dataframe\">\n",
              "  <thead>\n",
              "    <tr style=\"text-align: right;\">\n",
              "      <th></th>\n",
              "      <th>datetime</th>\n",
              "      <th>model</th>\n",
              "      <th>num_epochs</th>\n",
              "      <th>loss_fn</th>\n",
              "      <th>batch_size</th>\n",
              "      <th>arch</th>\n",
              "      <th>optim</th>\n",
              "      <th>channels</th>\n",
              "      <th>pretrained</th>\n",
              "      <th>lr</th>\n",
              "      <th>valid_pct</th>\n",
              "      <th>trn_loss</th>\n",
              "      <th>val_loss</th>\n",
              "      <th>mse</th>\n",
              "      <th>epoch_time</th>\n",
              "    </tr>\n",
              "  </thead>\n",
              "  <tbody>\n",
              "    <tr>\n",
              "      <th>0</th>\n",
              "      <td>26/04/2022 18:00:25</td>\n",
              "      <td>unet_fastai_reg</td>\n",
              "      <td>59</td>\n",
              "      <td>BaseLoss</td>\n",
              "      <td>15</td>\n",
              "      <td>resnet34</td>\n",
              "      <td>ranger</td>\n",
              "      <td>None</td>\n",
              "      <td>False</td>\n",
              "      <td>0.000132</td>\n",
              "      <td>0.2</td>\n",
              "      <td>0.019667</td>\n",
              "      <td>0.055413</td>\n",
              "      <td>0.006591</td>\n",
              "      <td>00:20</td>\n",
              "    </tr>\n",
              "  </tbody>\n",
              "</table>\n",
              "</div>\n",
              "      <button class=\"colab-df-convert\" onclick=\"convertToInteractive('df-eb7d8f1f-c98d-4824-9cc7-2b81c093a861')\"\n",
              "              title=\"Convert this dataframe to an interactive table.\"\n",
              "              style=\"display:none;\">\n",
              "        \n",
              "  <svg xmlns=\"http://www.w3.org/2000/svg\" height=\"24px\"viewBox=\"0 0 24 24\"\n",
              "       width=\"24px\">\n",
              "    <path d=\"M0 0h24v24H0V0z\" fill=\"none\"/>\n",
              "    <path d=\"M18.56 5.44l.94 2.06.94-2.06 2.06-.94-2.06-.94-.94-2.06-.94 2.06-2.06.94zm-11 1L8.5 8.5l.94-2.06 2.06-.94-2.06-.94L8.5 2.5l-.94 2.06-2.06.94zm10 10l.94 2.06.94-2.06 2.06-.94-2.06-.94-.94-2.06-.94 2.06-2.06.94z\"/><path d=\"M17.41 7.96l-1.37-1.37c-.4-.4-.92-.59-1.43-.59-.52 0-1.04.2-1.43.59L10.3 9.45l-7.72 7.72c-.78.78-.78 2.05 0 2.83L4 21.41c.39.39.9.59 1.41.59.51 0 1.02-.2 1.41-.59l7.78-7.78 2.81-2.81c.8-.78.8-2.07 0-2.86zM5.41 20L4 18.59l7.72-7.72 1.47 1.35L5.41 20z\"/>\n",
              "  </svg>\n",
              "      </button>\n",
              "      \n",
              "  <style>\n",
              "    .colab-df-container {\n",
              "      display:flex;\n",
              "      flex-wrap:wrap;\n",
              "      gap: 12px;\n",
              "    }\n",
              "\n",
              "    .colab-df-convert {\n",
              "      background-color: #E8F0FE;\n",
              "      border: none;\n",
              "      border-radius: 50%;\n",
              "      cursor: pointer;\n",
              "      display: none;\n",
              "      fill: #1967D2;\n",
              "      height: 32px;\n",
              "      padding: 0 0 0 0;\n",
              "      width: 32px;\n",
              "    }\n",
              "\n",
              "    .colab-df-convert:hover {\n",
              "      background-color: #E2EBFA;\n",
              "      box-shadow: 0px 1px 2px rgba(60, 64, 67, 0.3), 0px 1px 3px 1px rgba(60, 64, 67, 0.15);\n",
              "      fill: #174EA6;\n",
              "    }\n",
              "\n",
              "    [theme=dark] .colab-df-convert {\n",
              "      background-color: #3B4455;\n",
              "      fill: #D2E3FC;\n",
              "    }\n",
              "\n",
              "    [theme=dark] .colab-df-convert:hover {\n",
              "      background-color: #434B5C;\n",
              "      box-shadow: 0px 1px 3px 1px rgba(0, 0, 0, 0.15);\n",
              "      filter: drop-shadow(0px 1px 2px rgba(0, 0, 0, 0.3));\n",
              "      fill: #FFFFFF;\n",
              "    }\n",
              "  </style>\n",
              "\n",
              "      <script>\n",
              "        const buttonEl =\n",
              "          document.querySelector('#df-eb7d8f1f-c98d-4824-9cc7-2b81c093a861 button.colab-df-convert');\n",
              "        buttonEl.style.display =\n",
              "          google.colab.kernel.accessAllowed ? 'block' : 'none';\n",
              "\n",
              "        async function convertToInteractive(key) {\n",
              "          const element = document.querySelector('#df-eb7d8f1f-c98d-4824-9cc7-2b81c093a861');\n",
              "          const dataTable =\n",
              "            await google.colab.kernel.invokeFunction('convertToInteractive',\n",
              "                                                     [key], {});\n",
              "          if (!dataTable) return;\n",
              "\n",
              "          const docLinkHtml = 'Like what you see? Visit the ' +\n",
              "            '<a target=\"_blank\" href=https://colab.research.google.com/notebooks/data_table.ipynb>data table notebook</a>'\n",
              "            + ' to learn more about interactive tables.';\n",
              "          element.innerHTML = '';\n",
              "          dataTable['output_type'] = 'display_data';\n",
              "          await google.colab.output.renderOutput(dataTable, element);\n",
              "          const docLink = document.createElement('div');\n",
              "          docLink.innerHTML = docLinkHtml;\n",
              "          element.appendChild(docLink);\n",
              "        }\n",
              "      </script>\n",
              "    </div>\n",
              "  </div>\n",
              "  "
            ]
          },
          "metadata": {},
          "execution_count": 71
        }
      ],
      "source": [
        "\n",
        "cols=['datetime','model','num_epochs','loss_fn','batch_size',\n",
        "    'arch','optim','channels','pretrained','lr','valid_pct',\n",
        "    # 'trn_loss','val_loss','acc','per_cls_acc','IoU','Dice','DiceMulti', 'foreground_acc','item_augs','batch_augs','epoch_time']\n",
        "    'trn_loss','val_loss','mse','epoch_time']\n",
        "results=pd.DataFrame(columns=cols)\n",
        "if loss_fn.__class__.__name__.startswith('CombinedLoss'):\n",
        "  loss_display = loss_fn.display()\n",
        "else:\n",
        "  loss_display=(loss_fn.__class__.__name__)\n",
        "new_expriment_log=[dt_string,model,log[0],loss_display,batch_size,\n",
        "    arch.__name__,opt.__name__,channels,pretrained,min_grad_lr,valid_pct,\n",
        "    log[1],log[2],log[3],log[-1]]\n",
        "\n",
        "results.loc[len(results)] = new_expriment_log\n",
        "results"
      ]
    },
    {
      "cell_type": "code",
      "execution_count": null,
      "metadata": {
        "colab": {
          "base_uri": "https://localhost:8080/"
        },
        "id": "mztYkA8gyton",
        "outputId": "57e8a9a9-051b-4d95-fca4-6a1016b08947"
      },
      "outputs": [
        {
          "output_type": "stream",
          "name": "stdout",
          "text": [
            "Inference mode\n"
          ]
        }
      ],
      "source": [
        "if(INFERECE_MODE):\n",
        "  print('Inference mode')\n",
        "else:\n",
        "  results.to_csv('logs/results_log.csv', mode='a', index=False, header=False)\n"
      ]
    },
    {
      "cell_type": "markdown",
      "metadata": {
        "id": "pPMG1pj6mRH1"
      },
      "source": [
        "## Inference - Display some results"
      ]
    },
    {
      "cell_type": "code",
      "execution_count": null,
      "metadata": {
        "id": "UO_aJe3OwkJ7"
      },
      "outputs": [],
      "source": [
        "# Learner.dls = dl_train"
      ]
    },
    {
      "cell_type": "code",
      "execution_count": null,
      "metadata": {
        "id": "5jtt1p3gwgki"
      },
      "outputs": [],
      "source": [
        "#TODO see if we can plot the image behind the masks...\n",
        "cm='Accent' #'nipy_spectral_r'\n",
        "# learn.show_results(max_n=6, figsize=(6,16),cmap=cm)"
      ]
    },
    {
      "cell_type": "markdown",
      "metadata": {
        "id": "c1P9TD7FmaZt"
      },
      "source": [
        "## Compare class proprtions , similiarity of original and generated masks\n",
        "\n",
        "First \"predict\" a mask for all the **training** data"
      ]
    },
    {
      "cell_type": "code",
      "execution_count": null,
      "metadata": {
        "id": "ZoT8vHBYpFj4"
      },
      "outputs": [],
      "source": [
        "PREDS_DIR= 'preds'"
      ]
    },
    {
      "cell_type": "code",
      "execution_count": null,
      "metadata": {
        "colab": {
          "base_uri": "https://localhost:8080/",
          "height": 34
        },
        "id": "MxEvNpXtxC1I",
        "outputId": "d90f3cae-3459-49c7-b754-39f38024c666"
      },
      "outputs": [
        {
          "output_type": "display_data",
          "data": {
            "text/plain": [
              "<IPython.core.display.HTML object>"
            ],
            "text/html": [
              "\n",
              "<style>\n",
              "    /* Turns off some styling */\n",
              "    progress {\n",
              "        /* gets rid of default border in Firefox and Opera. */\n",
              "        border: none;\n",
              "        /* Needs to be in here for Safari polyfill so background images work as expected. */\n",
              "        background-size: auto;\n",
              "    }\n",
              "    .progress-bar-interrupted, .progress-bar-interrupted::-webkit-progress-bar {\n",
              "        background: #F44336;\n",
              "    }\n",
              "</style>\n"
            ]
          },
          "metadata": {}
        },
        {
          "output_type": "display_data",
          "data": {
            "text/plain": [
              "<IPython.core.display.HTML object>"
            ],
            "text/html": [
              ""
            ]
          },
          "metadata": {}
        },
        {
          "output_type": "execute_result",
          "data": {
            "text/plain": [
              "torch.Size([650, 4])"
            ]
          },
          "metadata": {},
          "execution_count": 76
        }
      ],
      "source": [
        "train_fnames = get_image_files(s2_resized)\n",
        "\n",
        "dl = learn.dls.test_dl(train_fnames)\n",
        "preds = learn.get_preds(dl=dl)\n",
        "preds[0].shape\n"
      ]
    },
    {
      "cell_type": "code",
      "execution_count": null,
      "metadata": {
        "colab": {
          "base_uri": "https://localhost:8080/",
          "height": 34
        },
        "id": "nCSI-sX0kNeT",
        "outputId": "51a6ff0a-0b0f-426c-d263-faac95df71cb"
      },
      "outputs": [
        {
          "output_type": "display_data",
          "data": {
            "text/plain": [
              "<IPython.core.display.HTML object>"
            ],
            "text/html": [
              "\n",
              "<style>\n",
              "    /* Turns off some styling */\n",
              "    progress {\n",
              "        /* gets rid of default border in Firefox and Opera. */\n",
              "        border: none;\n",
              "        /* Needs to be in here for Safari polyfill so background images work as expected. */\n",
              "        background-size: auto;\n",
              "    }\n",
              "    .progress-bar-interrupted, .progress-bar-interrupted::-webkit-progress-bar {\n",
              "        background: #F44336;\n",
              "    }\n",
              "</style>\n"
            ]
          },
          "metadata": {}
        },
        {
          "output_type": "display_data",
          "data": {
            "text/plain": [
              "<IPython.core.display.HTML object>"
            ],
            "text/html": [
              ""
            ]
          },
          "metadata": {}
        },
        {
          "output_type": "execute_result",
          "data": {
            "text/plain": [
              "torch.Size([130, 4])"
            ]
          },
          "metadata": {},
          "execution_count": 77
        }
      ],
      "source": [
        "res = learn.get_preds(with_input=True,with_decoded=True)\n",
        "preds_decoded = res[2]\n",
        "preds_decoded.shape"
      ]
    },
    {
      "cell_type": "code",
      "execution_count": null,
      "metadata": {
        "colab": {
          "base_uri": "https://localhost:8080/"
        },
        "id": "4QeTg9SxMOoq",
        "outputId": "8d992fd8-e9fd-4ef3-f2d6-99e65d9e3605"
      },
      "outputs": [
        {
          "output_type": "execute_result",
          "data": {
            "text/plain": [
              "tensor([0.0058, 0.6516, 0.0178, 0.3249])"
            ]
          },
          "metadata": {},
          "execution_count": 78
        }
      ],
      "source": [
        "assert(sum(preds_decoded[55]))\n",
        "preds_decoded[55]"
      ]
    },
    {
      "cell_type": "code",
      "execution_count": null,
      "metadata": {
        "id": "Ek4QtF1oa8kA"
      },
      "outputs": [],
      "source": [
        "#TODO move to `libs`\n",
        "def calc_props(inp,decode=False,input_preds=False):\n",
        "  '''\n",
        "  Calculates the propertions of the forground classes given a mask tensor\n",
        "  '''\n",
        "  if(not input_preds):\n",
        "    decoded_classes,counts = np.unique(inp,return_counts=True)\n",
        "    if(decode):\n",
        "      decoded_classes = [mask_vals[c] for c in decoded_classes]\n",
        "\n",
        "    cnt = {cl:cn for (cl,cn) in zip(decoded_classes,counts)}\n",
        "    if(len(cnt)<4):\n",
        "      if(0 not in cnt):\n",
        "        cnt[0]=0.\n",
        "      if(1 not in cnt):\n",
        "        cnt[1]=0.\n",
        "      if(250 not in cnt):\n",
        "        cnt[250]=0.\n",
        "      if(255 not in cnt):\n",
        "        cnt[255]=0.\n",
        "\n",
        "  else:\n",
        "    #TODO too hard coded !!!\n",
        "    cnt = {cl:int(cn.item()*90000) for (cl,cn) in zip([0,1,250,255],inp)}\n",
        "    counts = [val for val in cnt.values()]\n",
        "\n",
        "  total=sum(counts)\n",
        "  a,b=0.,0.\n",
        "  if(250 in cnt):\n",
        "    a=cnt[250]\n",
        "  if(255 in cnt):\n",
        "    b=cnt[255]\n",
        "  fg_classes=a+b\n",
        "  cnt['250_prop']=float(a/total)\n",
        "  cnt['255_prop']=float(b/total)\n",
        "  cnt['BU_prop']=float(fg_classes/total)\n",
        "\n",
        "  return cnt\n",
        "\n",
        "\n",
        "def build_proportions_df(fnames,preds,mask_dir):\n",
        "  '''\n",
        "  Builds a proprtions dataframe for a list of image files and their predicted masks\n",
        "  by counting the per class pixels, and calculating proprtions of fourgournd classes, 250 and 255,\n",
        "  vs the others.\n",
        "  '''\n",
        "  numeric_cols = [0,1,250,255,'BU_prop','250_prop','255_prop']\n",
        "  str_cols=['type','image_name','mask_name']\n",
        "\n",
        "  reg_df=pd.DataFrame(columns=str_cols+numeric_cols)\n",
        "  for fn,pred_msk in tqdm(zip(fnames,preds)):\n",
        "    img_fn = fn.name\n",
        "    mask = get_matching_mask_path(img_fn,mask_dir)\n",
        "    msk_fn = mask.split('/')[-1]\n",
        "    with rio.open(mask) as fmsk:\n",
        "      #orig\n",
        "      cnt1 = calc_props(fmsk.read(1))\n",
        "      cnt1['type']='ORIG'\n",
        "\n",
        "      #pred\n",
        "      pred_arx = pred_msk#.argmax(dim=0)\n",
        "      cnt2 = calc_props(pred_arx,input_preds=True)\n",
        "      cnt2['type']='PRED'\n",
        "\n",
        "      #diff\n",
        "        \n",
        "      cnt3 = {}\n",
        "      for i in numeric_cols:\n",
        "        cnt3[i]=float(abs(cnt1[i]-cnt2[i]))\n",
        "      cnt3['type']='DIFF'\n",
        "    \n",
        "      for c in [cnt1,cnt2,cnt3]:\n",
        "        c['image_name']=img_fn\n",
        "        c['mask_name']=msk_fn\n",
        "\n",
        "      reg_df=reg_df.append(cnt1,ignore_index=True)\n",
        "      reg_df=reg_df.append(cnt2,ignore_index=True)\n",
        "      reg_df=reg_df.append(cnt3,ignore_index=True)\n",
        "      \n",
        "      \n",
        "  return reg_df\n",
        "\n",
        "# orig_prop_df = build_proportions_df(fnames)\n",
        "# orig_prop_df"
      ]
    },
    {
      "cell_type": "code",
      "execution_count": null,
      "metadata": {
        "colab": {
          "base_uri": "https://localhost:8080/",
          "height": 457,
          "referenced_widgets": [
            "c221c833d5494a2f90868d14e3348124",
            "449d51c2375a47bd9fbde706f4314cdf",
            "90611c56d8cd46cfbd56f47edecfe58e",
            "63161581138740f1855dc03b1b107554",
            "503a8ecaeb8b45eca2cbb1710881dd3f",
            "12fe3f31913c4a6687e6283b1776ea2d",
            "ec50d9f3119941c5b10185dd7d9277de",
            "27a0bf26c7b9461a968fa8282c2c8fe1",
            "c21840e011a24371a732489892cafa8f",
            "53431b6ab38647a895d21ca3e0705b08",
            "35d4768017c24e1a9d88900e109b95d5"
          ]
        },
        "id": "tpvZPjFBZfO1",
        "outputId": "3c8c9c18-0860-41de-bacc-080b86b99d88"
      },
      "outputs": [
        {
          "output_type": "display_data",
          "data": {
            "text/plain": [
              "0it [00:00, ?it/s]"
            ],
            "application/vnd.jupyter.widget-view+json": {
              "version_major": 2,
              "version_minor": 0,
              "model_id": "c221c833d5494a2f90868d14e3348124"
            }
          },
          "metadata": {}
        },
        {
          "output_type": "execute_result",
          "data": {
            "text/plain": [
              "    type   image_name    mask_name       0        1      250      255  \\\n",
              "0   ORIG  R_7_654.tif  ESM_654.tif     320    65941      987    22752   \n",
              "1   PRED  R_7_654.tif  ESM_654.tif    4712    41586    23438    20261   \n",
              "2   DIFF  R_7_654.tif  ESM_654.tif  4392.0  24355.0  22451.0   2491.0   \n",
              "3   ORIG  R_7_635.tif  ESM_635.tif     228    55969     2869    30934   \n",
              "4   PRED  R_7_635.tif  ESM_635.tif     232    60972     4824    23969   \n",
              "5   DIFF  R_7_635.tif  ESM_635.tif     4.0   5003.0   1955.0   6965.0   \n",
              "6   ORIG  R_7_662.tif  ESM_662.tif     948    29568     7986    51498   \n",
              "7   PRED  R_7_662.tif  ESM_662.tif    2113    47918     5566    34401   \n",
              "8   DIFF  R_7_662.tif  ESM_662.tif  1165.0  18350.0   2420.0  17097.0   \n",
              "9   ORIG  R_5_471.tif  ESM_471.tif     428    67370     7145    15057   \n",
              "10  PRED  R_5_471.tif  ESM_471.tif    4393    34758    13026    37821   \n",
              "11  DIFF  R_5_471.tif  ESM_471.tif  3965.0  32612.0   5881.0  22764.0   \n",
              "\n",
              "     BU_prop  250_prop  255_prop  \n",
              "0   0.263767  0.010967  0.252800  \n",
              "1   0.485561  0.260431  0.225130  \n",
              "2   0.221794  0.249464  0.027670  \n",
              "3   0.375589  0.031878  0.343711  \n",
              "4   0.319933  0.053602  0.266331  \n",
              "5   0.055656  0.021724  0.077380  \n",
              "6   0.660933  0.088733  0.572200  \n",
              "7   0.444088  0.061846  0.382242  \n",
              "8   0.216846  0.026888  0.189958  \n",
              "9   0.246689  0.079389  0.167300  \n",
              "10  0.564979  0.144737  0.420243  \n",
              "11  0.318290  0.065348  0.252943  "
            ],
            "text/html": [
              "\n",
              "  <div id=\"df-212419f7-c6e4-418d-a38b-bfe0368939ec\">\n",
              "    <div class=\"colab-df-container\">\n",
              "      <div>\n",
              "<style scoped>\n",
              "    .dataframe tbody tr th:only-of-type {\n",
              "        vertical-align: middle;\n",
              "    }\n",
              "\n",
              "    .dataframe tbody tr th {\n",
              "        vertical-align: top;\n",
              "    }\n",
              "\n",
              "    .dataframe thead th {\n",
              "        text-align: right;\n",
              "    }\n",
              "</style>\n",
              "<table border=\"1\" class=\"dataframe\">\n",
              "  <thead>\n",
              "    <tr style=\"text-align: right;\">\n",
              "      <th></th>\n",
              "      <th>type</th>\n",
              "      <th>image_name</th>\n",
              "      <th>mask_name</th>\n",
              "      <th>0</th>\n",
              "      <th>1</th>\n",
              "      <th>250</th>\n",
              "      <th>255</th>\n",
              "      <th>BU_prop</th>\n",
              "      <th>250_prop</th>\n",
              "      <th>255_prop</th>\n",
              "    </tr>\n",
              "  </thead>\n",
              "  <tbody>\n",
              "    <tr>\n",
              "      <th>0</th>\n",
              "      <td>ORIG</td>\n",
              "      <td>R_7_654.tif</td>\n",
              "      <td>ESM_654.tif</td>\n",
              "      <td>320</td>\n",
              "      <td>65941</td>\n",
              "      <td>987</td>\n",
              "      <td>22752</td>\n",
              "      <td>0.263767</td>\n",
              "      <td>0.010967</td>\n",
              "      <td>0.252800</td>\n",
              "    </tr>\n",
              "    <tr>\n",
              "      <th>1</th>\n",
              "      <td>PRED</td>\n",
              "      <td>R_7_654.tif</td>\n",
              "      <td>ESM_654.tif</td>\n",
              "      <td>4712</td>\n",
              "      <td>41586</td>\n",
              "      <td>23438</td>\n",
              "      <td>20261</td>\n",
              "      <td>0.485561</td>\n",
              "      <td>0.260431</td>\n",
              "      <td>0.225130</td>\n",
              "    </tr>\n",
              "    <tr>\n",
              "      <th>2</th>\n",
              "      <td>DIFF</td>\n",
              "      <td>R_7_654.tif</td>\n",
              "      <td>ESM_654.tif</td>\n",
              "      <td>4392.0</td>\n",
              "      <td>24355.0</td>\n",
              "      <td>22451.0</td>\n",
              "      <td>2491.0</td>\n",
              "      <td>0.221794</td>\n",
              "      <td>0.249464</td>\n",
              "      <td>0.027670</td>\n",
              "    </tr>\n",
              "    <tr>\n",
              "      <th>3</th>\n",
              "      <td>ORIG</td>\n",
              "      <td>R_7_635.tif</td>\n",
              "      <td>ESM_635.tif</td>\n",
              "      <td>228</td>\n",
              "      <td>55969</td>\n",
              "      <td>2869</td>\n",
              "      <td>30934</td>\n",
              "      <td>0.375589</td>\n",
              "      <td>0.031878</td>\n",
              "      <td>0.343711</td>\n",
              "    </tr>\n",
              "    <tr>\n",
              "      <th>4</th>\n",
              "      <td>PRED</td>\n",
              "      <td>R_7_635.tif</td>\n",
              "      <td>ESM_635.tif</td>\n",
              "      <td>232</td>\n",
              "      <td>60972</td>\n",
              "      <td>4824</td>\n",
              "      <td>23969</td>\n",
              "      <td>0.319933</td>\n",
              "      <td>0.053602</td>\n",
              "      <td>0.266331</td>\n",
              "    </tr>\n",
              "    <tr>\n",
              "      <th>5</th>\n",
              "      <td>DIFF</td>\n",
              "      <td>R_7_635.tif</td>\n",
              "      <td>ESM_635.tif</td>\n",
              "      <td>4.0</td>\n",
              "      <td>5003.0</td>\n",
              "      <td>1955.0</td>\n",
              "      <td>6965.0</td>\n",
              "      <td>0.055656</td>\n",
              "      <td>0.021724</td>\n",
              "      <td>0.077380</td>\n",
              "    </tr>\n",
              "    <tr>\n",
              "      <th>6</th>\n",
              "      <td>ORIG</td>\n",
              "      <td>R_7_662.tif</td>\n",
              "      <td>ESM_662.tif</td>\n",
              "      <td>948</td>\n",
              "      <td>29568</td>\n",
              "      <td>7986</td>\n",
              "      <td>51498</td>\n",
              "      <td>0.660933</td>\n",
              "      <td>0.088733</td>\n",
              "      <td>0.572200</td>\n",
              "    </tr>\n",
              "    <tr>\n",
              "      <th>7</th>\n",
              "      <td>PRED</td>\n",
              "      <td>R_7_662.tif</td>\n",
              "      <td>ESM_662.tif</td>\n",
              "      <td>2113</td>\n",
              "      <td>47918</td>\n",
              "      <td>5566</td>\n",
              "      <td>34401</td>\n",
              "      <td>0.444088</td>\n",
              "      <td>0.061846</td>\n",
              "      <td>0.382242</td>\n",
              "    </tr>\n",
              "    <tr>\n",
              "      <th>8</th>\n",
              "      <td>DIFF</td>\n",
              "      <td>R_7_662.tif</td>\n",
              "      <td>ESM_662.tif</td>\n",
              "      <td>1165.0</td>\n",
              "      <td>18350.0</td>\n",
              "      <td>2420.0</td>\n",
              "      <td>17097.0</td>\n",
              "      <td>0.216846</td>\n",
              "      <td>0.026888</td>\n",
              "      <td>0.189958</td>\n",
              "    </tr>\n",
              "    <tr>\n",
              "      <th>9</th>\n",
              "      <td>ORIG</td>\n",
              "      <td>R_5_471.tif</td>\n",
              "      <td>ESM_471.tif</td>\n",
              "      <td>428</td>\n",
              "      <td>67370</td>\n",
              "      <td>7145</td>\n",
              "      <td>15057</td>\n",
              "      <td>0.246689</td>\n",
              "      <td>0.079389</td>\n",
              "      <td>0.167300</td>\n",
              "    </tr>\n",
              "    <tr>\n",
              "      <th>10</th>\n",
              "      <td>PRED</td>\n",
              "      <td>R_5_471.tif</td>\n",
              "      <td>ESM_471.tif</td>\n",
              "      <td>4393</td>\n",
              "      <td>34758</td>\n",
              "      <td>13026</td>\n",
              "      <td>37821</td>\n",
              "      <td>0.564979</td>\n",
              "      <td>0.144737</td>\n",
              "      <td>0.420243</td>\n",
              "    </tr>\n",
              "    <tr>\n",
              "      <th>11</th>\n",
              "      <td>DIFF</td>\n",
              "      <td>R_5_471.tif</td>\n",
              "      <td>ESM_471.tif</td>\n",
              "      <td>3965.0</td>\n",
              "      <td>32612.0</td>\n",
              "      <td>5881.0</td>\n",
              "      <td>22764.0</td>\n",
              "      <td>0.318290</td>\n",
              "      <td>0.065348</td>\n",
              "      <td>0.252943</td>\n",
              "    </tr>\n",
              "  </tbody>\n",
              "</table>\n",
              "</div>\n",
              "      <button class=\"colab-df-convert\" onclick=\"convertToInteractive('df-212419f7-c6e4-418d-a38b-bfe0368939ec')\"\n",
              "              title=\"Convert this dataframe to an interactive table.\"\n",
              "              style=\"display:none;\">\n",
              "        \n",
              "  <svg xmlns=\"http://www.w3.org/2000/svg\" height=\"24px\"viewBox=\"0 0 24 24\"\n",
              "       width=\"24px\">\n",
              "    <path d=\"M0 0h24v24H0V0z\" fill=\"none\"/>\n",
              "    <path d=\"M18.56 5.44l.94 2.06.94-2.06 2.06-.94-2.06-.94-.94-2.06-.94 2.06-2.06.94zm-11 1L8.5 8.5l.94-2.06 2.06-.94-2.06-.94L8.5 2.5l-.94 2.06-2.06.94zm10 10l.94 2.06.94-2.06 2.06-.94-2.06-.94-.94-2.06-.94 2.06-2.06.94z\"/><path d=\"M17.41 7.96l-1.37-1.37c-.4-.4-.92-.59-1.43-.59-.52 0-1.04.2-1.43.59L10.3 9.45l-7.72 7.72c-.78.78-.78 2.05 0 2.83L4 21.41c.39.39.9.59 1.41.59.51 0 1.02-.2 1.41-.59l7.78-7.78 2.81-2.81c.8-.78.8-2.07 0-2.86zM5.41 20L4 18.59l7.72-7.72 1.47 1.35L5.41 20z\"/>\n",
              "  </svg>\n",
              "      </button>\n",
              "      \n",
              "  <style>\n",
              "    .colab-df-container {\n",
              "      display:flex;\n",
              "      flex-wrap:wrap;\n",
              "      gap: 12px;\n",
              "    }\n",
              "\n",
              "    .colab-df-convert {\n",
              "      background-color: #E8F0FE;\n",
              "      border: none;\n",
              "      border-radius: 50%;\n",
              "      cursor: pointer;\n",
              "      display: none;\n",
              "      fill: #1967D2;\n",
              "      height: 32px;\n",
              "      padding: 0 0 0 0;\n",
              "      width: 32px;\n",
              "    }\n",
              "\n",
              "    .colab-df-convert:hover {\n",
              "      background-color: #E2EBFA;\n",
              "      box-shadow: 0px 1px 2px rgba(60, 64, 67, 0.3), 0px 1px 3px 1px rgba(60, 64, 67, 0.15);\n",
              "      fill: #174EA6;\n",
              "    }\n",
              "\n",
              "    [theme=dark] .colab-df-convert {\n",
              "      background-color: #3B4455;\n",
              "      fill: #D2E3FC;\n",
              "    }\n",
              "\n",
              "    [theme=dark] .colab-df-convert:hover {\n",
              "      background-color: #434B5C;\n",
              "      box-shadow: 0px 1px 3px 1px rgba(0, 0, 0, 0.15);\n",
              "      filter: drop-shadow(0px 1px 2px rgba(0, 0, 0, 0.3));\n",
              "      fill: #FFFFFF;\n",
              "    }\n",
              "  </style>\n",
              "\n",
              "      <script>\n",
              "        const buttonEl =\n",
              "          document.querySelector('#df-212419f7-c6e4-418d-a38b-bfe0368939ec button.colab-df-convert');\n",
              "        buttonEl.style.display =\n",
              "          google.colab.kernel.accessAllowed ? 'block' : 'none';\n",
              "\n",
              "        async function convertToInteractive(key) {\n",
              "          const element = document.querySelector('#df-212419f7-c6e4-418d-a38b-bfe0368939ec');\n",
              "          const dataTable =\n",
              "            await google.colab.kernel.invokeFunction('convertToInteractive',\n",
              "                                                     [key], {});\n",
              "          if (!dataTable) return;\n",
              "\n",
              "          const docLinkHtml = 'Like what you see? Visit the ' +\n",
              "            '<a target=\"_blank\" href=https://colab.research.google.com/notebooks/data_table.ipynb>data table notebook</a>'\n",
              "            + ' to learn more about interactive tables.';\n",
              "          element.innerHTML = '';\n",
              "          dataTable['output_type'] = 'display_data';\n",
              "          await google.colab.output.renderOutput(dataTable, element);\n",
              "          const docLink = document.createElement('div');\n",
              "          docLink.innerHTML = docLinkHtml;\n",
              "          element.appendChild(docLink);\n",
              "        }\n",
              "      </script>\n",
              "    </div>\n",
              "  </div>\n",
              "  "
            ]
          },
          "metadata": {},
          "execution_count": 94
        }
      ],
      "source": [
        "pred_prop_df = build_proportions_df(train_fnames,preds_decoded,esm_aligned)\n",
        "pred_prop_df.head(12)"
      ]
    },
    {
      "cell_type": "code",
      "execution_count": null,
      "metadata": {
        "colab": {
          "base_uri": "https://localhost:8080/",
          "height": 300
        },
        "id": "4mf01I_EcwM0",
        "outputId": "6261399d-4421-4f71-a547-8c7d11b58298"
      },
      "outputs": [
        {
          "output_type": "execute_result",
          "data": {
            "text/plain": [
              "          BU_prop    250_prop    255_prop\n",
              "count  390.000000  390.000000  390.000000\n",
              "mean     0.249087    0.054376    0.209985\n",
              "std      0.145387    0.061015    0.126234\n",
              "min      0.000063    0.000000    0.000385\n",
              "25%      0.172712    0.009629    0.126938\n",
              "50%      0.225241    0.031561    0.191815\n",
              "75%      0.331639    0.079656    0.286763\n",
              "max      0.719867    0.298867    0.613667"
            ],
            "text/html": [
              "\n",
              "  <div id=\"df-628b4b87-a53f-4868-894f-5b8e3812445e\">\n",
              "    <div class=\"colab-df-container\">\n",
              "      <div>\n",
              "<style scoped>\n",
              "    .dataframe tbody tr th:only-of-type {\n",
              "        vertical-align: middle;\n",
              "    }\n",
              "\n",
              "    .dataframe tbody tr th {\n",
              "        vertical-align: top;\n",
              "    }\n",
              "\n",
              "    .dataframe thead th {\n",
              "        text-align: right;\n",
              "    }\n",
              "</style>\n",
              "<table border=\"1\" class=\"dataframe\">\n",
              "  <thead>\n",
              "    <tr style=\"text-align: right;\">\n",
              "      <th></th>\n",
              "      <th>BU_prop</th>\n",
              "      <th>250_prop</th>\n",
              "      <th>255_prop</th>\n",
              "    </tr>\n",
              "  </thead>\n",
              "  <tbody>\n",
              "    <tr>\n",
              "      <th>count</th>\n",
              "      <td>390.000000</td>\n",
              "      <td>390.000000</td>\n",
              "      <td>390.000000</td>\n",
              "    </tr>\n",
              "    <tr>\n",
              "      <th>mean</th>\n",
              "      <td>0.249087</td>\n",
              "      <td>0.054376</td>\n",
              "      <td>0.209985</td>\n",
              "    </tr>\n",
              "    <tr>\n",
              "      <th>std</th>\n",
              "      <td>0.145387</td>\n",
              "      <td>0.061015</td>\n",
              "      <td>0.126234</td>\n",
              "    </tr>\n",
              "    <tr>\n",
              "      <th>min</th>\n",
              "      <td>0.000063</td>\n",
              "      <td>0.000000</td>\n",
              "      <td>0.000385</td>\n",
              "    </tr>\n",
              "    <tr>\n",
              "      <th>25%</th>\n",
              "      <td>0.172712</td>\n",
              "      <td>0.009629</td>\n",
              "      <td>0.126938</td>\n",
              "    </tr>\n",
              "    <tr>\n",
              "      <th>50%</th>\n",
              "      <td>0.225241</td>\n",
              "      <td>0.031561</td>\n",
              "      <td>0.191815</td>\n",
              "    </tr>\n",
              "    <tr>\n",
              "      <th>75%</th>\n",
              "      <td>0.331639</td>\n",
              "      <td>0.079656</td>\n",
              "      <td>0.286763</td>\n",
              "    </tr>\n",
              "    <tr>\n",
              "      <th>max</th>\n",
              "      <td>0.719867</td>\n",
              "      <td>0.298867</td>\n",
              "      <td>0.613667</td>\n",
              "    </tr>\n",
              "  </tbody>\n",
              "</table>\n",
              "</div>\n",
              "      <button class=\"colab-df-convert\" onclick=\"convertToInteractive('df-628b4b87-a53f-4868-894f-5b8e3812445e')\"\n",
              "              title=\"Convert this dataframe to an interactive table.\"\n",
              "              style=\"display:none;\">\n",
              "        \n",
              "  <svg xmlns=\"http://www.w3.org/2000/svg\" height=\"24px\"viewBox=\"0 0 24 24\"\n",
              "       width=\"24px\">\n",
              "    <path d=\"M0 0h24v24H0V0z\" fill=\"none\"/>\n",
              "    <path d=\"M18.56 5.44l.94 2.06.94-2.06 2.06-.94-2.06-.94-.94-2.06-.94 2.06-2.06.94zm-11 1L8.5 8.5l.94-2.06 2.06-.94-2.06-.94L8.5 2.5l-.94 2.06-2.06.94zm10 10l.94 2.06.94-2.06 2.06-.94-2.06-.94-.94-2.06-.94 2.06-2.06.94z\"/><path d=\"M17.41 7.96l-1.37-1.37c-.4-.4-.92-.59-1.43-.59-.52 0-1.04.2-1.43.59L10.3 9.45l-7.72 7.72c-.78.78-.78 2.05 0 2.83L4 21.41c.39.39.9.59 1.41.59.51 0 1.02-.2 1.41-.59l7.78-7.78 2.81-2.81c.8-.78.8-2.07 0-2.86zM5.41 20L4 18.59l7.72-7.72 1.47 1.35L5.41 20z\"/>\n",
              "  </svg>\n",
              "      </button>\n",
              "      \n",
              "  <style>\n",
              "    .colab-df-container {\n",
              "      display:flex;\n",
              "      flex-wrap:wrap;\n",
              "      gap: 12px;\n",
              "    }\n",
              "\n",
              "    .colab-df-convert {\n",
              "      background-color: #E8F0FE;\n",
              "      border: none;\n",
              "      border-radius: 50%;\n",
              "      cursor: pointer;\n",
              "      display: none;\n",
              "      fill: #1967D2;\n",
              "      height: 32px;\n",
              "      padding: 0 0 0 0;\n",
              "      width: 32px;\n",
              "    }\n",
              "\n",
              "    .colab-df-convert:hover {\n",
              "      background-color: #E2EBFA;\n",
              "      box-shadow: 0px 1px 2px rgba(60, 64, 67, 0.3), 0px 1px 3px 1px rgba(60, 64, 67, 0.15);\n",
              "      fill: #174EA6;\n",
              "    }\n",
              "\n",
              "    [theme=dark] .colab-df-convert {\n",
              "      background-color: #3B4455;\n",
              "      fill: #D2E3FC;\n",
              "    }\n",
              "\n",
              "    [theme=dark] .colab-df-convert:hover {\n",
              "      background-color: #434B5C;\n",
              "      box-shadow: 0px 1px 3px 1px rgba(0, 0, 0, 0.15);\n",
              "      filter: drop-shadow(0px 1px 2px rgba(0, 0, 0, 0.3));\n",
              "      fill: #FFFFFF;\n",
              "    }\n",
              "  </style>\n",
              "\n",
              "      <script>\n",
              "        const buttonEl =\n",
              "          document.querySelector('#df-628b4b87-a53f-4868-894f-5b8e3812445e button.colab-df-convert');\n",
              "        buttonEl.style.display =\n",
              "          google.colab.kernel.accessAllowed ? 'block' : 'none';\n",
              "\n",
              "        async function convertToInteractive(key) {\n",
              "          const element = document.querySelector('#df-628b4b87-a53f-4868-894f-5b8e3812445e');\n",
              "          const dataTable =\n",
              "            await google.colab.kernel.invokeFunction('convertToInteractive',\n",
              "                                                     [key], {});\n",
              "          if (!dataTable) return;\n",
              "\n",
              "          const docLinkHtml = 'Like what you see? Visit the ' +\n",
              "            '<a target=\"_blank\" href=https://colab.research.google.com/notebooks/data_table.ipynb>data table notebook</a>'\n",
              "            + ' to learn more about interactive tables.';\n",
              "          element.innerHTML = '';\n",
              "          dataTable['output_type'] = 'display_data';\n",
              "          await google.colab.output.renderOutput(dataTable, element);\n",
              "          const docLink = document.createElement('div');\n",
              "          docLink.innerHTML = docLinkHtml;\n",
              "          element.appendChild(docLink);\n",
              "        }\n",
              "      </script>\n",
              "    </div>\n",
              "  </div>\n",
              "  "
            ]
          },
          "metadata": {},
          "execution_count": 81
        }
      ],
      "source": [
        "# pred_prop_df[pred_prop_df['type']=='Pred'].describe()\n",
        "pred_prop_df.describe()"
      ]
    },
    {
      "cell_type": "code",
      "execution_count": null,
      "metadata": {
        "id": "yTYluj-QDtZX"
      },
      "outputs": [],
      "source": [
        "# plot_final_results(train_fnames,preds,pred_prop_df,s2_resized,esm_aligned,show_every=65)"
      ]
    },
    {
      "cell_type": "code",
      "execution_count": null,
      "metadata": {
        "id": "9L21Kx9HtYoh"
      },
      "outputs": [],
      "source": [
        "# df_new_mask_class_counts = pd.DataFrame(columns=['0','1','2','3'])\n",
        "# for pred_mask in preds[0]:\n",
        "#   pred_arx = pred_mask.argmax(dim=0)\n",
        "#   add_cls_counts(df_new_mask_class_counts,pred_arx,classes_dic={'0':0,'1':0,'2':0,'3':0})"
      ]
    },
    {
      "cell_type": "code",
      "execution_count": null,
      "metadata": {
        "id": "z3PmuF43JGqd"
      },
      "outputs": [],
      "source": [
        "# om=pd.read_csv('orig_masks_bu_area.csv',index_col=0,header=None)\n",
        "# om=pd.read_csv('orig_masks_bu_area_w_nodata.csv',index_col=0,header=None)\n"
      ]
    },
    {
      "cell_type": "code",
      "execution_count": null,
      "metadata": {
        "id": "V9w9R9_g4dPY"
      },
      "outputs": [],
      "source": [
        "# nm=get_bu_area_ratio(df_new_mask_class_counts,with_no_data=True)\n",
        "# nm=get_bu_area_ratio(df_new_mask_class_counts)\n",
        "\n",
        "# f,ax1 = plt.subplots(1,1,figsize=(12,4))\n",
        "# plot_hist(om,None,ax1,'Red',lbl='Orig')\n",
        "# plot_hist(nm,'Orig and Pred Masks Ratio of Built-UP Areas',ax1,'Blue',lbl='Pred')\n",
        "# plt.show()"
      ]
    },
    {
      "cell_type": "code",
      "execution_count": null,
      "metadata": {
        "id": "RrjMBD-mMeob"
      },
      "outputs": [],
      "source": [
        "# f,(ax1,ax2) = plt.subplots(1,2,figsize=(12,4))\n",
        "\n",
        "# df_orig_mask_class_counts = pd.read_csv('df_orig_mask_class_counts.csv',index_col=0,header=None)\n",
        "\n",
        "# plot_bar(df_orig_mask_class_counts,'Orig Mask Class Proportions',ax1)\n",
        "# annotate(ax1)\n",
        "\n",
        "# plot_bar(df_new_mask_class_counts,'Pred Mask Class Proportions',ax2)\n",
        "# annotate(ax2)\n",
        "# plt.show()"
      ]
    },
    {
      "cell_type": "markdown",
      "metadata": {
        "id": "kpDqrRNLKVRv"
      },
      "source": [
        "## Inference on unseen images\n",
        "\n",
        "+ Saving predictions to a folder"
      ]
    },
    {
      "cell_type": "code",
      "execution_count": null,
      "metadata": {
        "colab": {
          "base_uri": "https://localhost:8080/",
          "height": 34
        },
        "id": "P8wlSbmfDti_",
        "outputId": "bdca042d-e307-414f-afb2-12a7fe9b58fc"
      },
      "outputs": [
        {
          "output_type": "display_data",
          "data": {
            "text/plain": [
              "<IPython.core.display.HTML object>"
            ],
            "text/html": [
              "\n",
              "<style>\n",
              "    /* Turns off some styling */\n",
              "    progress {\n",
              "        /* gets rid of default border in Firefox and Opera. */\n",
              "        border: none;\n",
              "        /* Needs to be in here for Safari polyfill so background images work as expected. */\n",
              "        background-size: auto;\n",
              "    }\n",
              "    .progress-bar-interrupted, .progress-bar-interrupted::-webkit-progress-bar {\n",
              "        background: #F44336;\n",
              "    }\n",
              "</style>\n"
            ]
          },
          "metadata": {}
        },
        {
          "output_type": "display_data",
          "data": {
            "text/plain": [
              "<IPython.core.display.HTML object>"
            ],
            "text/html": [
              ""
            ]
          },
          "metadata": {}
        },
        {
          "output_type": "execute_result",
          "data": {
            "text/plain": [
              "torch.Size([50, 4])"
            ]
          },
          "metadata": {},
          "execution_count": 87
        }
      ],
      "source": [
        "test_fnames = get_image_files(S2_TEST_DIR)\n",
        "\n",
        "dl = learn.dls.test_dl(test_fnames)\n",
        "test_preds = learn.get_preds(dl=dl,with_decoded=True)\n",
        "test_preds[0].shape"
      ]
    },
    {
      "cell_type": "code",
      "execution_count": null,
      "metadata": {
        "colab": {
          "base_uri": "https://localhost:8080/"
        },
        "id": "6lOXBkIrSw31",
        "outputId": "f6e6994d-b259-455a-e06e-dbf812765ffd"
      },
      "outputs": [
        {
          "output_type": "execute_result",
          "data": {
            "text/plain": [
              "torch.Size([50, 4])"
            ]
          },
          "metadata": {},
          "execution_count": 88
        }
      ],
      "source": [
        "test_preds_decoded = test_preds[2]\n",
        "test_preds_decoded.shape"
      ]
    },
    {
      "cell_type": "code",
      "execution_count": null,
      "metadata": {
        "colab": {
          "base_uri": "https://localhost:8080/",
          "height": 457,
          "referenced_widgets": [
            "0708ace8e3cc4fb89b658d03f9601b9b",
            "4c323a06cf7e47b2b82b71246d01834b",
            "578d7ca60766404b936a07e085c4520e",
            "7b0b9ca6926c45d5968b2b2e3afa4e1b",
            "0aa6411b5535464abcc0a91bddd86b66",
            "69e977edde0c4a069da39e4175840f08",
            "e66aecdde6a74d12bf347e54290e83cb",
            "65a575cb08874863bb90af3af0b0531b",
            "51534bdcd6b14a6d858727386f8cf4db",
            "514bcc3c1e8c48bea7da96c3eba8808b",
            "0619d3d01776462b8e629fb64f63d77b"
          ]
        },
        "id": "OyiRpEUoSw1d",
        "outputId": "db6c4592-f7f2-46c8-a322-28dde06cb42c"
      },
      "outputs": [
        {
          "output_type": "display_data",
          "data": {
            "text/plain": [
              "0it [00:00, ?it/s]"
            ],
            "application/vnd.jupyter.widget-view+json": {
              "version_major": 2,
              "version_minor": 0,
              "model_id": "0708ace8e3cc4fb89b658d03f9601b9b"
            }
          },
          "metadata": {}
        },
        {
          "output_type": "execute_result",
          "data": {
            "text/plain": [
              "    type   image_name    mask_name      0       1     250     255   BU_prop  \\\n",
              "0   ORIG  R_3_254.tif  ESM_254.tif    241   69946    1011   18802  0.220144   \n",
              "1   PRED  R_3_254.tif  ESM_254.tif      0   68598       0   19467  0.221053   \n",
              "2   DIFF  R_3_254.tif  ESM_254.tif  241.0  1348.0  1011.0   665.0  0.000908   \n",
              "3   ORIG  R_6_566.tif  ESM_566.tif    322   68817     273   20588  0.231789   \n",
              "4   PRED  R_6_566.tif  ESM_566.tif      0   63193    2132   27949  0.322501   \n",
              "5   DIFF  R_6_566.tif  ESM_566.tif  322.0  5624.0  1859.0  7361.0  0.090713   \n",
              "6   ORIG  R_3_222.tif  ESM_222.tif    318   70119     718   18845  0.217367   \n",
              "7   PRED  R_3_222.tif  ESM_222.tif      0   68686       0   15820  0.187206   \n",
              "8   DIFF  R_3_222.tif  ESM_222.tif  318.0  1433.0   718.0  3025.0  0.030161   \n",
              "9   ORIG  R_4_398.tif  ESM_398.tif    292   61954    1493   26261  0.308378   \n",
              "10  PRED  R_4_398.tif  ESM_398.tif    387   60688    5314   26345  0.341396   \n",
              "11  DIFF  R_4_398.tif  ESM_398.tif   95.0  1266.0  3821.0    84.0  0.033018   \n",
              "\n",
              "    250_prop  255_prop  \n",
              "0   0.011233  0.208911  \n",
              "1   0.000000  0.221053  \n",
              "2   0.011233  0.012142  \n",
              "3   0.003033  0.228756  \n",
              "4   0.022857  0.299644  \n",
              "5   0.019824  0.070889  \n",
              "6   0.007978  0.209389  \n",
              "7   0.000000  0.187206  \n",
              "8   0.007978  0.022183  \n",
              "9   0.016589  0.291789  \n",
              "10  0.057304  0.284092  \n",
              "11  0.040715  0.007697  "
            ],
            "text/html": [
              "\n",
              "  <div id=\"df-a5bb6cf4-52d6-46d1-ad5b-f1ceb10db4f7\">\n",
              "    <div class=\"colab-df-container\">\n",
              "      <div>\n",
              "<style scoped>\n",
              "    .dataframe tbody tr th:only-of-type {\n",
              "        vertical-align: middle;\n",
              "    }\n",
              "\n",
              "    .dataframe tbody tr th {\n",
              "        vertical-align: top;\n",
              "    }\n",
              "\n",
              "    .dataframe thead th {\n",
              "        text-align: right;\n",
              "    }\n",
              "</style>\n",
              "<table border=\"1\" class=\"dataframe\">\n",
              "  <thead>\n",
              "    <tr style=\"text-align: right;\">\n",
              "      <th></th>\n",
              "      <th>type</th>\n",
              "      <th>image_name</th>\n",
              "      <th>mask_name</th>\n",
              "      <th>0</th>\n",
              "      <th>1</th>\n",
              "      <th>250</th>\n",
              "      <th>255</th>\n",
              "      <th>BU_prop</th>\n",
              "      <th>250_prop</th>\n",
              "      <th>255_prop</th>\n",
              "    </tr>\n",
              "  </thead>\n",
              "  <tbody>\n",
              "    <tr>\n",
              "      <th>0</th>\n",
              "      <td>ORIG</td>\n",
              "      <td>R_3_254.tif</td>\n",
              "      <td>ESM_254.tif</td>\n",
              "      <td>241</td>\n",
              "      <td>69946</td>\n",
              "      <td>1011</td>\n",
              "      <td>18802</td>\n",
              "      <td>0.220144</td>\n",
              "      <td>0.011233</td>\n",
              "      <td>0.208911</td>\n",
              "    </tr>\n",
              "    <tr>\n",
              "      <th>1</th>\n",
              "      <td>PRED</td>\n",
              "      <td>R_3_254.tif</td>\n",
              "      <td>ESM_254.tif</td>\n",
              "      <td>0</td>\n",
              "      <td>68598</td>\n",
              "      <td>0</td>\n",
              "      <td>19467</td>\n",
              "      <td>0.221053</td>\n",
              "      <td>0.000000</td>\n",
              "      <td>0.221053</td>\n",
              "    </tr>\n",
              "    <tr>\n",
              "      <th>2</th>\n",
              "      <td>DIFF</td>\n",
              "      <td>R_3_254.tif</td>\n",
              "      <td>ESM_254.tif</td>\n",
              "      <td>241.0</td>\n",
              "      <td>1348.0</td>\n",
              "      <td>1011.0</td>\n",
              "      <td>665.0</td>\n",
              "      <td>0.000908</td>\n",
              "      <td>0.011233</td>\n",
              "      <td>0.012142</td>\n",
              "    </tr>\n",
              "    <tr>\n",
              "      <th>3</th>\n",
              "      <td>ORIG</td>\n",
              "      <td>R_6_566.tif</td>\n",
              "      <td>ESM_566.tif</td>\n",
              "      <td>322</td>\n",
              "      <td>68817</td>\n",
              "      <td>273</td>\n",
              "      <td>20588</td>\n",
              "      <td>0.231789</td>\n",
              "      <td>0.003033</td>\n",
              "      <td>0.228756</td>\n",
              "    </tr>\n",
              "    <tr>\n",
              "      <th>4</th>\n",
              "      <td>PRED</td>\n",
              "      <td>R_6_566.tif</td>\n",
              "      <td>ESM_566.tif</td>\n",
              "      <td>0</td>\n",
              "      <td>63193</td>\n",
              "      <td>2132</td>\n",
              "      <td>27949</td>\n",
              "      <td>0.322501</td>\n",
              "      <td>0.022857</td>\n",
              "      <td>0.299644</td>\n",
              "    </tr>\n",
              "    <tr>\n",
              "      <th>5</th>\n",
              "      <td>DIFF</td>\n",
              "      <td>R_6_566.tif</td>\n",
              "      <td>ESM_566.tif</td>\n",
              "      <td>322.0</td>\n",
              "      <td>5624.0</td>\n",
              "      <td>1859.0</td>\n",
              "      <td>7361.0</td>\n",
              "      <td>0.090713</td>\n",
              "      <td>0.019824</td>\n",
              "      <td>0.070889</td>\n",
              "    </tr>\n",
              "    <tr>\n",
              "      <th>6</th>\n",
              "      <td>ORIG</td>\n",
              "      <td>R_3_222.tif</td>\n",
              "      <td>ESM_222.tif</td>\n",
              "      <td>318</td>\n",
              "      <td>70119</td>\n",
              "      <td>718</td>\n",
              "      <td>18845</td>\n",
              "      <td>0.217367</td>\n",
              "      <td>0.007978</td>\n",
              "      <td>0.209389</td>\n",
              "    </tr>\n",
              "    <tr>\n",
              "      <th>7</th>\n",
              "      <td>PRED</td>\n",
              "      <td>R_3_222.tif</td>\n",
              "      <td>ESM_222.tif</td>\n",
              "      <td>0</td>\n",
              "      <td>68686</td>\n",
              "      <td>0</td>\n",
              "      <td>15820</td>\n",
              "      <td>0.187206</td>\n",
              "      <td>0.000000</td>\n",
              "      <td>0.187206</td>\n",
              "    </tr>\n",
              "    <tr>\n",
              "      <th>8</th>\n",
              "      <td>DIFF</td>\n",
              "      <td>R_3_222.tif</td>\n",
              "      <td>ESM_222.tif</td>\n",
              "      <td>318.0</td>\n",
              "      <td>1433.0</td>\n",
              "      <td>718.0</td>\n",
              "      <td>3025.0</td>\n",
              "      <td>0.030161</td>\n",
              "      <td>0.007978</td>\n",
              "      <td>0.022183</td>\n",
              "    </tr>\n",
              "    <tr>\n",
              "      <th>9</th>\n",
              "      <td>ORIG</td>\n",
              "      <td>R_4_398.tif</td>\n",
              "      <td>ESM_398.tif</td>\n",
              "      <td>292</td>\n",
              "      <td>61954</td>\n",
              "      <td>1493</td>\n",
              "      <td>26261</td>\n",
              "      <td>0.308378</td>\n",
              "      <td>0.016589</td>\n",
              "      <td>0.291789</td>\n",
              "    </tr>\n",
              "    <tr>\n",
              "      <th>10</th>\n",
              "      <td>PRED</td>\n",
              "      <td>R_4_398.tif</td>\n",
              "      <td>ESM_398.tif</td>\n",
              "      <td>387</td>\n",
              "      <td>60688</td>\n",
              "      <td>5314</td>\n",
              "      <td>26345</td>\n",
              "      <td>0.341396</td>\n",
              "      <td>0.057304</td>\n",
              "      <td>0.284092</td>\n",
              "    </tr>\n",
              "    <tr>\n",
              "      <th>11</th>\n",
              "      <td>DIFF</td>\n",
              "      <td>R_4_398.tif</td>\n",
              "      <td>ESM_398.tif</td>\n",
              "      <td>95.0</td>\n",
              "      <td>1266.0</td>\n",
              "      <td>3821.0</td>\n",
              "      <td>84.0</td>\n",
              "      <td>0.033018</td>\n",
              "      <td>0.040715</td>\n",
              "      <td>0.007697</td>\n",
              "    </tr>\n",
              "  </tbody>\n",
              "</table>\n",
              "</div>\n",
              "      <button class=\"colab-df-convert\" onclick=\"convertToInteractive('df-a5bb6cf4-52d6-46d1-ad5b-f1ceb10db4f7')\"\n",
              "              title=\"Convert this dataframe to an interactive table.\"\n",
              "              style=\"display:none;\">\n",
              "        \n",
              "  <svg xmlns=\"http://www.w3.org/2000/svg\" height=\"24px\"viewBox=\"0 0 24 24\"\n",
              "       width=\"24px\">\n",
              "    <path d=\"M0 0h24v24H0V0z\" fill=\"none\"/>\n",
              "    <path d=\"M18.56 5.44l.94 2.06.94-2.06 2.06-.94-2.06-.94-.94-2.06-.94 2.06-2.06.94zm-11 1L8.5 8.5l.94-2.06 2.06-.94-2.06-.94L8.5 2.5l-.94 2.06-2.06.94zm10 10l.94 2.06.94-2.06 2.06-.94-2.06-.94-.94-2.06-.94 2.06-2.06.94z\"/><path d=\"M17.41 7.96l-1.37-1.37c-.4-.4-.92-.59-1.43-.59-.52 0-1.04.2-1.43.59L10.3 9.45l-7.72 7.72c-.78.78-.78 2.05 0 2.83L4 21.41c.39.39.9.59 1.41.59.51 0 1.02-.2 1.41-.59l7.78-7.78 2.81-2.81c.8-.78.8-2.07 0-2.86zM5.41 20L4 18.59l7.72-7.72 1.47 1.35L5.41 20z\"/>\n",
              "  </svg>\n",
              "      </button>\n",
              "      \n",
              "  <style>\n",
              "    .colab-df-container {\n",
              "      display:flex;\n",
              "      flex-wrap:wrap;\n",
              "      gap: 12px;\n",
              "    }\n",
              "\n",
              "    .colab-df-convert {\n",
              "      background-color: #E8F0FE;\n",
              "      border: none;\n",
              "      border-radius: 50%;\n",
              "      cursor: pointer;\n",
              "      display: none;\n",
              "      fill: #1967D2;\n",
              "      height: 32px;\n",
              "      padding: 0 0 0 0;\n",
              "      width: 32px;\n",
              "    }\n",
              "\n",
              "    .colab-df-convert:hover {\n",
              "      background-color: #E2EBFA;\n",
              "      box-shadow: 0px 1px 2px rgba(60, 64, 67, 0.3), 0px 1px 3px 1px rgba(60, 64, 67, 0.15);\n",
              "      fill: #174EA6;\n",
              "    }\n",
              "\n",
              "    [theme=dark] .colab-df-convert {\n",
              "      background-color: #3B4455;\n",
              "      fill: #D2E3FC;\n",
              "    }\n",
              "\n",
              "    [theme=dark] .colab-df-convert:hover {\n",
              "      background-color: #434B5C;\n",
              "      box-shadow: 0px 1px 3px 1px rgba(0, 0, 0, 0.15);\n",
              "      filter: drop-shadow(0px 1px 2px rgba(0, 0, 0, 0.3));\n",
              "      fill: #FFFFFF;\n",
              "    }\n",
              "  </style>\n",
              "\n",
              "      <script>\n",
              "        const buttonEl =\n",
              "          document.querySelector('#df-a5bb6cf4-52d6-46d1-ad5b-f1ceb10db4f7 button.colab-df-convert');\n",
              "        buttonEl.style.display =\n",
              "          google.colab.kernel.accessAllowed ? 'block' : 'none';\n",
              "\n",
              "        async function convertToInteractive(key) {\n",
              "          const element = document.querySelector('#df-a5bb6cf4-52d6-46d1-ad5b-f1ceb10db4f7');\n",
              "          const dataTable =\n",
              "            await google.colab.kernel.invokeFunction('convertToInteractive',\n",
              "                                                     [key], {});\n",
              "          if (!dataTable) return;\n",
              "\n",
              "          const docLinkHtml = 'Like what you see? Visit the ' +\n",
              "            '<a target=\"_blank\" href=https://colab.research.google.com/notebooks/data_table.ipynb>data table notebook</a>'\n",
              "            + ' to learn more about interactive tables.';\n",
              "          element.innerHTML = '';\n",
              "          dataTable['output_type'] = 'display_data';\n",
              "          await google.colab.output.renderOutput(dataTable, element);\n",
              "          const docLink = document.createElement('div');\n",
              "          docLink.innerHTML = docLinkHtml;\n",
              "          element.appendChild(docLink);\n",
              "        }\n",
              "      </script>\n",
              "    </div>\n",
              "  </div>\n",
              "  "
            ]
          },
          "metadata": {},
          "execution_count": 96
        }
      ],
      "source": [
        "pred_test_prop_df = build_proportions_df(test_fnames,test_preds_decoded,ESM_TEST_DIR)\n",
        "pred_test_prop_df.head(12)"
      ]
    },
    {
      "cell_type": "code",
      "execution_count": null,
      "metadata": {
        "id": "TJGC_X9EHz4r"
      },
      "outputs": [],
      "source": [
        "!rm -f preds/*.tif"
      ]
    },
    {
      "cell_type": "code",
      "execution_count": null,
      "metadata": {
        "id": "JIyDPwb9SYMS"
      },
      "outputs": [],
      "source": [
        "# plot_final_results(test_fnames,test_preds,pred_test_prop_df,S2_TEST_DIR,ESM_TEST_DIR)"
      ]
    },
    {
      "cell_type": "code",
      "execution_count": null,
      "metadata": {
        "id": "ciTn5VuyW8c2"
      },
      "outputs": [],
      "source": [
        ""
      ]
    },
    {
      "cell_type": "markdown",
      "metadata": {
        "id": "xceqgyPUUNK9"
      },
      "source": [
        "We can see that when the color bars are higer than Dice~0.6 the quality of the preciction is not bad\n",
        "The Absolute error is the sum of the error precentage for all classes\n",
        "The Absolute Foreground error is the sum of the error precentage for 250,255\n",
        "We can see for some images (such R_7_685.tif or R_1_61.tif), where the \"no data\" was covering some real 250 and 255 - the model was able to predict them quite well..."
      ]
    },
    {
      "cell_type": "code",
      "execution_count": null,
      "metadata": {
        "id": "hULJ4WzosbC_"
      },
      "outputs": [],
      "source": [
        "#Save final model (~700MB)\n",
        "# learn.save('last_model')\n"
      ]
    },
    {
      "cell_type": "markdown",
      "metadata": {
        "id": "UGvyUAmbUH_h"
      },
      "source": [
        "We are getting the same or better metric results as some relevant published papers, such as:\n",
        "https://www.mdpi.com/2072-4292/13/12/2292/htm\n",
        "\n",
        "Table 16. Global metrics for the experiment with UNet on UOS2 (UOS2 is made out of Sentinel-2 satellite imagery and uses 13 bands or channels per image).\n",
        "\n",
        "| Experiment | \tOA | \tPA | \tUA | \tIoU | \tF1 | \n",
        "|------------|-----|-----|-----|------|------|\n",
        "|Base|\t0.647|\t0.569|\t0.428|\t0.323|\t0.489|\n",
        "|6 bands|\t0.569|\t0.480|\t0.373|\t0.252|\t0.420|\n",
        "|13 bands|\t0.589|\t0.463|\t0.371|\t0.261|\t0.412|\n"
      ]
    },
    {
      "cell_type": "markdown",
      "metadata": {
        "id": "sLwjo7N8to2z"
      },
      "source": [
        "References:\n",
        "\n",
        "Some code snippets and inspiration:\n",
        "\n",
        "https://gist.github.com/jaeeolma/0846e03c0c3b613212f8ca5824ae47e0\n",
        "\n",
        "https://github.com/muellerzr/Practical-Deep-Learning-for-Coders-2.0/blob/master/Computer%20Vision/07_Binary_Segmentation.ipynb\n",
        "\n",
        "[Semantic Segmentation for Edge Detection](file:///C:/Users/liadl/Desktop/remotesensing-14-00613-v2.pdf)\n",
        "\n",
        "Focal Loss paper : https://arxiv.org/pdf/1708.02002.pdf\n",
        "\n",
        "Paper with metric results on S2: https://www.mdpi.com/2072-4292/13/12/2292/htm\n",
        "\n",
        "Combined Focal and Dice loss: https://arxiv.org/abs/2102.04525\n"
      ]
    },
    {
      "cell_type": "code",
      "execution_count": null,
      "metadata": {
        "id": "RWpJ3PI2LfJm"
      },
      "outputs": [],
      "source": [
        ""
      ]
    }
  ],
  "metadata": {
    "_draft": {
      "nbviewer_url": "https://gist.github.com/88ddd03be2d2d2156cd293d73113051a"
    },
    "accelerator": "GPU",
    "colab": {
      "collapsed_sections": [],
      "machine_shape": "hm",
      "name": "Regression using UNET Pipeline.ipynb",
      "provenance": [],
      "toc_visible": true,
      "include_colab_link": true
    },
    "gist": {
      "data": {
        "description": "Multichannel satellite images with fastai2",
        "public": true
      },
      "id": "88ddd03be2d2d2156cd293d73113051a"
    },
    "kernelspec": {
      "display_name": "Python 3",
      "language": "python",
      "name": "python3"
    },
    "language_info": {
      "codemirror_mode": {
        "name": "ipython",
        "version": 3
      },
      "file_extension": ".py",
      "mimetype": "text/x-python",
      "name": "python",
      "nbconvert_exporter": "python",
      "pygments_lexer": "ipython3",
      "version": "3.7.6"
    },
    "toc": {
      "base_numbering": 1,
      "nav_menu": {},
      "number_sections": true,
      "sideBar": true,
      "skip_h1_title": false,
      "title_cell": "Table of Contents",
      "title_sidebar": "Contents",
      "toc_cell": false,
      "toc_position": {},
      "toc_section_display": true,
      "toc_window_display": false
    },
    "widgets": {
      "application/vnd.jupyter.widget-state+json": {
        "c221c833d5494a2f90868d14e3348124": {
          "model_module": "@jupyter-widgets/controls",
          "model_name": "HBoxModel",
          "model_module_version": "1.5.0",
          "state": {
            "_dom_classes": [],
            "_model_module": "@jupyter-widgets/controls",
            "_model_module_version": "1.5.0",
            "_model_name": "HBoxModel",
            "_view_count": null,
            "_view_module": "@jupyter-widgets/controls",
            "_view_module_version": "1.5.0",
            "_view_name": "HBoxView",
            "box_style": "",
            "children": [
              "IPY_MODEL_449d51c2375a47bd9fbde706f4314cdf",
              "IPY_MODEL_90611c56d8cd46cfbd56f47edecfe58e",
              "IPY_MODEL_63161581138740f1855dc03b1b107554"
            ],
            "layout": "IPY_MODEL_503a8ecaeb8b45eca2cbb1710881dd3f"
          }
        },
        "449d51c2375a47bd9fbde706f4314cdf": {
          "model_module": "@jupyter-widgets/controls",
          "model_name": "HTMLModel",
          "model_module_version": "1.5.0",
          "state": {
            "_dom_classes": [],
            "_model_module": "@jupyter-widgets/controls",
            "_model_module_version": "1.5.0",
            "_model_name": "HTMLModel",
            "_view_count": null,
            "_view_module": "@jupyter-widgets/controls",
            "_view_module_version": "1.5.0",
            "_view_name": "HTMLView",
            "description": "",
            "description_tooltip": null,
            "layout": "IPY_MODEL_12fe3f31913c4a6687e6283b1776ea2d",
            "placeholder": "​",
            "style": "IPY_MODEL_ec50d9f3119941c5b10185dd7d9277de",
            "value": ""
          }
        },
        "90611c56d8cd46cfbd56f47edecfe58e": {
          "model_module": "@jupyter-widgets/controls",
          "model_name": "FloatProgressModel",
          "model_module_version": "1.5.0",
          "state": {
            "_dom_classes": [],
            "_model_module": "@jupyter-widgets/controls",
            "_model_module_version": "1.5.0",
            "_model_name": "FloatProgressModel",
            "_view_count": null,
            "_view_module": "@jupyter-widgets/controls",
            "_view_module_version": "1.5.0",
            "_view_name": "ProgressView",
            "bar_style": "success",
            "description": "",
            "description_tooltip": null,
            "layout": "IPY_MODEL_27a0bf26c7b9461a968fa8282c2c8fe1",
            "max": 1,
            "min": 0,
            "orientation": "horizontal",
            "style": "IPY_MODEL_c21840e011a24371a732489892cafa8f",
            "value": 1
          }
        },
        "63161581138740f1855dc03b1b107554": {
          "model_module": "@jupyter-widgets/controls",
          "model_name": "HTMLModel",
          "model_module_version": "1.5.0",
          "state": {
            "_dom_classes": [],
            "_model_module": "@jupyter-widgets/controls",
            "_model_module_version": "1.5.0",
            "_model_name": "HTMLModel",
            "_view_count": null,
            "_view_module": "@jupyter-widgets/controls",
            "_view_module_version": "1.5.0",
            "_view_name": "HTMLView",
            "description": "",
            "description_tooltip": null,
            "layout": "IPY_MODEL_53431b6ab38647a895d21ca3e0705b08",
            "placeholder": "​",
            "style": "IPY_MODEL_35d4768017c24e1a9d88900e109b95d5",
            "value": " 130/? [00:01&lt;00:00, 71.10it/s]"
          }
        },
        "503a8ecaeb8b45eca2cbb1710881dd3f": {
          "model_module": "@jupyter-widgets/base",
          "model_name": "LayoutModel",
          "model_module_version": "1.2.0",
          "state": {
            "_model_module": "@jupyter-widgets/base",
            "_model_module_version": "1.2.0",
            "_model_name": "LayoutModel",
            "_view_count": null,
            "_view_module": "@jupyter-widgets/base",
            "_view_module_version": "1.2.0",
            "_view_name": "LayoutView",
            "align_content": null,
            "align_items": null,
            "align_self": null,
            "border": null,
            "bottom": null,
            "display": null,
            "flex": null,
            "flex_flow": null,
            "grid_area": null,
            "grid_auto_columns": null,
            "grid_auto_flow": null,
            "grid_auto_rows": null,
            "grid_column": null,
            "grid_gap": null,
            "grid_row": null,
            "grid_template_areas": null,
            "grid_template_columns": null,
            "grid_template_rows": null,
            "height": null,
            "justify_content": null,
            "justify_items": null,
            "left": null,
            "margin": null,
            "max_height": null,
            "max_width": null,
            "min_height": null,
            "min_width": null,
            "object_fit": null,
            "object_position": null,
            "order": null,
            "overflow": null,
            "overflow_x": null,
            "overflow_y": null,
            "padding": null,
            "right": null,
            "top": null,
            "visibility": null,
            "width": null
          }
        },
        "12fe3f31913c4a6687e6283b1776ea2d": {
          "model_module": "@jupyter-widgets/base",
          "model_name": "LayoutModel",
          "model_module_version": "1.2.0",
          "state": {
            "_model_module": "@jupyter-widgets/base",
            "_model_module_version": "1.2.0",
            "_model_name": "LayoutModel",
            "_view_count": null,
            "_view_module": "@jupyter-widgets/base",
            "_view_module_version": "1.2.0",
            "_view_name": "LayoutView",
            "align_content": null,
            "align_items": null,
            "align_self": null,
            "border": null,
            "bottom": null,
            "display": null,
            "flex": null,
            "flex_flow": null,
            "grid_area": null,
            "grid_auto_columns": null,
            "grid_auto_flow": null,
            "grid_auto_rows": null,
            "grid_column": null,
            "grid_gap": null,
            "grid_row": null,
            "grid_template_areas": null,
            "grid_template_columns": null,
            "grid_template_rows": null,
            "height": null,
            "justify_content": null,
            "justify_items": null,
            "left": null,
            "margin": null,
            "max_height": null,
            "max_width": null,
            "min_height": null,
            "min_width": null,
            "object_fit": null,
            "object_position": null,
            "order": null,
            "overflow": null,
            "overflow_x": null,
            "overflow_y": null,
            "padding": null,
            "right": null,
            "top": null,
            "visibility": null,
            "width": null
          }
        },
        "ec50d9f3119941c5b10185dd7d9277de": {
          "model_module": "@jupyter-widgets/controls",
          "model_name": "DescriptionStyleModel",
          "model_module_version": "1.5.0",
          "state": {
            "_model_module": "@jupyter-widgets/controls",
            "_model_module_version": "1.5.0",
            "_model_name": "DescriptionStyleModel",
            "_view_count": null,
            "_view_module": "@jupyter-widgets/base",
            "_view_module_version": "1.2.0",
            "_view_name": "StyleView",
            "description_width": ""
          }
        },
        "27a0bf26c7b9461a968fa8282c2c8fe1": {
          "model_module": "@jupyter-widgets/base",
          "model_name": "LayoutModel",
          "model_module_version": "1.2.0",
          "state": {
            "_model_module": "@jupyter-widgets/base",
            "_model_module_version": "1.2.0",
            "_model_name": "LayoutModel",
            "_view_count": null,
            "_view_module": "@jupyter-widgets/base",
            "_view_module_version": "1.2.0",
            "_view_name": "LayoutView",
            "align_content": null,
            "align_items": null,
            "align_self": null,
            "border": null,
            "bottom": null,
            "display": null,
            "flex": null,
            "flex_flow": null,
            "grid_area": null,
            "grid_auto_columns": null,
            "grid_auto_flow": null,
            "grid_auto_rows": null,
            "grid_column": null,
            "grid_gap": null,
            "grid_row": null,
            "grid_template_areas": null,
            "grid_template_columns": null,
            "grid_template_rows": null,
            "height": null,
            "justify_content": null,
            "justify_items": null,
            "left": null,
            "margin": null,
            "max_height": null,
            "max_width": null,
            "min_height": null,
            "min_width": null,
            "object_fit": null,
            "object_position": null,
            "order": null,
            "overflow": null,
            "overflow_x": null,
            "overflow_y": null,
            "padding": null,
            "right": null,
            "top": null,
            "visibility": null,
            "width": "20px"
          }
        },
        "c21840e011a24371a732489892cafa8f": {
          "model_module": "@jupyter-widgets/controls",
          "model_name": "ProgressStyleModel",
          "model_module_version": "1.5.0",
          "state": {
            "_model_module": "@jupyter-widgets/controls",
            "_model_module_version": "1.5.0",
            "_model_name": "ProgressStyleModel",
            "_view_count": null,
            "_view_module": "@jupyter-widgets/base",
            "_view_module_version": "1.2.0",
            "_view_name": "StyleView",
            "bar_color": null,
            "description_width": ""
          }
        },
        "53431b6ab38647a895d21ca3e0705b08": {
          "model_module": "@jupyter-widgets/base",
          "model_name": "LayoutModel",
          "model_module_version": "1.2.0",
          "state": {
            "_model_module": "@jupyter-widgets/base",
            "_model_module_version": "1.2.0",
            "_model_name": "LayoutModel",
            "_view_count": null,
            "_view_module": "@jupyter-widgets/base",
            "_view_module_version": "1.2.0",
            "_view_name": "LayoutView",
            "align_content": null,
            "align_items": null,
            "align_self": null,
            "border": null,
            "bottom": null,
            "display": null,
            "flex": null,
            "flex_flow": null,
            "grid_area": null,
            "grid_auto_columns": null,
            "grid_auto_flow": null,
            "grid_auto_rows": null,
            "grid_column": null,
            "grid_gap": null,
            "grid_row": null,
            "grid_template_areas": null,
            "grid_template_columns": null,
            "grid_template_rows": null,
            "height": null,
            "justify_content": null,
            "justify_items": null,
            "left": null,
            "margin": null,
            "max_height": null,
            "max_width": null,
            "min_height": null,
            "min_width": null,
            "object_fit": null,
            "object_position": null,
            "order": null,
            "overflow": null,
            "overflow_x": null,
            "overflow_y": null,
            "padding": null,
            "right": null,
            "top": null,
            "visibility": null,
            "width": null
          }
        },
        "35d4768017c24e1a9d88900e109b95d5": {
          "model_module": "@jupyter-widgets/controls",
          "model_name": "DescriptionStyleModel",
          "model_module_version": "1.5.0",
          "state": {
            "_model_module": "@jupyter-widgets/controls",
            "_model_module_version": "1.5.0",
            "_model_name": "DescriptionStyleModel",
            "_view_count": null,
            "_view_module": "@jupyter-widgets/base",
            "_view_module_version": "1.2.0",
            "_view_name": "StyleView",
            "description_width": ""
          }
        },
        "0708ace8e3cc4fb89b658d03f9601b9b": {
          "model_module": "@jupyter-widgets/controls",
          "model_name": "HBoxModel",
          "model_module_version": "1.5.0",
          "state": {
            "_dom_classes": [],
            "_model_module": "@jupyter-widgets/controls",
            "_model_module_version": "1.5.0",
            "_model_name": "HBoxModel",
            "_view_count": null,
            "_view_module": "@jupyter-widgets/controls",
            "_view_module_version": "1.5.0",
            "_view_name": "HBoxView",
            "box_style": "",
            "children": [
              "IPY_MODEL_4c323a06cf7e47b2b82b71246d01834b",
              "IPY_MODEL_578d7ca60766404b936a07e085c4520e",
              "IPY_MODEL_7b0b9ca6926c45d5968b2b2e3afa4e1b"
            ],
            "layout": "IPY_MODEL_0aa6411b5535464abcc0a91bddd86b66"
          }
        },
        "4c323a06cf7e47b2b82b71246d01834b": {
          "model_module": "@jupyter-widgets/controls",
          "model_name": "HTMLModel",
          "model_module_version": "1.5.0",
          "state": {
            "_dom_classes": [],
            "_model_module": "@jupyter-widgets/controls",
            "_model_module_version": "1.5.0",
            "_model_name": "HTMLModel",
            "_view_count": null,
            "_view_module": "@jupyter-widgets/controls",
            "_view_module_version": "1.5.0",
            "_view_name": "HTMLView",
            "description": "",
            "description_tooltip": null,
            "layout": "IPY_MODEL_69e977edde0c4a069da39e4175840f08",
            "placeholder": "​",
            "style": "IPY_MODEL_e66aecdde6a74d12bf347e54290e83cb",
            "value": ""
          }
        },
        "578d7ca60766404b936a07e085c4520e": {
          "model_module": "@jupyter-widgets/controls",
          "model_name": "FloatProgressModel",
          "model_module_version": "1.5.0",
          "state": {
            "_dom_classes": [],
            "_model_module": "@jupyter-widgets/controls",
            "_model_module_version": "1.5.0",
            "_model_name": "FloatProgressModel",
            "_view_count": null,
            "_view_module": "@jupyter-widgets/controls",
            "_view_module_version": "1.5.0",
            "_view_name": "ProgressView",
            "bar_style": "success",
            "description": "",
            "description_tooltip": null,
            "layout": "IPY_MODEL_65a575cb08874863bb90af3af0b0531b",
            "max": 1,
            "min": 0,
            "orientation": "horizontal",
            "style": "IPY_MODEL_51534bdcd6b14a6d858727386f8cf4db",
            "value": 1
          }
        },
        "7b0b9ca6926c45d5968b2b2e3afa4e1b": {
          "model_module": "@jupyter-widgets/controls",
          "model_name": "HTMLModel",
          "model_module_version": "1.5.0",
          "state": {
            "_dom_classes": [],
            "_model_module": "@jupyter-widgets/controls",
            "_model_module_version": "1.5.0",
            "_model_name": "HTMLModel",
            "_view_count": null,
            "_view_module": "@jupyter-widgets/controls",
            "_view_module_version": "1.5.0",
            "_view_name": "HTMLView",
            "description": "",
            "description_tooltip": null,
            "layout": "IPY_MODEL_514bcc3c1e8c48bea7da96c3eba8808b",
            "placeholder": "​",
            "style": "IPY_MODEL_0619d3d01776462b8e629fb64f63d77b",
            "value": " 50/? [00:00&lt;00:00, 68.67it/s]"
          }
        },
        "0aa6411b5535464abcc0a91bddd86b66": {
          "model_module": "@jupyter-widgets/base",
          "model_name": "LayoutModel",
          "model_module_version": "1.2.0",
          "state": {
            "_model_module": "@jupyter-widgets/base",
            "_model_module_version": "1.2.0",
            "_model_name": "LayoutModel",
            "_view_count": null,
            "_view_module": "@jupyter-widgets/base",
            "_view_module_version": "1.2.0",
            "_view_name": "LayoutView",
            "align_content": null,
            "align_items": null,
            "align_self": null,
            "border": null,
            "bottom": null,
            "display": null,
            "flex": null,
            "flex_flow": null,
            "grid_area": null,
            "grid_auto_columns": null,
            "grid_auto_flow": null,
            "grid_auto_rows": null,
            "grid_column": null,
            "grid_gap": null,
            "grid_row": null,
            "grid_template_areas": null,
            "grid_template_columns": null,
            "grid_template_rows": null,
            "height": null,
            "justify_content": null,
            "justify_items": null,
            "left": null,
            "margin": null,
            "max_height": null,
            "max_width": null,
            "min_height": null,
            "min_width": null,
            "object_fit": null,
            "object_position": null,
            "order": null,
            "overflow": null,
            "overflow_x": null,
            "overflow_y": null,
            "padding": null,
            "right": null,
            "top": null,
            "visibility": null,
            "width": null
          }
        },
        "69e977edde0c4a069da39e4175840f08": {
          "model_module": "@jupyter-widgets/base",
          "model_name": "LayoutModel",
          "model_module_version": "1.2.0",
          "state": {
            "_model_module": "@jupyter-widgets/base",
            "_model_module_version": "1.2.0",
            "_model_name": "LayoutModel",
            "_view_count": null,
            "_view_module": "@jupyter-widgets/base",
            "_view_module_version": "1.2.0",
            "_view_name": "LayoutView",
            "align_content": null,
            "align_items": null,
            "align_self": null,
            "border": null,
            "bottom": null,
            "display": null,
            "flex": null,
            "flex_flow": null,
            "grid_area": null,
            "grid_auto_columns": null,
            "grid_auto_flow": null,
            "grid_auto_rows": null,
            "grid_column": null,
            "grid_gap": null,
            "grid_row": null,
            "grid_template_areas": null,
            "grid_template_columns": null,
            "grid_template_rows": null,
            "height": null,
            "justify_content": null,
            "justify_items": null,
            "left": null,
            "margin": null,
            "max_height": null,
            "max_width": null,
            "min_height": null,
            "min_width": null,
            "object_fit": null,
            "object_position": null,
            "order": null,
            "overflow": null,
            "overflow_x": null,
            "overflow_y": null,
            "padding": null,
            "right": null,
            "top": null,
            "visibility": null,
            "width": null
          }
        },
        "e66aecdde6a74d12bf347e54290e83cb": {
          "model_module": "@jupyter-widgets/controls",
          "model_name": "DescriptionStyleModel",
          "model_module_version": "1.5.0",
          "state": {
            "_model_module": "@jupyter-widgets/controls",
            "_model_module_version": "1.5.0",
            "_model_name": "DescriptionStyleModel",
            "_view_count": null,
            "_view_module": "@jupyter-widgets/base",
            "_view_module_version": "1.2.0",
            "_view_name": "StyleView",
            "description_width": ""
          }
        },
        "65a575cb08874863bb90af3af0b0531b": {
          "model_module": "@jupyter-widgets/base",
          "model_name": "LayoutModel",
          "model_module_version": "1.2.0",
          "state": {
            "_model_module": "@jupyter-widgets/base",
            "_model_module_version": "1.2.0",
            "_model_name": "LayoutModel",
            "_view_count": null,
            "_view_module": "@jupyter-widgets/base",
            "_view_module_version": "1.2.0",
            "_view_name": "LayoutView",
            "align_content": null,
            "align_items": null,
            "align_self": null,
            "border": null,
            "bottom": null,
            "display": null,
            "flex": null,
            "flex_flow": null,
            "grid_area": null,
            "grid_auto_columns": null,
            "grid_auto_flow": null,
            "grid_auto_rows": null,
            "grid_column": null,
            "grid_gap": null,
            "grid_row": null,
            "grid_template_areas": null,
            "grid_template_columns": null,
            "grid_template_rows": null,
            "height": null,
            "justify_content": null,
            "justify_items": null,
            "left": null,
            "margin": null,
            "max_height": null,
            "max_width": null,
            "min_height": null,
            "min_width": null,
            "object_fit": null,
            "object_position": null,
            "order": null,
            "overflow": null,
            "overflow_x": null,
            "overflow_y": null,
            "padding": null,
            "right": null,
            "top": null,
            "visibility": null,
            "width": "20px"
          }
        },
        "51534bdcd6b14a6d858727386f8cf4db": {
          "model_module": "@jupyter-widgets/controls",
          "model_name": "ProgressStyleModel",
          "model_module_version": "1.5.0",
          "state": {
            "_model_module": "@jupyter-widgets/controls",
            "_model_module_version": "1.5.0",
            "_model_name": "ProgressStyleModel",
            "_view_count": null,
            "_view_module": "@jupyter-widgets/base",
            "_view_module_version": "1.2.0",
            "_view_name": "StyleView",
            "bar_color": null,
            "description_width": ""
          }
        },
        "514bcc3c1e8c48bea7da96c3eba8808b": {
          "model_module": "@jupyter-widgets/base",
          "model_name": "LayoutModel",
          "model_module_version": "1.2.0",
          "state": {
            "_model_module": "@jupyter-widgets/base",
            "_model_module_version": "1.2.0",
            "_model_name": "LayoutModel",
            "_view_count": null,
            "_view_module": "@jupyter-widgets/base",
            "_view_module_version": "1.2.0",
            "_view_name": "LayoutView",
            "align_content": null,
            "align_items": null,
            "align_self": null,
            "border": null,
            "bottom": null,
            "display": null,
            "flex": null,
            "flex_flow": null,
            "grid_area": null,
            "grid_auto_columns": null,
            "grid_auto_flow": null,
            "grid_auto_rows": null,
            "grid_column": null,
            "grid_gap": null,
            "grid_row": null,
            "grid_template_areas": null,
            "grid_template_columns": null,
            "grid_template_rows": null,
            "height": null,
            "justify_content": null,
            "justify_items": null,
            "left": null,
            "margin": null,
            "max_height": null,
            "max_width": null,
            "min_height": null,
            "min_width": null,
            "object_fit": null,
            "object_position": null,
            "order": null,
            "overflow": null,
            "overflow_x": null,
            "overflow_y": null,
            "padding": null,
            "right": null,
            "top": null,
            "visibility": null,
            "width": null
          }
        },
        "0619d3d01776462b8e629fb64f63d77b": {
          "model_module": "@jupyter-widgets/controls",
          "model_name": "DescriptionStyleModel",
          "model_module_version": "1.5.0",
          "state": {
            "_model_module": "@jupyter-widgets/controls",
            "_model_module_version": "1.5.0",
            "_model_name": "DescriptionStyleModel",
            "_view_count": null,
            "_view_module": "@jupyter-widgets/base",
            "_view_module_version": "1.2.0",
            "_view_name": "StyleView",
            "description_width": ""
          }
        }
      }
    }
  },
  "nbformat": 4,
  "nbformat_minor": 0
}