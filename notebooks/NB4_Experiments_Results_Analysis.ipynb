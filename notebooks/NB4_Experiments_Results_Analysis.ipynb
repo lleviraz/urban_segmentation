{
  "cells": [
    {
      "cell_type": "markdown",
      "metadata": {
        "id": "view-in-github",
        "colab_type": "text"
      },
      "source": [
        "<a href=\"https://colab.research.google.com/github/lleviraz/urban_segmentation/blob/main/notebooks/NB4_Experiments_Results_Analysis.ipynb\" target=\"_parent\"><img src=\"https://colab.research.google.com/assets/colab-badge.svg\" alt=\"Open In Colab\"/></a>"
      ]
    },
    {
      "cell_type": "markdown",
      "metadata": {
        "id": "mCgAn09OhHly"
      },
      "source": [
        "# Analysys of the Segmentation Results "
      ]
    },
    {
      "cell_type": "markdown",
      "metadata": {
        "id": "ht87m_eVevHz"
      },
      "source": [
        "This notebook contains the Segmentation pipeline results analysis using fastai\n",
        "It assumes that the dataset was already preprocessed and available in two directories:\n",
        "- s2_resized - the input images\n",
        "- esm_aligned - the ESM masks\n",
        "\n",
        "A model was trained and saved: `models/best_model.pt`\n",
        "\n",
        "Results file: `results_log.csv`\n",
        "\n",
        "Test data and predidictions:\n",
        "- s2_resized_test - images for test not used in training\n",
        "- esm_resized_test - masks of the above test images (unused)\n",
        "- preds - predicted masks based on test data\n",
        "\n",
        "By: Eli T. and Liad.L."
      ]
    },
    {
      "cell_type": "code",
      "execution_count": null,
      "metadata": {
        "colab": {
          "base_uri": "https://localhost:8080/"
        },
        "id": "gNQu2FtCoR5O",
        "outputId": "0d698e19-8a97-473d-8f65-a4f84c40d59b"
      },
      "outputs": [
        {
          "output_type": "stream",
          "name": "stdout",
          "text": [
            "Drive already mounted at /content/drive; to attempt to forcibly remount, call drive.mount(\"/content/drive\", force_remount=True).\n"
          ]
        }
      ],
      "source": [
        "import warnings\n",
        "warnings.filterwarnings('ignore')\n",
        "from google.colab import drive\n",
        "drive.mount('/content/drive')\n"
      ]
    },
    {
      "cell_type": "code",
      "source": [
        "DRV = 'drive/MyDrive/2022/S1/3624_Final_Project/dataset/'\n",
        "# !cp -rfn drive/MyDrive/2022/S1/3624_Final_Project/dataset/s2_resized_test /content/s2_resized_test\n",
        "# !cp -rfn drive/MyDrive/2022/S1/3624_Final_Project/dataset/esm_aligned_test /content/esm_aligned_test\n",
        "# !zip esm_aligned_small.zip esm_aligned_small/*\n",
        "# !zip s2_resized_small.zip s2_resized_small/*\n",
        "\n",
        "# !mkdir -p {DRV}/small\n",
        "# !cp esm_aligned_small.zip {DRV}/small/\n",
        "# !cp s2_resized_small.zip {DRV}/small/\n",
        "# !unzip {DRV}/small/esm_aligned_small.zip -d {DRV}/small/\n",
        "# !unzip {DRV}/small/s2_resized_small.zip -d {DRV}/small/\n",
        "# !ls {DRV}/small/s2_resized_small/*.tif | wc -l"
      ],
      "metadata": {
        "id": "NQZ2MFgloDg4"
      },
      "execution_count": null,
      "outputs": []
    },
    {
      "cell_type": "code",
      "execution_count": null,
      "metadata": {
        "colab": {
          "base_uri": "https://localhost:8080/",
          "height": 314
        },
        "id": "ZtaJKO3Ag3xr",
        "outputId": "b9515520-e9e9-4392-a0ae-1f20009971ce"
      },
      "outputs": [
        {
          "output_type": "stream",
          "name": "stdout",
          "text": [
            "\u001b[K     |████████████████████████████████| 15.7 MB 234 kB/s \n",
            "\u001b[31mERROR: pip's dependency resolver does not currently take into account all the packages that are installed. This behaviour is the source of the following dependency conflicts.\n",
            "scikit-image 0.18.3 requires PyWavelets>=1.1.1, but you have pywavelets 1.0.3 which is incompatible.\n",
            "imagededup 0.2.2 requires numpy<1.17, but you have numpy 1.21.6 which is incompatible.\n",
            "google-colab 1.0.0 requires tornado~=5.1.0; python_version >= \"3.0\", but you have tornado 6.1 which is incompatible.\n",
            "datascience 0.10.6 requires folium==0.2.1, but you have folium 0.8.3 which is incompatible.\n",
            "bokeh 2.3.3 requires pillow>=7.1.0, but you have pillow 6.2.2 which is incompatible.\n",
            "albumentations 0.1.12 requires imgaug<0.2.7,>=0.2.5, but you have imgaug 0.2.9 which is incompatible.\u001b[0m\n",
            "\u001b[?25h"
          ]
        },
        {
          "output_type": "execute_result",
          "data": {
            "text/plain": [
              "<IPython.core.display.Markdown object>"
            ],
            "text/markdown": "\n---\nThis article is also a Jupyter Notebook available to be run from the top down. There\nwill be code snippets that you can then run in any environment.\n\nBelow are the versions of `wwf`, `rasterio`, and `pytorch-ignite` currently running at the time of writing this:\n* `wwf` : 0.0.16 \n* `rasterio` : 1.2.10 \n* `pytorch-ignite` : 0.4.9 \n---"
          },
          "metadata": {},
          "execution_count": 64
        }
      ],
      "source": [
        "!pip install fastai wwf nbdev rasterio geopandas fastbook tiffile imagecodecs pytorch-ignite -q\n",
        "# !pip install wwf nbdev rasterio pytorch-ignite -q --upgrade\n",
        "\n",
        "from wwf.utils import state_versions\n",
        "state_versions(['wwf','rasterio','pytorch-ignite'])"
      ]
    },
    {
      "cell_type": "code",
      "execution_count": null,
      "metadata": {
        "id": "A3u-0VLeg71I"
      },
      "outputs": [],
      "source": [
        "# Python General\n",
        "import numpy as np\n",
        "import matplotlib.pyplot as plt\n",
        "import os\n",
        "import sys\n",
        "import shutil\n",
        "\n",
        "from pathlib import Path\n",
        "import glob\n",
        "from tqdm.notebook import tqdm\n",
        "import pprint as pp\n",
        "from PIL import Image\n",
        "import numpy as np\n",
        "\n",
        "#Torch\n",
        "from torch import nn\n",
        "import torch\n",
        "import torch.nn.functional as F\n",
        "from torchvision.transforms import *\n",
        "from torchvision.transforms.functional import InterpolationMode\n",
        "from torchvision.models.resnet import resnet18,resnet34,resnet50,resnet101\n",
        "# from ignite.metrics import SSIM\n",
        "\n",
        "\n",
        "#rasterio\n",
        "import rasterio as rio\n",
        "from rasterio.transform import Affine\n",
        "from rasterio.plot import show_hist,show\n",
        "from rasterio.warp import calculate_default_transform, reproject, Resampling\n",
        "\n",
        "#fastai\n",
        "from fastcore.xtras import Path\n",
        "from fastai.callback.hook import summary\n",
        "from fastai.callback.progress import ProgressCallback\n",
        "from fastai.callback.schedule import lr_find, fit_flat_cos\n",
        "from fastai.data import *\n",
        "from fastai.data.block import DataBlock\n",
        "from fastai.data.external import untar_data, URLs\n",
        "from fastai.data.transforms import get_image_files, FuncSplitter, Normalize\n",
        "from fastai.layers import Mish\n",
        "from fastai.losses import BaseLoss,DiceLoss,FocalLossFlat\n",
        "from fastai.optimizer import ranger,Adam\n",
        "from fastai.torch_core import tensor\n",
        "from fastai.vision.all import *\n",
        "from fastai.vision.augment import aug_transforms\n",
        "from fastai.vision.learner import unet_learner\n",
        "from fastai.vision import *\n",
        "from fastai.vision.core import *\n",
        "from fastai.vision.data import *\n",
        "from fastai.basics import *"
      ]
    },
    {
      "cell_type": "code",
      "execution_count": null,
      "metadata": {
        "id": "XplaZcu6meo7"
      },
      "outputs": [],
      "source": [
        "EXPORT_DIR='/content/drive/MyDrive/2022/S1/3624_Final_Project/dataset'\n",
        "os.chdir('/content/drive/MyDrive/2022/S1/3624_Final_Project/notebooks')\n",
        "sys.path.append('/content/drive/MyDrive/2022/S1/3624_Final_Project/notebooks')\n",
        "\n",
        "ESM_DIR = EXPORT_DIR + '/ESM'\n",
        "S2_DIR = EXPORT_DIR + '/S2'\n",
        "\n",
        "OVERFIT=False\n",
        "\n",
        "if OVERFIT==False:\n",
        "  esm_aligned = os.path.join(EXPORT_DIR ,'esm_aligned/')\n",
        "  s2_resized = os.path.join(EXPORT_DIR,'s2_resized')\n",
        "  S2_TEST_DIR = s2_resized + '_test'\n",
        "  ESM_TEST_DIR = esm_aligned + '_test'\n",
        "else:\n",
        "  #Testing the model can learn to overfit\n",
        "  esm_aligned = os.path.join(EXPORT_DIR ,'esm_4overfit/')\n",
        "  s2_resized = os.path.join(EXPORT_DIR,'s2_4overfit/')"
      ]
    },
    {
      "cell_type": "code",
      "execution_count": null,
      "metadata": {
        "colab": {
          "base_uri": "https://localhost:8080/"
        },
        "id": "3SYdrFWoCOyJ",
        "outputId": "357fb2be-050d-46ee-f47b-83187fcb80fb"
      },
      "outputs": [
        {
          "output_type": "stream",
          "name": "stdout",
          "text": [
            "Using device: cpu\n"
          ]
        }
      ],
      "source": [
        "device = torch.device('cuda' if torch.cuda.is_available() else 'cpu')\n",
        "# device = 'cpu' #GOOD FOR DEBUGGING\n",
        "print('Using device:', device)"
      ]
    },
    {
      "cell_type": "code",
      "execution_count": null,
      "metadata": {
        "id": "5zGsUVh6d13d"
      },
      "outputs": [],
      "source": [
        "from libs.preprocess import *\n",
        "from libs.metrics import *\n",
        "from libs.multichannel import *\n",
        "from libs.metrics import _fast_hist"
      ]
    },
    {
      "cell_type": "code",
      "execution_count": null,
      "metadata": {
        "colab": {
          "base_uri": "https://localhost:8080/"
        },
        "id": "lMZjxInoYrvR",
        "outputId": "6affd907-4672-4626-9169-3241b14662ae"
      },
      "outputs": [
        {
          "output_type": "stream",
          "name": "stdout",
          "text": [
            "650 train files in /content/drive/MyDrive/2022/S1/3624_Final_Project/dataset/s2_resized\n",
            "50 test files in /content/drive/MyDrive/2022/S1/3624_Final_Project/dataset/s2_resized_test\n"
          ]
        }
      ],
      "source": [
        "trn = glob.glob(os.path.join(s2_resized,'*.tif'))\n",
        "trn_number_files = len(trn)\n",
        "print('{} train files in {}'.format(trn_number_files,s2_resized))\n",
        "tst = glob.glob(os.path.join(S2_TEST_DIR,'*.tif'))\n",
        "tst_number_files = len(tst)\n",
        "print('{} test files in {}'.format(tst_number_files,S2_TEST_DIR))"
      ]
    },
    {
      "cell_type": "markdown",
      "metadata": {
        "id": "7cml8t9PpoW5"
      },
      "source": [
        "### Classes codes decoder dictionary (0,1,2,3)->(0,1,250,255)"
      ]
    },
    {
      "cell_type": "code",
      "execution_count": null,
      "metadata": {
        "colab": {
          "base_uri": "https://localhost:8080/"
        },
        "id": "zQaXL_Pqktr7",
        "outputId": "f487bf28-f639-4df8-84cf-ad965e34b72e"
      },
      "outputs": [
        {
          "output_type": "execute_result",
          "data": {
            "text/plain": [
              "['0_No_Data', '1_Land', '250_Non_Resi_BU', '255_Resi_BU']"
            ]
          },
          "metadata": {},
          "execution_count": 70
        }
      ],
      "source": [
        "codes = ['0_No_Data','1_Land','250_Non_Resi_BU','255_Resi_BU']\n",
        "codes"
      ]
    },
    {
      "cell_type": "code",
      "execution_count": null,
      "metadata": {
        "id": "We-T0gGZSru7"
      },
      "outputs": [],
      "source": [
        "# From np.unique(mask)\n",
        "mask_vals = {0:0,1:1,2:250,3:255}"
      ]
    },
    {
      "cell_type": "code",
      "source": [
        "fnames = get_image_files(s2_resized)\n",
        "lbl_names = get_image_files(esm_aligned)\n",
        "fnames,lbl_names"
      ],
      "metadata": {
        "colab": {
          "base_uri": "https://localhost:8080/"
        },
        "id": "n00d6EdwrXjW",
        "outputId": "a5d8a16f-3316-4541-ef07-fbd8267def39"
      },
      "execution_count": null,
      "outputs": [
        {
          "output_type": "execute_result",
          "data": {
            "text/plain": [
              "((#650) [Path('/content/drive/MyDrive/2022/S1/3624_Final_Project/dataset/s2_resized/R_1_0.tif'),Path('/content/drive/MyDrive/2022/S1/3624_Final_Project/dataset/s2_resized/R_1_1.tif'),Path('/content/drive/MyDrive/2022/S1/3624_Final_Project/dataset/s2_resized/R_1_2.tif'),Path('/content/drive/MyDrive/2022/S1/3624_Final_Project/dataset/s2_resized/R_1_3.tif'),Path('/content/drive/MyDrive/2022/S1/3624_Final_Project/dataset/s2_resized/R_1_4.tif'),Path('/content/drive/MyDrive/2022/S1/3624_Final_Project/dataset/s2_resized/R_1_5.tif'),Path('/content/drive/MyDrive/2022/S1/3624_Final_Project/dataset/s2_resized/R_1_9.tif'),Path('/content/drive/MyDrive/2022/S1/3624_Final_Project/dataset/s2_resized/R_1_6.tif'),Path('/content/drive/MyDrive/2022/S1/3624_Final_Project/dataset/s2_resized/R_1_11.tif'),Path('/content/drive/MyDrive/2022/S1/3624_Final_Project/dataset/s2_resized/R_1_10.tif')...],\n",
              " (#650) [Path('/content/drive/MyDrive/2022/S1/3624_Final_Project/dataset/esm_aligned/ESM_0.tif'),Path('/content/drive/MyDrive/2022/S1/3624_Final_Project/dataset/esm_aligned/ESM_2.tif'),Path('/content/drive/MyDrive/2022/S1/3624_Final_Project/dataset/esm_aligned/ESM_1.tif'),Path('/content/drive/MyDrive/2022/S1/3624_Final_Project/dataset/esm_aligned/ESM_699.tif'),Path('/content/drive/MyDrive/2022/S1/3624_Final_Project/dataset/esm_aligned/ESM_3.tif'),Path('/content/drive/MyDrive/2022/S1/3624_Final_Project/dataset/esm_aligned/ESM_4.tif'),Path('/content/drive/MyDrive/2022/S1/3624_Final_Project/dataset/esm_aligned/ESM_5.tif'),Path('/content/drive/MyDrive/2022/S1/3624_Final_Project/dataset/esm_aligned/ESM_6.tif'),Path('/content/drive/MyDrive/2022/S1/3624_Final_Project/dataset/esm_aligned/ESM_688.tif'),Path('/content/drive/MyDrive/2022/S1/3624_Final_Project/dataset/esm_aligned/ESM_687.tif')...])"
            ]
          },
          "metadata": {},
          "execution_count": 72
        }
      ]
    },
    {
      "cell_type": "code",
      "source": [
        "#TODO try to remove class 1 into class 0 as \"background class\"\n",
        "def get_msk(img_name,mask_dir, p2c,merge_bg=False):\n",
        "  '''\n",
        "  returns a matching mask for an image using the codes decoder dictionary (0,1,2,3)->(0,1,250,255)\n",
        "  '''\n",
        "  fn = get_matching_mask_path(img_name,mask_dir)\n",
        "  msk = np.array(PILMask.create(fn))\n",
        "  for i, val in enumerate(p2c):\n",
        "    msk[msk==p2c[i]] = val\n",
        " \n",
        "  if(merge_bg):\n",
        "    msk[msk==0] = 1\n",
        "    msk[0,0]=0 #save one pixel as 0 to preseve the \"colors\" when comparing\n",
        "  return PILMask.create(msk)"
      ],
      "metadata": {
        "id": "-vbG3M6jrXeM"
      },
      "execution_count": null,
      "outputs": []
    },
    {
      "cell_type": "code",
      "source": [
        "img_fn = fnames[3].name\n",
        "msk = get_msk(img_fn,esm_aligned,mask_vals)"
      ],
      "metadata": {
        "id": "4z75OvvDrXZN"
      },
      "execution_count": null,
      "outputs": []
    },
    {
      "cell_type": "code",
      "source": [
        "# !ls /content/drive/MyDrive/2022/S1/3624_Final_Project/dataset/esm_aligned/ESM_0.tif"
      ],
      "metadata": {
        "id": "qBEmykzfsPBS"
      },
      "execution_count": null,
      "outputs": []
    },
    {
      "cell_type": "code",
      "source": [
        "cm='Accent' #'nipy_spectral_r'\n"
      ],
      "metadata": {
        "id": "mJIwzoygreCf"
      },
      "execution_count": null,
      "outputs": []
    },
    {
      "cell_type": "code",
      "source": [
        "f,axs = plt.subplots(1,2,figsize=(10,10))\n",
        "msk.show(figsize=(5,5), alpha=1.,cmap=cm,ax=axs[0])\n",
        "msk2 = get_msk(img_fn,esm_aligned,mask_vals)#,merge_bg=True)\n",
        "msk2.show(figsize=(5,5), alpha=1.,cmap=cm,ax=axs[1])\n",
        "np.unique(tensor(msk),return_counts=True),np.unique(tensor(msk2),return_counts=True)"
      ],
      "metadata": {
        "colab": {
          "base_uri": "https://localhost:8080/",
          "height": 321
        },
        "id": "0JLoYkvpvs7q",
        "outputId": "b9ccd54c-503a-4d75-a2aa-28fde54f0f47"
      },
      "execution_count": null,
      "outputs": [
        {
          "output_type": "execute_result",
          "data": {
            "text/plain": [
              "((array([0, 1, 2, 3], dtype=uint8), array([ 7443, 66850,    68, 15639])),\n",
              " (array([0, 1, 2, 3], dtype=uint8), array([ 7443, 66850,    68, 15639])))"
            ]
          },
          "metadata": {},
          "execution_count": 77
        },
        {
          "output_type": "display_data",
          "data": {
            "text/plain": [
              "<Figure size 720x720 with 2 Axes>"
            ],
            "image/png": "[encoded data removed]"
          },
          "metadata": {
            "needs_background": "light"
          }
        }
      ]
    },
    {
      "cell_type": "code",
      "source": [
        "msk.shape,msk2.shape"
      ],
      "metadata": {
        "colab": {
          "base_uri": "https://localhost:8080/"
        },
        "id": "QBHqnvRLoysL",
        "outputId": "3713d64b-d68d-496c-ddf4-a1f6c8aa0812"
      },
      "execution_count": null,
      "outputs": [
        {
          "output_type": "execute_result",
          "data": {
            "text/plain": [
              "((300, 300), (300, 300))"
            ]
          },
          "metadata": {},
          "execution_count": 78
        }
      ]
    },
    {
      "cell_type": "code",
      "source": [
        "def get_counts(a,b):\n",
        "  print('\\n counts:',a.shape,b.shape)\n",
        "  print(np.unique(tensor(a),return_counts=True),'\\n',np.unique(tensor(b),return_counts=True))\n",
        "\n",
        "def prep_hist_no_bg(inp,targ):\n",
        "  '''\n",
        "  prepare tensors for evaluation\n",
        "  '''\n",
        "  get_counts(inp,targ)\n",
        "\n",
        "  targ[targ == 0]=1\n",
        "  targ[0,0]=0\n",
        "  inp[inp == 0]=1\n",
        "  inp[0,0]=0\n",
        "  targ2=targ.type(torch.IntTensor)\n",
        "  inp2=inp.type(torch.IntTensor)\n",
        "  \n",
        "  get_counts(inp2,targ2)\n",
        "  \n",
        "  targ = targ2.squeeze(1).cpu()\n",
        "  pred=inp2.squeeze(1).cpu()#.argmax(dim=1).cpu()\n",
        "  n_clss=len(np.unique(inp2))\n",
        "  \n",
        "  print('\\nn_cls=',n_clss,targ.shape,pred.shape)\n",
        "  hist = torch.zeros((n_clss, n_clss)).cpu()\n",
        "  for t, p in zip(targ, pred):\n",
        "      hist += _fast_hist(t.flatten(), p.flatten(), n_clss)\n",
        "  print(hist)\n",
        "  return hist"
      ],
      "metadata": {
        "id": "yJ2C2KuvpOtt"
      },
      "execution_count": null,
      "outputs": []
    },
    {
      "cell_type": "code",
      "source": [
        "def dice_coefficient_no_bg(hist):\n",
        "    A_inter_B = torch.diag(hist)\n",
        "    A = hist.sum(dim=1)\n",
        "    B = hist.sum(dim=0)\n",
        "    dice = (2 * A_inter_B) / (A + B + EPS)\n",
        "    avg_dice = nanmean(dice)\n",
        "    return avg_dice"
      ],
      "metadata": {
        "id": "sFrKbT-NpOVt"
      },
      "execution_count": null,
      "outputs": []
    },
    {
      "cell_type": "code",
      "source": [
        "msk=transforms.ToTensor()(msk)\n",
        "msk2=transforms.ToTensor()(msk2)\n",
        "msk = msk.cpu()\n",
        "msk2 = msk2.cpu()\n",
        "n_clss=len(np.unique(msk))\n",
        "print('acc={:.4f} \\nper_cls_acc={:.4f} \\nIoU={:.4f} \\nDice={:.4f}'.format(*eval_metrics(msk,msk2,4)))"
      ],
      "metadata": {
        "colab": {
          "base_uri": "https://localhost:8080/"
        },
        "id": "FAXmkW5SnbdE",
        "outputId": "e9a60eca-f3de-4c14-c170-5274c7c58819"
      },
      "execution_count": null,
      "outputs": [
        {
          "output_type": "stream",
          "name": "stdout",
          "text": [
            "acc=1.0000 \n",
            "per_cls_acc=1.0000 \n",
            "IoU=1.0000 \n",
            "Dice=1.0000\n"
          ]
        }
      ]
    },
    {
      "cell_type": "code",
      "source": [
        "# h=prep_hist(msk,msk2)\n",
        "# d=dice_coefficient_no_bg(h)\n",
        "# print('dice no bg={:.4f}'.format(d))"
      ],
      "metadata": {
        "id": "0GUC7T1_qFXB"
      },
      "execution_count": null,
      "outputs": []
    },
    {
      "cell_type": "markdown",
      "metadata": {
        "id": "NBXfBzUjmFQ7"
      },
      "source": [
        "## Store results of experiments and save to a log\n"
      ]
    },
    {
      "cell_type": "code",
      "execution_count": null,
      "metadata": {
        "id": "0SiviW2zsX8Z",
        "colab": {
          "base_uri": "https://localhost:8080/",
          "height": 810
        },
        "outputId": "2c911863-b694-4048-df70-11b5de25837b"
      },
      "outputs": [
        {
          "output_type": "execute_result",
          "data": {
            "text/plain": [
              "              datetime model  num_epochs           loss_fn  batch_size  \\\n",
              "0  09/06/2022 05:19:58  unet         200  CrossEntropyLoss          10   \n",
              "1  09/06/2022 06:24:15  unet         200  CrossEntropyLoss          10   \n",
              "2  09/06/2022 08:08:15  unet           3  CrossEntropyLoss          10   \n",
              "3  09/06/2022 20:57:04  unet         500  CrossEntropyLoss           5   \n",
              "4  10/06/2022 05:32:27  unet         700  CrossEntropyLoss           5   \n",
              "5  28/06/2022 19:25:59  unet           2  CrossEntropyLoss          10   \n",
              "6  28/06/2022 21:08:41  unet         900  CrossEntropyLoss          10   \n",
              "7  29/06/2022 16:53:29  unet         900  CrossEntropyLoss          10   \n",
              "\n",
              "       arch optim  channels  pretrained       lr  ...  val_loss       acc  \\\n",
              "0  resnet50  Adam        15       False  0.00001  ...  0.390017  0.852425   \n",
              "1  resnet50  Adam        15       False  0.00001  ...  0.390017  0.852425   \n",
              "2  resnet50  Adam        15       False  0.00001  ...  0.687647  0.762003   \n",
              "3  resnet50  Adam        15       False  0.00001  ...  0.212039  0.906248   \n",
              "4  resnet50  Adam        15       False  0.00001  ...  0.181689  0.919806   \n",
              "5  resnet50  Adam        15       False  0.00001  ...       NaN       NaN   \n",
              "6  resnet50  Adam        15       False  0.00001  ...       NaN       NaN   \n",
              "7  resnet50  Adam        15       False  0.00001  ...       NaN       NaN   \n",
              "\n",
              "   per_cls_acc  \\\n",
              "0          NaN   \n",
              "1          NaN   \n",
              "2          NaN   \n",
              "3          NaN   \n",
              "4          NaN   \n",
              "5          NaN   \n",
              "6          NaN   \n",
              "7          NaN   \n",
              "\n",
              "                                                                                                IoU  \\\n",
              "0  ['RandomSizedCrop', 'PadIfNeeded', 'VerticalFlip', 'RandomRotate90', 'RandomBrightnessContrast']   \n",
              "1  ['RandomSizedCrop', 'PadIfNeeded', 'VerticalFlip', 'RandomRotate90', 'RandomBrightnessContrast']   \n",
              "2  ['RandomSizedCrop', 'PadIfNeeded', 'VerticalFlip', 'RandomRotate90', 'RandomBrightnessContrast']   \n",
              "3  ['RandomSizedCrop', 'PadIfNeeded', 'VerticalFlip', 'RandomRotate90', 'RandomBrightnessContrast']   \n",
              "4  ['RandomSizedCrop', 'PadIfNeeded', 'VerticalFlip', 'RandomRotate90', 'RandomBrightnessContrast']   \n",
              "5  ['RandomSizedCrop', 'PadIfNeeded', 'VerticalFlip', 'RandomRotate90', 'RandomBrightnessContrast']   \n",
              "6  ['RandomSizedCrop', 'PadIfNeeded', 'VerticalFlip', 'RandomRotate90', 'RandomBrightnessContrast']   \n",
              "7  ['RandomSizedCrop', 'PadIfNeeded', 'VerticalFlip', 'RandomRotate90', 'RandomBrightnessContrast']   \n",
              "\n",
              "                     Dice DiceMulti foreground_acc  item_augs  batch_augs  \\\n",
              "0  0 days 00:00:24.065784       NaN            NaN        NaN         NaN   \n",
              "1  0 days 00:00:00.024608       NaN            NaN        NaN         NaN   \n",
              "2  0 days 00:00:00.015217       NaN            NaN        NaN         NaN   \n",
              "3  0 days 00:00:00.023301       NaN            NaN        NaN         NaN   \n",
              "4  0 days 00:00:00.022870       NaN            NaN        NaN         NaN   \n",
              "5  0 days 00:00:00.019684       NaN            NaN        NaN         NaN   \n",
              "6  0 days 00:00:00.018540       NaN            NaN        NaN         NaN   \n",
              "7  0 days 00:00:00.067285       NaN            NaN        NaN         NaN   \n",
              "\n",
              "   epoch_time  \n",
              "0         NaN  \n",
              "1         NaN  \n",
              "2         NaN  \n",
              "3         NaN  \n",
              "4         NaN  \n",
              "5         NaN  \n",
              "6         NaN  \n",
              "7         NaN  \n",
              "\n",
              "[8 rows x 22 columns]"
            ],
            "text/html": [
              "\n",
              "  <div id=\"df-cdb49cd2-d6fe-41cc-85a7-e8db0330689b\">\n",
              "    <div class=\"colab-df-container\">\n",
              "      <div>\n",
              "<style scoped>\n",
              "    .dataframe tbody tr th:only-of-type {\n",
              "        vertical-align: middle;\n",
              "    }\n",
              "\n",
              "    .dataframe tbody tr th {\n",
              "        vertical-align: top;\n",
              "    }\n",
              "\n",
              "    .dataframe thead th {\n",
              "        text-align: right;\n",
              "    }\n",
              "</style>\n",
              "<table border=\"1\" class=\"dataframe\">\n",
              "  <thead>\n",
              "    <tr style=\"text-align: right;\">\n",
              "      <th></th>\n",
              "      <th>datetime</th>\n",
              "      <th>model</th>\n",
              "      <th>num_epochs</th>\n",
              "      <th>loss_fn</th>\n",
              "      <th>batch_size</th>\n",
              "      <th>arch</th>\n",
              "      <th>optim</th>\n",
              "      <th>channels</th>\n",
              "      <th>pretrained</th>\n",
              "      <th>lr</th>\n",
              "      <th>...</th>\n",
              "      <th>val_loss</th>\n",
              "      <th>acc</th>\n",
              "      <th>per_cls_acc</th>\n",
              "      <th>IoU</th>\n",
              "      <th>Dice</th>\n",
              "      <th>DiceMulti</th>\n",
              "      <th>foreground_acc</th>\n",
              "      <th>item_augs</th>\n",
              "      <th>batch_augs</th>\n",
              "      <th>epoch_time</th>\n",
              "    </tr>\n",
              "  </thead>\n",
              "  <tbody>\n",
              "    <tr>\n",
              "      <th>0</th>\n",
              "      <td>09/06/2022 05:19:58</td>\n",
              "      <td>unet</td>\n",
              "      <td>200</td>\n",
              "      <td>CrossEntropyLoss</td>\n",
              "      <td>10</td>\n",
              "      <td>resnet50</td>\n",
              "      <td>Adam</td>\n",
              "      <td>15</td>\n",
              "      <td>False</td>\n",
              "      <td>0.00001</td>\n",
              "      <td>...</td>\n",
              "      <td>0.390017</td>\n",
              "      <td>0.852425</td>\n",
              "      <td>NaN</td>\n",
              "      <td>['RandomSizedCrop', 'PadIfNeeded', 'VerticalFlip', 'RandomRotate90', 'RandomBrightnessContrast']</td>\n",
              "      <td>0 days 00:00:24.065784</td>\n",
              "      <td>NaN</td>\n",
              "      <td>NaN</td>\n",
              "      <td>NaN</td>\n",
              "      <td>NaN</td>\n",
              "      <td>NaN</td>\n",
              "    </tr>\n",
              "    <tr>\n",
              "      <th>1</th>\n",
              "      <td>09/06/2022 06:24:15</td>\n",
              "      <td>unet</td>\n",
              "      <td>200</td>\n",
              "      <td>CrossEntropyLoss</td>\n",
              "      <td>10</td>\n",
              "      <td>resnet50</td>\n",
              "      <td>Adam</td>\n",
              "      <td>15</td>\n",
              "      <td>False</td>\n",
              "      <td>0.00001</td>\n",
              "      <td>...</td>\n",
              "      <td>0.390017</td>\n",
              "      <td>0.852425</td>\n",
              "      <td>NaN</td>\n",
              "      <td>['RandomSizedCrop', 'PadIfNeeded', 'VerticalFlip', 'RandomRotate90', 'RandomBrightnessContrast']</td>\n",
              "      <td>0 days 00:00:00.024608</td>\n",
              "      <td>NaN</td>\n",
              "      <td>NaN</td>\n",
              "      <td>NaN</td>\n",
              "      <td>NaN</td>\n",
              "      <td>NaN</td>\n",
              "    </tr>\n",
              "    <tr>\n",
              "      <th>2</th>\n",
              "      <td>09/06/2022 08:08:15</td>\n",
              "      <td>unet</td>\n",
              "      <td>3</td>\n",
              "      <td>CrossEntropyLoss</td>\n",
              "      <td>10</td>\n",
              "      <td>resnet50</td>\n",
              "      <td>Adam</td>\n",
              "      <td>15</td>\n",
              "      <td>False</td>\n",
              "      <td>0.00001</td>\n",
              "      <td>...</td>\n",
              "      <td>0.687647</td>\n",
              "      <td>0.762003</td>\n",
              "      <td>NaN</td>\n",
              "      <td>['RandomSizedCrop', 'PadIfNeeded', 'VerticalFlip', 'RandomRotate90', 'RandomBrightnessContrast']</td>\n",
              "      <td>0 days 00:00:00.015217</td>\n",
              "      <td>NaN</td>\n",
              "      <td>NaN</td>\n",
              "      <td>NaN</td>\n",
              "      <td>NaN</td>\n",
              "      <td>NaN</td>\n",
              "    </tr>\n",
              "    <tr>\n",
              "      <th>3</th>\n",
              "      <td>09/06/2022 20:57:04</td>\n",
              "      <td>unet</td>\n",
              "      <td>500</td>\n",
              "      <td>CrossEntropyLoss</td>\n",
              "      <td>5</td>\n",
              "      <td>resnet50</td>\n",
              "      <td>Adam</td>\n",
              "      <td>15</td>\n",
              "      <td>False</td>\n",
              "      <td>0.00001</td>\n",
              "      <td>...</td>\n",
              "      <td>0.212039</td>\n",
              "      <td>0.906248</td>\n",
              "      <td>NaN</td>\n",
              "      <td>['RandomSizedCrop', 'PadIfNeeded', 'VerticalFlip', 'RandomRotate90', 'RandomBrightnessContrast']</td>\n",
              "      <td>0 days 00:00:00.023301</td>\n",
              "      <td>NaN</td>\n",
              "      <td>NaN</td>\n",
              "      <td>NaN</td>\n",
              "      <td>NaN</td>\n",
              "      <td>NaN</td>\n",
              "    </tr>\n",
              "    <tr>\n",
              "      <th>4</th>\n",
              "      <td>10/06/2022 05:32:27</td>\n",
              "      <td>unet</td>\n",
              "      <td>700</td>\n",
              "      <td>CrossEntropyLoss</td>\n",
              "      <td>5</td>\n",
              "      <td>resnet50</td>\n",
              "      <td>Adam</td>\n",
              "      <td>15</td>\n",
              "      <td>False</td>\n",
              "      <td>0.00001</td>\n",
              "      <td>...</td>\n",
              "      <td>0.181689</td>\n",
              "      <td>0.919806</td>\n",
              "      <td>NaN</td>\n",
              "      <td>['RandomSizedCrop', 'PadIfNeeded', 'VerticalFlip', 'RandomRotate90', 'RandomBrightnessContrast']</td>\n",
              "      <td>0 days 00:00:00.022870</td>\n",
              "      <td>NaN</td>\n",
              "      <td>NaN</td>\n",
              "      <td>NaN</td>\n",
              "      <td>NaN</td>\n",
              "      <td>NaN</td>\n",
              "    </tr>\n",
              "    <tr>\n",
              "      <th>5</th>\n",
              "      <td>28/06/2022 19:25:59</td>\n",
              "      <td>unet</td>\n",
              "      <td>2</td>\n",
              "      <td>CrossEntropyLoss</td>\n",
              "      <td>10</td>\n",
              "      <td>resnet50</td>\n",
              "      <td>Adam</td>\n",
              "      <td>15</td>\n",
              "      <td>False</td>\n",
              "      <td>0.00001</td>\n",
              "      <td>...</td>\n",
              "      <td>NaN</td>\n",
              "      <td>NaN</td>\n",
              "      <td>NaN</td>\n",
              "      <td>['RandomSizedCrop', 'PadIfNeeded', 'VerticalFlip', 'RandomRotate90', 'RandomBrightnessContrast']</td>\n",
              "      <td>0 days 00:00:00.019684</td>\n",
              "      <td>NaN</td>\n",
              "      <td>NaN</td>\n",
              "      <td>NaN</td>\n",
              "      <td>NaN</td>\n",
              "      <td>NaN</td>\n",
              "    </tr>\n",
              "    <tr>\n",
              "      <th>6</th>\n",
              "      <td>28/06/2022 21:08:41</td>\n",
              "      <td>unet</td>\n",
              "      <td>900</td>\n",
              "      <td>CrossEntropyLoss</td>\n",
              "      <td>10</td>\n",
              "      <td>resnet50</td>\n",
              "      <td>Adam</td>\n",
              "      <td>15</td>\n",
              "      <td>False</td>\n",
              "      <td>0.00001</td>\n",
              "      <td>...</td>\n",
              "      <td>NaN</td>\n",
              "      <td>NaN</td>\n",
              "      <td>NaN</td>\n",
              "      <td>['RandomSizedCrop', 'PadIfNeeded', 'VerticalFlip', 'RandomRotate90', 'RandomBrightnessContrast']</td>\n",
              "      <td>0 days 00:00:00.018540</td>\n",
              "      <td>NaN</td>\n",
              "      <td>NaN</td>\n",
              "      <td>NaN</td>\n",
              "      <td>NaN</td>\n",
              "      <td>NaN</td>\n",
              "    </tr>\n",
              "    <tr>\n",
              "      <th>7</th>\n",
              "      <td>29/06/2022 16:53:29</td>\n",
              "      <td>unet</td>\n",
              "      <td>900</td>\n",
              "      <td>CrossEntropyLoss</td>\n",
              "      <td>10</td>\n",
              "      <td>resnet50</td>\n",
              "      <td>Adam</td>\n",
              "      <td>15</td>\n",
              "      <td>False</td>\n",
              "      <td>0.00001</td>\n",
              "      <td>...</td>\n",
              "      <td>NaN</td>\n",
              "      <td>NaN</td>\n",
              "      <td>NaN</td>\n",
              "      <td>['RandomSizedCrop', 'PadIfNeeded', 'VerticalFlip', 'RandomRotate90', 'RandomBrightnessContrast']</td>\n",
              "      <td>0 days 00:00:00.067285</td>\n",
              "      <td>NaN</td>\n",
              "      <td>NaN</td>\n",
              "      <td>NaN</td>\n",
              "      <td>NaN</td>\n",
              "      <td>NaN</td>\n",
              "    </tr>\n",
              "  </tbody>\n",
              "</table>\n",
              "<p>8 rows × 22 columns</p>\n",
              "</div>\n",
              "      <button class=\"colab-df-convert\" onclick=\"convertToInteractive('df-cdb49cd2-d6fe-41cc-85a7-e8db0330689b')\"\n",
              "              title=\"Convert this dataframe to an interactive table.\"\n",
              "              style=\"display:none;\">\n",
              "        \n",
              "  <svg xmlns=\"http://www.w3.org/2000/svg\" height=\"24px\"viewBox=\"0 0 24 24\"\n",
              "       width=\"24px\">\n",
              "    <path d=\"M0 0h24v24H0V0z\" fill=\"none\"/>\n",
              "    <path d=\"M18.56 5.44l.94 2.06.94-2.06 2.06-.94-2.06-.94-.94-2.06-.94 2.06-2.06.94zm-11 1L8.5 8.5l.94-2.06 2.06-.94-2.06-.94L8.5 2.5l-.94 2.06-2.06.94zm10 10l.94 2.06.94-2.06 2.06-.94-2.06-.94-.94-2.06-.94 2.06-2.06.94z\"/><path d=\"M17.41 7.96l-1.37-1.37c-.4-.4-.92-.59-1.43-.59-.52 0-1.04.2-1.43.59L10.3 9.45l-7.72 7.72c-.78.78-.78 2.05 0 2.83L4 21.41c.39.39.9.59 1.41.59.51 0 1.02-.2 1.41-.59l7.78-7.78 2.81-2.81c.8-.78.8-2.07 0-2.86zM5.41 20L4 18.59l7.72-7.72 1.47 1.35L5.41 20z\"/>\n",
              "  </svg>\n",
              "      </button>\n",
              "      \n",
              "  <style>\n",
              "    .colab-df-container {\n",
              "      display:flex;\n",
              "      flex-wrap:wrap;\n",
              "      gap: 12px;\n",
              "    }\n",
              "\n",
              "    .colab-df-convert {\n",
              "      background-color: #E8F0FE;\n",
              "      border: none;\n",
              "      border-radius: 50%;\n",
              "      cursor: pointer;\n",
              "      display: none;\n",
              "      fill: #1967D2;\n",
              "      height: 32px;\n",
              "      padding: 0 0 0 0;\n",
              "      width: 32px;\n",
              "    }\n",
              "\n",
              "    .colab-df-convert:hover {\n",
              "      background-color: #E2EBFA;\n",
              "      box-shadow: 0px 1px 2px rgba(60, 64, 67, 0.3), 0px 1px 3px 1px rgba(60, 64, 67, 0.15);\n",
              "      fill: #174EA6;\n",
              "    }\n",
              "\n",
              "    [theme=dark] .colab-df-convert {\n",
              "      background-color: #3B4455;\n",
              "      fill: #D2E3FC;\n",
              "    }\n",
              "\n",
              "    [theme=dark] .colab-df-convert:hover {\n",
              "      background-color: #434B5C;\n",
              "      box-shadow: 0px 1px 3px 1px rgba(0, 0, 0, 0.15);\n",
              "      filter: drop-shadow(0px 1px 2px rgba(0, 0, 0, 0.3));\n",
              "      fill: #FFFFFF;\n",
              "    }\n",
              "  </style>\n",
              "\n",
              "      <script>\n",
              "        const buttonEl =\n",
              "          document.querySelector('#df-cdb49cd2-d6fe-41cc-85a7-e8db0330689b button.colab-df-convert');\n",
              "        buttonEl.style.display =\n",
              "          google.colab.kernel.accessAllowed ? 'block' : 'none';\n",
              "\n",
              "        async function convertToInteractive(key) {\n",
              "          const element = document.querySelector('#df-cdb49cd2-d6fe-41cc-85a7-e8db0330689b');\n",
              "          const dataTable =\n",
              "            await google.colab.kernel.invokeFunction('convertToInteractive',\n",
              "                                                     [key], {});\n",
              "          if (!dataTable) return;\n",
              "\n",
              "          const docLinkHtml = 'Like what you see? Visit the ' +\n",
              "            '<a target=\"_blank\" href=https://colab.research.google.com/notebooks/data_table.ipynb>data table notebook</a>'\n",
              "            + ' to learn more about interactive tables.';\n",
              "          element.innerHTML = '';\n",
              "          dataTable['output_type'] = 'display_data';\n",
              "          await google.colab.output.renderOutput(dataTable, element);\n",
              "          const docLink = document.createElement('div');\n",
              "          docLink.innerHTML = docLinkHtml;\n",
              "          element.appendChild(docLink);\n",
              "        }\n",
              "      </script>\n",
              "    </div>\n",
              "  </div>\n",
              "  "
            ]
          },
          "metadata": {},
          "execution_count": 93
        }
      ],
      "source": [
        "cols=['datetime','model','num_epochs','loss_fn','batch_size',\n",
        "      'arch','optim','channels','pretrained','lr','valid_pct',\n",
        "      'trn_loss','val_loss','acc','per_cls_acc','IoU','Dice','DiceMulti', 'foreground_acc','item_augs','batch_augs','epoch_time']\n",
        "# deeplab_results=pd.read_csv('logs/deeplab_results_log.csv',names=cols)\n",
        "results=pd.read_csv('logs/exp_results_log.csv',names=cols)\n",
        "# results2 = pd.read_csv('results_log_11Feb_15Feb.csv',names=cols)\n",
        "# new_expriment_log=[dt_string,model,log[0],(loss_fn.__class__.__name__,loss_fn.display()),batch_size,\n",
        "# new_expriment_log=[dt_string,model,log[0],(loss_fn.display()),batch_size,\n",
        "#       arch.__name__,opt.__name__,channels,pretrained,min_grad_lr,valid_pct,\n",
        "#       log[1],log[2],log[3],log[4],log[5],log[6],augs_list,batch_augms,log[-1]]\n",
        "\n",
        "# results.loc[len(results)] = new_expriment_log\n",
        "results.head(-2)"
      ]
    },
    {
      "cell_type": "code",
      "source": [
        "# deeplab_results.head(2)"
      ],
      "metadata": {
        "id": "lZetL68CPcLR"
      },
      "execution_count": null,
      "outputs": []
    },
    {
      "cell_type": "code",
      "source": [
        "\n",
        "report_cols=['datetime','model','num_epochs','loss_fn','batch_size',\n",
        "    'arch','optim','channels','pretrained','lr','valid_pct',\n",
        "    'trn_loss','val_loss','dice','fg_acc','augs','epoch_time']\n",
        "nn_results = results[report_cols].fillna(0.0)\n",
        "# nn_results.describe()"
      ],
      "metadata": {
        "id": "A7tF3orQdNf4",
        "colab": {
          "base_uri": "https://localhost:8080/",
          "height": 374
        },
        "outputId": "38957870-1bb4-41f2-fba9-a3903513c4e2"
      },
      "execution_count": null,
      "outputs": [
        {
          "output_type": "error",
          "ename": "KeyError",
          "evalue": "ignored",
          "traceback": [
            "\u001b[0;31m---------------------------------------------------------------------------\u001b[0m",
            "\u001b[0;31mKeyError\u001b[0m                                  Traceback (most recent call last)",
            "\u001b[0;32m<ipython-input-89-385fc48570b1>\u001b[0m in \u001b[0;36m<module>\u001b[0;34m()\u001b[0m\n\u001b[1;32m      3\u001b[0m     \u001b[0;34m'arch'\u001b[0m\u001b[0;34m,\u001b[0m\u001b[0;34m'optim'\u001b[0m\u001b[0;34m,\u001b[0m\u001b[0;34m'channels'\u001b[0m\u001b[0;34m,\u001b[0m\u001b[0;34m'pretrained'\u001b[0m\u001b[0;34m,\u001b[0m\u001b[0;34m'lr'\u001b[0m\u001b[0;34m,\u001b[0m\u001b[0;34m'valid_pct'\u001b[0m\u001b[0;34m,\u001b[0m\u001b[0;34m\u001b[0m\u001b[0;34m\u001b[0m\u001b[0m\n\u001b[1;32m      4\u001b[0m     'trn_loss','val_loss','dice','fg_acc','augs','epoch_time']\n\u001b[0;32m----> 5\u001b[0;31m \u001b[0mnn_results\u001b[0m \u001b[0;34m=\u001b[0m \u001b[0mresults\u001b[0m\u001b[0;34m[\u001b[0m\u001b[0mreport_cols\u001b[0m\u001b[0;34m]\u001b[0m\u001b[0;34m.\u001b[0m\u001b[0mfillna\u001b[0m\u001b[0;34m(\u001b[0m\u001b[0;36m0.0\u001b[0m\u001b[0;34m)\u001b[0m\u001b[0;34m\u001b[0m\u001b[0;34m\u001b[0m\u001b[0m\n\u001b[0m\u001b[1;32m      6\u001b[0m \u001b[0;31m# nn_results.describe()\u001b[0m\u001b[0;34m\u001b[0m\u001b[0;34m\u001b[0m\u001b[0;34m\u001b[0m\u001b[0m\n",
            "\u001b[0;32m/usr/local/lib/python3.7/dist-packages/pandas/core/frame.py\u001b[0m in \u001b[0;36m__getitem__\u001b[0;34m(self, key)\u001b[0m\n\u001b[1;32m   3462\u001b[0m             \u001b[0;32mif\u001b[0m \u001b[0mis_iterator\u001b[0m\u001b[0;34m(\u001b[0m\u001b[0mkey\u001b[0m\u001b[0;34m)\u001b[0m\u001b[0;34m:\u001b[0m\u001b[0;34m\u001b[0m\u001b[0;34m\u001b[0m\u001b[0m\n\u001b[1;32m   3463\u001b[0m                 \u001b[0mkey\u001b[0m \u001b[0;34m=\u001b[0m \u001b[0mlist\u001b[0m\u001b[0;34m(\u001b[0m\u001b[0mkey\u001b[0m\u001b[0;34m)\u001b[0m\u001b[0;34m\u001b[0m\u001b[0;34m\u001b[0m\u001b[0m\n\u001b[0;32m-> 3464\u001b[0;31m             \u001b[0mindexer\u001b[0m \u001b[0;34m=\u001b[0m \u001b[0mself\u001b[0m\u001b[0;34m.\u001b[0m\u001b[0mloc\u001b[0m\u001b[0;34m.\u001b[0m\u001b[0m_get_listlike_indexer\u001b[0m\u001b[0;34m(\u001b[0m\u001b[0mkey\u001b[0m\u001b[0;34m,\u001b[0m \u001b[0maxis\u001b[0m\u001b[0;34m=\u001b[0m\u001b[0;36m1\u001b[0m\u001b[0;34m)\u001b[0m\u001b[0;34m[\u001b[0m\u001b[0;36m1\u001b[0m\u001b[0;34m]\u001b[0m\u001b[0;34m\u001b[0m\u001b[0;34m\u001b[0m\u001b[0m\n\u001b[0m\u001b[1;32m   3465\u001b[0m \u001b[0;34m\u001b[0m\u001b[0m\n\u001b[1;32m   3466\u001b[0m         \u001b[0;31m# take() does not accept boolean indexers\u001b[0m\u001b[0;34m\u001b[0m\u001b[0;34m\u001b[0m\u001b[0;34m\u001b[0m\u001b[0m\n",
            "\u001b[0;32m/usr/local/lib/python3.7/dist-packages/pandas/core/indexing.py\u001b[0m in \u001b[0;36m_get_listlike_indexer\u001b[0;34m(self, key, axis)\u001b[0m\n\u001b[1;32m   1312\u001b[0m             \u001b[0mkeyarr\u001b[0m\u001b[0;34m,\u001b[0m \u001b[0mindexer\u001b[0m\u001b[0;34m,\u001b[0m \u001b[0mnew_indexer\u001b[0m \u001b[0;34m=\u001b[0m \u001b[0max\u001b[0m\u001b[0;34m.\u001b[0m\u001b[0m_reindex_non_unique\u001b[0m\u001b[0;34m(\u001b[0m\u001b[0mkeyarr\u001b[0m\u001b[0;34m)\u001b[0m\u001b[0;34m\u001b[0m\u001b[0;34m\u001b[0m\u001b[0m\n\u001b[1;32m   1313\u001b[0m \u001b[0;34m\u001b[0m\u001b[0m\n\u001b[0;32m-> 1314\u001b[0;31m         \u001b[0mself\u001b[0m\u001b[0;34m.\u001b[0m\u001b[0m_validate_read_indexer\u001b[0m\u001b[0;34m(\u001b[0m\u001b[0mkeyarr\u001b[0m\u001b[0;34m,\u001b[0m \u001b[0mindexer\u001b[0m\u001b[0;34m,\u001b[0m \u001b[0maxis\u001b[0m\u001b[0;34m)\u001b[0m\u001b[0;34m\u001b[0m\u001b[0;34m\u001b[0m\u001b[0m\n\u001b[0m\u001b[1;32m   1315\u001b[0m \u001b[0;34m\u001b[0m\u001b[0m\n\u001b[1;32m   1316\u001b[0m         if needs_i8_conversion(ax.dtype) or isinstance(\n",
            "\u001b[0;32m/usr/local/lib/python3.7/dist-packages/pandas/core/indexing.py\u001b[0m in \u001b[0;36m_validate_read_indexer\u001b[0;34m(self, key, indexer, axis)\u001b[0m\n\u001b[1;32m   1375\u001b[0m \u001b[0;34m\u001b[0m\u001b[0m\n\u001b[1;32m   1376\u001b[0m             \u001b[0mnot_found\u001b[0m \u001b[0;34m=\u001b[0m \u001b[0mlist\u001b[0m\u001b[0;34m(\u001b[0m\u001b[0mensure_index\u001b[0m\u001b[0;34m(\u001b[0m\u001b[0mkey\u001b[0m\u001b[0;34m)\u001b[0m\u001b[0;34m[\u001b[0m\u001b[0mmissing_mask\u001b[0m\u001b[0;34m.\u001b[0m\u001b[0mnonzero\u001b[0m\u001b[0;34m(\u001b[0m\u001b[0;34m)\u001b[0m\u001b[0;34m[\u001b[0m\u001b[0;36m0\u001b[0m\u001b[0;34m]\u001b[0m\u001b[0;34m]\u001b[0m\u001b[0;34m.\u001b[0m\u001b[0munique\u001b[0m\u001b[0;34m(\u001b[0m\u001b[0;34m)\u001b[0m\u001b[0;34m)\u001b[0m\u001b[0;34m\u001b[0m\u001b[0;34m\u001b[0m\u001b[0m\n\u001b[0;32m-> 1377\u001b[0;31m             \u001b[0;32mraise\u001b[0m \u001b[0mKeyError\u001b[0m\u001b[0;34m(\u001b[0m\u001b[0;34mf\"{not_found} not in index\"\u001b[0m\u001b[0;34m)\u001b[0m\u001b[0;34m\u001b[0m\u001b[0;34m\u001b[0m\u001b[0m\n\u001b[0m\u001b[1;32m   1378\u001b[0m \u001b[0;34m\u001b[0m\u001b[0m\n\u001b[1;32m   1379\u001b[0m \u001b[0;34m\u001b[0m\u001b[0m\n",
            "\u001b[0;31mKeyError\u001b[0m: \"['dice', 'fg_acc', 'augs'] not in index\""
          ]
        }
      ]
    },
    {
      "cell_type": "markdown",
      "source": [
        "## Compare archs vs Val loss , Dice\n"
      ],
      "metadata": {
        "id": "6R91jhbuecXz"
      }
    },
    {
      "cell_type": "code",
      "source": [
        "results.groupby('arch').max('Dice').sort_values(by='foreground_acc',ascending=False)"
      ],
      "metadata": {
        "id": "fn1KMb2HZfNW",
        "colab": {
          "base_uri": "https://localhost:8080/",
          "height": 176
        },
        "outputId": "2b56d584-e4d5-41f8-b840-3e1c537db8f8"
      },
      "execution_count": null,
      "outputs": [
        {
          "output_type": "execute_result",
          "data": {
            "text/plain": [
              "          num_epochs  batch_size  channels  pretrained      lr  valid_pct  \\\n",
              "arch                                                                        \n",
              "resnet50         900          15        15       False  0.0001         65   \n",
              "\n",
              "          trn_loss  val_loss       acc  per_cls_acc  DiceMulti  \\\n",
              "arch                                                             \n",
              "resnet50  0.809123  0.687647  0.919806          NaN        NaN   \n",
              "\n",
              "          foreground_acc  item_augs  batch_augs  epoch_time  \n",
              "arch                                                         \n",
              "resnet50             NaN        NaN         NaN         NaN  "
            ],
            "text/html": [
              "\n",
              "  <div id=\"df-504df1a3-41b1-4602-8ea1-56dcef02ca5a\">\n",
              "    <div class=\"colab-df-container\">\n",
              "      <div>\n",
              "<style scoped>\n",
              "    .dataframe tbody tr th:only-of-type {\n",
              "        vertical-align: middle;\n",
              "    }\n",
              "\n",
              "    .dataframe tbody tr th {\n",
              "        vertical-align: top;\n",
              "    }\n",
              "\n",
              "    .dataframe thead th {\n",
              "        text-align: right;\n",
              "    }\n",
              "</style>\n",
              "<table border=\"1\" class=\"dataframe\">\n",
              "  <thead>\n",
              "    <tr style=\"text-align: right;\">\n",
              "      <th></th>\n",
              "      <th>num_epochs</th>\n",
              "      <th>batch_size</th>\n",
              "      <th>channels</th>\n",
              "      <th>pretrained</th>\n",
              "      <th>lr</th>\n",
              "      <th>valid_pct</th>\n",
              "      <th>trn_loss</th>\n",
              "      <th>val_loss</th>\n",
              "      <th>acc</th>\n",
              "      <th>per_cls_acc</th>\n",
              "      <th>DiceMulti</th>\n",
              "      <th>foreground_acc</th>\n",
              "      <th>item_augs</th>\n",
              "      <th>batch_augs</th>\n",
              "      <th>epoch_time</th>\n",
              "    </tr>\n",
              "    <tr>\n",
              "      <th>arch</th>\n",
              "      <th></th>\n",
              "      <th></th>\n",
              "      <th></th>\n",
              "      <th></th>\n",
              "      <th></th>\n",
              "      <th></th>\n",
              "      <th></th>\n",
              "      <th></th>\n",
              "      <th></th>\n",
              "      <th></th>\n",
              "      <th></th>\n",
              "      <th></th>\n",
              "      <th></th>\n",
              "      <th></th>\n",
              "      <th></th>\n",
              "    </tr>\n",
              "  </thead>\n",
              "  <tbody>\n",
              "    <tr>\n",
              "      <th>resnet50</th>\n",
              "      <td>900</td>\n",
              "      <td>15</td>\n",
              "      <td>15</td>\n",
              "      <td>False</td>\n",
              "      <td>0.0001</td>\n",
              "      <td>65</td>\n",
              "      <td>0.809123</td>\n",
              "      <td>0.687647</td>\n",
              "      <td>0.919806</td>\n",
              "      <td>NaN</td>\n",
              "      <td>NaN</td>\n",
              "      <td>NaN</td>\n",
              "      <td>NaN</td>\n",
              "      <td>NaN</td>\n",
              "      <td>NaN</td>\n",
              "    </tr>\n",
              "  </tbody>\n",
              "</table>\n",
              "</div>\n",
              "      <button class=\"colab-df-convert\" onclick=\"convertToInteractive('df-504df1a3-41b1-4602-8ea1-56dcef02ca5a')\"\n",
              "              title=\"Convert this dataframe to an interactive table.\"\n",
              "              style=\"display:none;\">\n",
              "        \n",
              "  <svg xmlns=\"http://www.w3.org/2000/svg\" height=\"24px\"viewBox=\"0 0 24 24\"\n",
              "       width=\"24px\">\n",
              "    <path d=\"M0 0h24v24H0V0z\" fill=\"none\"/>\n",
              "    <path d=\"M18.56 5.44l.94 2.06.94-2.06 2.06-.94-2.06-.94-.94-2.06-.94 2.06-2.06.94zm-11 1L8.5 8.5l.94-2.06 2.06-.94-2.06-.94L8.5 2.5l-.94 2.06-2.06.94zm10 10l.94 2.06.94-2.06 2.06-.94-2.06-.94-.94-2.06-.94 2.06-2.06.94z\"/><path d=\"M17.41 7.96l-1.37-1.37c-.4-.4-.92-.59-1.43-.59-.52 0-1.04.2-1.43.59L10.3 9.45l-7.72 7.72c-.78.78-.78 2.05 0 2.83L4 21.41c.39.39.9.59 1.41.59.51 0 1.02-.2 1.41-.59l7.78-7.78 2.81-2.81c.8-.78.8-2.07 0-2.86zM5.41 20L4 18.59l7.72-7.72 1.47 1.35L5.41 20z\"/>\n",
              "  </svg>\n",
              "      </button>\n",
              "      \n",
              "  <style>\n",
              "    .colab-df-container {\n",
              "      display:flex;\n",
              "      flex-wrap:wrap;\n",
              "      gap: 12px;\n",
              "    }\n",
              "\n",
              "    .colab-df-convert {\n",
              "      background-color: #E8F0FE;\n",
              "      border: none;\n",
              "      border-radius: 50%;\n",
              "      cursor: pointer;\n",
              "      display: none;\n",
              "      fill: #1967D2;\n",
              "      height: 32px;\n",
              "      padding: 0 0 0 0;\n",
              "      width: 32px;\n",
              "    }\n",
              "\n",
              "    .colab-df-convert:hover {\n",
              "      background-color: #E2EBFA;\n",
              "      box-shadow: 0px 1px 2px rgba(60, 64, 67, 0.3), 0px 1px 3px 1px rgba(60, 64, 67, 0.15);\n",
              "      fill: #174EA6;\n",
              "    }\n",
              "\n",
              "    [theme=dark] .colab-df-convert {\n",
              "      background-color: #3B4455;\n",
              "      fill: #D2E3FC;\n",
              "    }\n",
              "\n",
              "    [theme=dark] .colab-df-convert:hover {\n",
              "      background-color: #434B5C;\n",
              "      box-shadow: 0px 1px 3px 1px rgba(0, 0, 0, 0.15);\n",
              "      filter: drop-shadow(0px 1px 2px rgba(0, 0, 0, 0.3));\n",
              "      fill: #FFFFFF;\n",
              "    }\n",
              "  </style>\n",
              "\n",
              "      <script>\n",
              "        const buttonEl =\n",
              "          document.querySelector('#df-504df1a3-41b1-4602-8ea1-56dcef02ca5a button.colab-df-convert');\n",
              "        buttonEl.style.display =\n",
              "          google.colab.kernel.accessAllowed ? 'block' : 'none';\n",
              "\n",
              "        async function convertToInteractive(key) {\n",
              "          const element = document.querySelector('#df-504df1a3-41b1-4602-8ea1-56dcef02ca5a');\n",
              "          const dataTable =\n",
              "            await google.colab.kernel.invokeFunction('convertToInteractive',\n",
              "                                                     [key], {});\n",
              "          if (!dataTable) return;\n",
              "\n",
              "          const docLinkHtml = 'Like what you see? Visit the ' +\n",
              "            '<a target=\"_blank\" href=https://colab.research.google.com/notebooks/data_table.ipynb>data table notebook</a>'\n",
              "            + ' to learn more about interactive tables.';\n",
              "          element.innerHTML = '';\n",
              "          dataTable['output_type'] = 'display_data';\n",
              "          await google.colab.output.renderOutput(dataTable, element);\n",
              "          const docLink = document.createElement('div');\n",
              "          docLink.innerHTML = docLinkHtml;\n",
              "          element.appendChild(docLink);\n",
              "        }\n",
              "      </script>\n",
              "    </div>\n",
              "  </div>\n",
              "  "
            ]
          },
          "metadata": {},
          "execution_count": 90
        }
      ]
    },
    {
      "cell_type": "code",
      "source": [
        "# f,(ax1,ax2) = plt.subplots(1,2,figsize=(20,10))\n",
        "# corr = nn_results.corr()\n",
        "# scorr = nn_results.corr(method = 'spearman')\n",
        "# cm = 'cividis'\n",
        "# sns.heatmap(corr, annot = True,vmin=-1,vmax=1,ax=ax1,cmap=cm)\n",
        "# ax1.set_title('Pearson')\n",
        "# sns.heatmap(scorr, annot = True,vmin=-1,vmax=1,ax=ax2,cmap=cm)\n",
        "# ax2.set_title('Spearman')\n",
        "\n",
        "# plt.show()"
      ],
      "metadata": {
        "id": "PE0CNuZqnDEb"
      },
      "execution_count": null,
      "outputs": []
    },
    {
      "cell_type": "code",
      "source": [
        "import re\n",
        "df = pd.DataFrame(columns=['loss_func','val_loss','alpha','gamma','Dice','foreground_acc'])\n",
        "loss_fncs=results['loss_fn'].str.split(',')\n",
        "for i,result in enumerate(loss_fncs):\n",
        "  \n",
        "  if(result[0].startswith('DiceFocalLoss')):\n",
        "    alpha,gamma=float(result[2]),float(result[3])\n",
        "  else:\n",
        "    alpha,gamma=np.nan,np.nan\n",
        "  \n",
        "  loss_func = re.sub('[^A-Za-z]+', '', result[0])\n",
        "  df.loc[len(df)] = loss_func, \\\n",
        "                    float(results.iloc[i]['val_loss']), \\\n",
        "                    alpha,gamma, \\\n",
        "                    float(results.iloc[i]['Dice']), \\\n",
        "                    float(results.iloc[i]['foreground_acc'])\n",
        "  # print(result[i][3],result[i][4])\n",
        "np.unique(df['loss_func'])"
      ],
      "metadata": {
        "colab": {
          "base_uri": "https://localhost:8080/",
          "height": 260
        },
        "id": "oDMh3959M_Wz",
        "outputId": "b8be2709-b84f-4435-9072-7145b88c43e9"
      },
      "execution_count": null,
      "outputs": [
        {
          "output_type": "error",
          "ename": "ValueError",
          "evalue": "ignored",
          "traceback": [
            "\u001b[0;31m---------------------------------------------------------------------------\u001b[0m",
            "\u001b[0;31mValueError\u001b[0m                                Traceback (most recent call last)",
            "\u001b[0;32m<ipython-input-92-bc4206e6697a>\u001b[0m in \u001b[0;36m<module>\u001b[0;34m()\u001b[0m\n\u001b[1;32m     10\u001b[0m \u001b[0;34m\u001b[0m\u001b[0m\n\u001b[1;32m     11\u001b[0m   \u001b[0mloss_func\u001b[0m \u001b[0;34m=\u001b[0m \u001b[0mre\u001b[0m\u001b[0;34m.\u001b[0m\u001b[0msub\u001b[0m\u001b[0;34m(\u001b[0m\u001b[0;34m'[^A-Za-z]+'\u001b[0m\u001b[0;34m,\u001b[0m \u001b[0;34m''\u001b[0m\u001b[0;34m,\u001b[0m \u001b[0mresult\u001b[0m\u001b[0;34m[\u001b[0m\u001b[0;36m0\u001b[0m\u001b[0;34m]\u001b[0m\u001b[0;34m)\u001b[0m\u001b[0;34m\u001b[0m\u001b[0;34m\u001b[0m\u001b[0m\n\u001b[0;32m---> 12\u001b[0;31m   \u001b[0mdf\u001b[0m\u001b[0;34m.\u001b[0m\u001b[0mloc\u001b[0m\u001b[0;34m[\u001b[0m\u001b[0mlen\u001b[0m\u001b[0;34m(\u001b[0m\u001b[0mdf\u001b[0m\u001b[0;34m)\u001b[0m\u001b[0;34m]\u001b[0m \u001b[0;34m=\u001b[0m \u001b[0mloss_func\u001b[0m\u001b[0;34m,\u001b[0m                     \u001b[0mfloat\u001b[0m\u001b[0;34m(\u001b[0m\u001b[0mresults\u001b[0m\u001b[0;34m.\u001b[0m\u001b[0miloc\u001b[0m\u001b[0;34m[\u001b[0m\u001b[0mi\u001b[0m\u001b[0;34m]\u001b[0m\u001b[0;34m[\u001b[0m\u001b[0;34m'val_loss'\u001b[0m\u001b[0;34m]\u001b[0m\u001b[0;34m)\u001b[0m\u001b[0;34m,\u001b[0m                     \u001b[0malpha\u001b[0m\u001b[0;34m,\u001b[0m\u001b[0mgamma\u001b[0m\u001b[0;34m,\u001b[0m                     \u001b[0mfloat\u001b[0m\u001b[0;34m(\u001b[0m\u001b[0mresults\u001b[0m\u001b[0;34m.\u001b[0m\u001b[0miloc\u001b[0m\u001b[0;34m[\u001b[0m\u001b[0mi\u001b[0m\u001b[0;34m]\u001b[0m\u001b[0;34m[\u001b[0m\u001b[0;34m'Dice'\u001b[0m\u001b[0;34m]\u001b[0m\u001b[0;34m)\u001b[0m\u001b[0;34m,\u001b[0m                     \u001b[0mfloat\u001b[0m\u001b[0;34m(\u001b[0m\u001b[0mresults\u001b[0m\u001b[0;34m.\u001b[0m\u001b[0miloc\u001b[0m\u001b[0;34m[\u001b[0m\u001b[0mi\u001b[0m\u001b[0;34m]\u001b[0m\u001b[0;34m[\u001b[0m\u001b[0;34m'foreground_acc'\u001b[0m\u001b[0;34m]\u001b[0m\u001b[0;34m)\u001b[0m\u001b[0;34m\u001b[0m\u001b[0;34m\u001b[0m\u001b[0m\n\u001b[0m\u001b[1;32m     13\u001b[0m   \u001b[0;31m# print(result[i][3],result[i][4])\u001b[0m\u001b[0;34m\u001b[0m\u001b[0;34m\u001b[0m\u001b[0;34m\u001b[0m\u001b[0m\n\u001b[1;32m     14\u001b[0m \u001b[0mnp\u001b[0m\u001b[0;34m.\u001b[0m\u001b[0munique\u001b[0m\u001b[0;34m(\u001b[0m\u001b[0mdf\u001b[0m\u001b[0;34m[\u001b[0m\u001b[0;34m'loss_func'\u001b[0m\u001b[0;34m]\u001b[0m\u001b[0;34m)\u001b[0m\u001b[0;34m\u001b[0m\u001b[0;34m\u001b[0m\u001b[0m\n",
            "\u001b[0;31mValueError\u001b[0m: could not convert string to float: '0 days 00:00:24.065784'"
          ]
        }
      ]
    },
    {
      "cell_type": "markdown",
      "source": [
        "We see that smaller $alpha$ and higher $gamma$ hyperparams for the CombinedLoss improve the train and validation loss"
      ],
      "metadata": {
        "id": "jJubKkD0bSXu"
      }
    },
    {
      "cell_type": "code",
      "source": [
        "for column in ['alpha','gamma']:\n",
        "  nn_results[column] = df[column].fillna((df[column].mean()))\n",
        "\n",
        "f,(ax1,ax2) = plt.subplots(1,2,figsize=(30,8))\n",
        "# corr = nn_results.corr()\n",
        "scorr = nn_results.corr(method = 'spearman')\n",
        "kcorr = nn_results.corr(method = 'kendall')\n",
        "\n",
        "# Generate a mask for the upper triangle\n",
        "smask = np.triu(np.ones_like(scorr, dtype=bool))\n",
        "kmask = np.triu(np.ones_like(kcorr, dtype=bool))\n",
        "\n",
        "cm = 'Spectral'\n",
        "# sns.heatmap(corr, annot = True,vmin=-1,vmax=1,ax=ax1,cmap=cm)\n",
        "# ax1.set_title('Pearson')\n",
        "sns.heatmap(scorr, annot = True,vmin=-1,vmax=1,ax=ax1,cmap=cm,mask=smask)\n",
        "ax1.set_title('Spearman')\n",
        "sns.heatmap(kcorr, annot = True,vmin=-1,vmax=1,ax=ax2,cmap=cm,mask=kmask)\n",
        "ax2.set_title('Kendall')\n",
        "\n",
        "plt.show()\n"
      ],
      "metadata": {
        "id": "zyQT88HFZngU"
      },
      "execution_count": null,
      "outputs": []
    },
    {
      "cell_type": "code",
      "source": [
        "# nn_results\n",
        "# sns.lmplot(y='val_loss',x='foreground_acc',data=df,fit_reg=True) "
      ],
      "metadata": {
        "id": "W3c8DUlTZJv5"
      },
      "execution_count": null,
      "outputs": []
    },
    {
      "cell_type": "code",
      "source": [
        "# df.plot.scatter(x='alpha',y='Dice')\n",
        "# sns.lmplot(x='alpha',y='Dice',data=df,fit_reg=True) "
      ],
      "metadata": {
        "id": "H3qDhAVZVHnm"
      },
      "execution_count": null,
      "outputs": []
    },
    {
      "cell_type": "code",
      "source": [
        "# df.plot.scatter(x='gamma',y='Dice')\n",
        "# sns.lmplot(x='gamma',y='Dice',data=df,fit_reg=True) "
      ],
      "metadata": {
        "id": "Oe2ahS5mWM_E"
      },
      "execution_count": null,
      "outputs": []
    },
    {
      "cell_type": "code",
      "source": [
        "# df.plot.scatter(x='gamma',y='val_loss')\n",
        "# sns.lmplot(x='alpha',y='val_loss',data=df,fit_reg=True) "
      ],
      "metadata": {
        "id": "p1VBGCd6otqW"
      },
      "execution_count": null,
      "outputs": []
    },
    {
      "cell_type": "code",
      "source": [
        "nn_results['epoch_time'] = nn_results['epoch_time'].str.replace(':', '').astype(float)\n",
        "# nn_results['epoch_time'].head()"
      ],
      "metadata": {
        "id": "9kVsCi0P3I71"
      },
      "execution_count": null,
      "outputs": []
    },
    {
      "cell_type": "code",
      "source": [
        "sns.lmplot(x='gamma',y='epoch_time',data=nn_results) "
      ],
      "metadata": {
        "id": "pzus6hTu2rlA"
      },
      "execution_count": null,
      "outputs": []
    },
    {
      "cell_type": "code",
      "source": [
        "# df.plot.scatter(x='gamma',y='val_loss')\n",
        "sns.lmplot(x='gamma',y='val_loss',data=df) "
      ],
      "metadata": {
        "id": "Wz0gcZPCXOHb"
      },
      "execution_count": null,
      "outputs": []
    },
    {
      "cell_type": "code",
      "source": [
        "# sns.lmplot(x='Dice',y='val_loss',data=df,fit_reg=True) "
      ],
      "metadata": {
        "id": "t4fA3KvMYPcd"
      },
      "execution_count": null,
      "outputs": []
    },
    {
      "cell_type": "code",
      "execution_count": null,
      "metadata": {
        "id": "mztYkA8gyton"
      },
      "outputs": [],
      "source": [
        "# results.to_csv('results_log.csv', mode='a', index=False, header=False)\n",
        "# scores_cols=['acc','per_cls_acc','IoU',\t'Dice']\n",
        "scores_cols=['per_cls_acc',\t'Dice']\n",
        "# results[scores_cols].plot.bar()"
      ]
    },
    {
      "cell_type": "code",
      "source": [
        "print('best mean score: {}'.format(results[scores_cols].mean(axis=1).max()))\n",
        "# results.iloc[results[scores_cols].mean(axis=1).argmax()]"
      ],
      "metadata": {
        "id": "iKyGT-08MOQZ"
      },
      "execution_count": null,
      "outputs": []
    },
    {
      "cell_type": "markdown",
      "source": [
        "# Compare various hyper params and architechtures results"
      ],
      "metadata": {
        "id": "oyFDbESdZqPU"
      }
    },
    {
      "cell_type": "code",
      "source": [
        "colors=['Green','Blue','Orange','Red','Purple']\n",
        "f,(ax1,ax2)=plt.subplots(1,2,figsize=(16,6))\n",
        "df.groupby('loss_func')['val_loss'].min().plot.bar(title='Loss function vs Minimum Validation Loss (lower is better)',\n",
        "                                                    color=colors,alpha=0.5,ax=ax1)\n",
        "annotate(ax1)\n",
        "\n",
        "df.groupby('loss_func')['val_loss'].mean().plot.bar(title='Loss function vs Avg Validation Loss (lower is better)',\n",
        "                                                    color=colors,alpha=0.5,ax=ax2)\n",
        "annotate(ax2)"
      ],
      "metadata": {
        "id": "W4dqqPxxoXn3"
      },
      "execution_count": null,
      "outputs": []
    },
    {
      "cell_type": "code",
      "source": [
        "f,(ax1,ax2)=plt.subplots(1,2,figsize=(16,6))\n",
        "df.groupby('loss_func')['Dice',\t'foreground_acc'].max().plot.bar(title='Loss function vs. Max Dice and Acc (higher is better)',ax=ax1,width=0.8)\n",
        "annotate(ax1)\n",
        "\n",
        "df.groupby('loss_func')['Dice',\t'foreground_acc'].mean().plot.bar(title='Loss function vs. Avg Dice and Acc (higher is better)',ax=ax2,width=0.8)\n",
        "annotate(ax2)\n"
      ],
      "metadata": {
        "id": "7q0ex2sUrOUC"
      },
      "execution_count": null,
      "outputs": []
    },
    {
      "cell_type": "code",
      "source": [
        "df.iloc[df['Dice'].argmax()]"
      ],
      "metadata": {
        "id": "r_hCx1YPMOBP"
      },
      "execution_count": null,
      "outputs": []
    },
    {
      "cell_type": "markdown",
      "metadata": {
        "id": "c1P9TD7FmaZt"
      },
      "source": [
        "### Compare class proprtions , similiarity of original and generated masks\n",
        "\n",
        "First \"predict\" a mask for all the **training** data"
      ]
    },
    {
      "cell_type": "code",
      "source": [
        "! ls ../models/model.pth\n"
      ],
      "metadata": {
        "id": "LiannQUlkto-"
      },
      "execution_count": null,
      "outputs": []
    },
    {
      "cell_type": "code",
      "source": [
        "# from fastbook import load_learner\n",
        "\n",
        "# learn_inference = load_learner('../models/model.pth')"
      ],
      "metadata": {
        "id": "rTAok3b9KvMD"
      },
      "execution_count": null,
      "outputs": []
    },
    {
      "cell_type": "code",
      "source": [
        "# #load model\n",
        "# learn_inference.load('models/last_model');"
      ],
      "metadata": {
        "id": "b7ePBweOKe3R"
      },
      "execution_count": null,
      "outputs": []
    },
    {
      "cell_type": "code",
      "execution_count": null,
      "metadata": {
        "id": "MxEvNpXtxC1I"
      },
      "outputs": [],
      "source": [
        "# fnames = get_image_files(s2_resized)\n",
        "\n",
        "# dl = learn.dls.test_dl(fnames)\n",
        "# preds = learn.get_preds(dl=dl)\n",
        "# preds[0].shape\n"
      ]
    },
    {
      "cell_type": "code",
      "execution_count": null,
      "metadata": {
        "id": "tmP5vfy-HWcz"
      },
      "outputs": [],
      "source": [
        "# #TODO move to preprocess.py\n",
        "# def add_cls_counts(df,mask,classes_dic={'0':0,'1':0,'2':0,'3':0}):\n",
        "#     '''\n",
        "#     counting classes in masks to plot histograms and calculate dataset imbalance\n",
        "#     '''\n",
        "#     if isinstance(mask,TensorBase):\n",
        "#         classes,counts = np.unique(mask,return_counts=True)\n",
        "#     else:\n",
        "#         classes,counts = np.unique(mask.read(1),return_counts=True)\n",
        "#     new_row = list(counts)\n",
        "\n",
        "#     if len(classes)<4:\n",
        "#       new_row = classes_dic\n",
        "#       for i,c in enumerate(classes):\n",
        "#         new_row[str(c)]=counts[i]\n",
        "      \n",
        "#     df.loc[len(df)] = new_row"
      ]
    },
    {
      "cell_type": "code",
      "execution_count": null,
      "metadata": {
        "id": "c5NoimuHHo6j"
      },
      "outputs": [],
      "source": [
        "#TODO move to preprocess.py\n",
        "# cols = ['0','1','2','3']\n",
        "\n",
        "# def get_bu_area_ratio(df,with_no_data=False):\n",
        "#   c_255=df[cols[3]]\n",
        "#   c_250=df[cols[2]]\n",
        "#   c_one=df[cols[1]]\n",
        "#   c_zero=df[cols[0]]\n",
        "#   if(with_no_data):\n",
        "#     total=c_zero+c_one+c_250+c_255\n",
        "#   else:\n",
        "#     total=c_one+c_250+c_255\n",
        "#   return (c_250+c_255)/total"
      ]
    },
    {
      "cell_type": "code",
      "execution_count": null,
      "metadata": {
        "id": "9L21Kx9HtYoh"
      },
      "outputs": [],
      "source": [
        "# df_new_mask_class_counts = pd.DataFrame(columns=cols)\n",
        "# for pred_mask in preds[0]:\n",
        "#   # add_cls_counts(df_orig_mask_class_counts,orig_mask)\n",
        "#   pred_arx = pred_mask.argmax(dim=0)\n",
        "#   add_cls_counts(df_new_mask_class_counts,pred_arx,{'0':0,'1':0,'2':0,'3':0})\n"
      ]
    },
    {
      "cell_type": "code",
      "execution_count": null,
      "metadata": {
        "id": "z3PmuF43JGqd"
      },
      "outputs": [],
      "source": [
        "# om=pd.read_csv('orig_masks_bu_area.csv',index_col=0,header=None)\n",
        "# om=pd.read_csv('orig_masks_bu_area_w_nodata.csv',index_col=0,header=None)\n"
      ]
    },
    {
      "cell_type": "code",
      "execution_count": null,
      "metadata": {
        "id": "V9w9R9_g4dPY"
      },
      "outputs": [],
      "source": [
        "# nm=get_bu_area_ratio(df_new_mask_class_counts,with_no_data=True)\n",
        "# nm=get_bu_area_ratio(df_new_mask_class_counts)\n",
        "\n",
        "# f,ax1 = plt.subplots(1,1,figsize=(12,4))\n",
        "# plot_hist(om,None,ax1,'Red',lbl='Orig')\n",
        "# plot_hist(nm,'Orig and Pred Masks Ratio of Built-UP Areas',ax1,'Blue',lbl='Pred')\n",
        "# plt.show()"
      ]
    },
    {
      "cell_type": "code",
      "execution_count": null,
      "metadata": {
        "id": "RrjMBD-mMeob"
      },
      "outputs": [],
      "source": [
        "# f,(ax1,ax2) = plt.subplots(1,2,figsize=(12,4))\n",
        "\n",
        "# df_orig_mask_class_counts = pd.read_csv('df_orig_mask_class_counts.csv',index_col=0,header=None)\n",
        "\n",
        "# plot_bar(df_orig_mask_class_counts,'Orig Mask Class Proportions',ax1)\n",
        "# annotate(ax1)\n",
        "\n",
        "# plot_bar(df_new_mask_class_counts,'Pred Mask Class Proportions',ax2)\n",
        "# annotate(ax2)\n",
        "# plt.show()"
      ]
    },
    {
      "cell_type": "markdown",
      "metadata": {
        "id": "kpDqrRNLKVRv"
      },
      "source": [
        "### Inference on unseen images\n",
        "\n",
        "+ Saving predictions to a folder"
      ]
    },
    {
      "cell_type": "code",
      "execution_count": null,
      "metadata": {
        "id": "P8wlSbmfDti_"
      },
      "outputs": [],
      "source": [
        "# test_fnames = get_image_files(S2_TEST_DIR)\n",
        "\n",
        "# dl = learn.dls.test_dl(test_fnames)\n",
        "# preds = learn.get_preds(dl=dl)\n",
        "# preds[0].shape"
      ]
    },
    {
      "cell_type": "code",
      "execution_count": null,
      "metadata": {
        "id": "ZoT8vHBYpFj4"
      },
      "outputs": [],
      "source": [
        "# PREDS_DIR= 'preds'"
      ]
    },
    {
      "cell_type": "code",
      "execution_count": null,
      "metadata": {
        "id": "TJGC_X9EHz4r"
      },
      "outputs": [],
      "source": [
        "# !rm -f preds/*.tif"
      ]
    },
    {
      "cell_type": "code",
      "execution_count": null,
      "metadata": {
        "id": "QxxP3KKnxPGb"
      },
      "outputs": [],
      "source": [
        "# %%time\n",
        "\n",
        "# show_every=5\n",
        "# nrows=int(len(test_fnames)/show_every)+1\n",
        "# f,axes = plt.subplots(nrows,5,figsize=(24,nrows*6))\n",
        "# j=0\n",
        "# with rio.Env():\n",
        "#   with rio.open(get_matching_mask_path(test_fnames[0].name,ESM_TEST_DIR),'r') as src:\n",
        "#     profile = src.profile\n",
        "\n",
        "#     for i in tqdm(range(len(test_fnames))):\n",
        "#       pred_1 = preds[0][i]\n",
        "#       pred_arx = pred_1.argmax(dim=0)\n",
        "\n",
        "#       # stats = print_pred_stats(pred_arx,str(i)+' stats',mask_vals)\n",
        "\n",
        "#       msk = get_msk(test_fnames[i].name,ESM_TEST_DIR,mask_vals)\n",
        "\n",
        "#       if pred_arx.shape[0]!=1:\n",
        "#         pred=pred_arx.unsqueeze_(0)\n",
        "#       true=transforms.ToTensor()(msk)\n",
        "#       if true.shape[0]!=1:\n",
        "#         true.unsqueeze_(0)\n",
        "#       true = true.cpu()\n",
        "#       pred = pred.cpu()\n",
        "#       pred_arx = pred_arx.cpu()\n",
        "\n",
        "\n",
        "#       if i%show_every==0:\n",
        "#         n_clss=len(np.unique(true))\n",
        "#         overall_acc, avg_per_class_acc, avg_jacc, avg_dice = eval_metrics(true,pred,n_clss)\n",
        "#         a_s = pred_1.argmax(dim=0).unsqueeze(0).to(torch.float)\n",
        "#         b_s = transforms.ToTensor()(msk).unsqueeze_(0).to(torch.float)\n",
        "        \n",
        "#         m_ssim = SSIM(data_range=1.0); m_ssim.reset(); m_ssim.update((a_s.unsqueeze(0),b_s.unsqueeze(0))); m_ssim.compute()\n",
        "#         ssim = m_ssim.compute()\n",
        "\n",
        "#         stats = print_pred_stats(pred_arx,str(i)+' stats',mask_vals)\n",
        "\n",
        "#         with rio.open(os.path.join(S2_TEST_DIR,test_fnames[i].name)) as matching_image:\n",
        "#           show(normalize(matching_image.read([3,2,1])),ax=axes[j,0],title=test_fnames[i].name)\n",
        "#         axes[j,1].imshow(msk,cmap=cm)\n",
        "        \n",
        "#         #To show the mask on top of the image\n",
        "#         # axes[j,0].imshow(msk,cmap=cm,alpha=0.5)\n",
        "        \n",
        "#         msk_name = get_matching_mask_path(test_fnames[i].name, ESM_TEST_DIR).split(os.path.sep)[-1]\n",
        "#         axes[j,1].set_title('Target mask ' + msk_name)\n",
        "#         axes[j,2].imshow(pred_arx.squeeze(0),cmap=cm)\n",
        "#         axes[j,2].set_title('Predicted mask')\n",
        "#         axes[j,4].axis('off')\n",
        "#         if(len(stats))<4:\n",
        "#           stats.append('N/A')\n",
        "#         axes[j,4].text(0.05, 0.25, '0:Green,1:Orange,250:Pink,255:Gray\\nOverall_acc={:.4f}\\navg_per_class_accuracy={:.4f} \\\n",
        "#                                   \\navg_IoU={:.4f}\\navg_dice={:.4f},\\nssim={:.4f}\\n{}\\n{}\\n{}\\n{}'.format(\n",
        "#                                   overall_acc, avg_per_class_acc, avg_jacc, avg_dice,ssim,*stats))\n",
        "#         x = np.arange(5)\n",
        "#         width = 0.9\n",
        "#         scores = ['acc','per_cls_acc','IoU','Dice','SSIM']\n",
        "#         values = [overall_acc,avg_per_class_acc,avg_jacc,avg_dice,ssim]\n",
        "#         axes[j,3].bar(x, values , width ,color=[ 'cyan','orange', 'green', 'red','navy'])\n",
        "#         axes[j,3].set_xticks(x)\n",
        "#         axes[j,3].set_yticks(np.arange(0.0,1.1,0.1))\n",
        "#         axes[j,3].set_xticklabels(scores,rotation=0)\n",
        "#         j+=1\n",
        "\n",
        "#         #save images to target dir\n",
        "#         with rio.open(os.path.join(PREDS_DIR,test_fnames[i].name), 'w', **profile) as dst1:\n",
        "#             dst1.write(true[0].numpy().astype(rio.uint8), 1)\n",
        "#         with rio.open(os.path.join(PREDS_DIR,'pred_'+test_fnames[i].name), 'w', **profile) as dst2:\n",
        "#             dst2.write(pred_arx[0].numpy().astype(rio.uint8), 1)\n",
        "# plt.show()  "
      ]
    },
    {
      "cell_type": "code",
      "source": [
        "///"
      ],
      "metadata": {
        "id": "kKKzzo1HFO-Z"
      },
      "execution_count": null,
      "outputs": []
    },
    {
      "cell_type": "markdown",
      "metadata": {
        "id": "PoKp_UVPSfOb"
      },
      "source": [
        "# Checking for \"image duplicates\" to find the similiarity of mask and predictions\n",
        "\n",
        "\n"
      ]
    },
    {
      "cell_type": "code",
      "execution_count": null,
      "metadata": {
        "id": "lqnWVcQu0Soi"
      },
      "outputs": [],
      "source": [
        "!pip install imagededup numpy -q --upgrade"
      ]
    },
    {
      "cell_type": "code",
      "source": [
        "!ls"
      ],
      "metadata": {
        "id": "2TqBwDgLidwW"
      },
      "execution_count": null,
      "outputs": []
    },
    {
      "cell_type": "code",
      "source": [
        "!ls preds | wc -l"
      ],
      "metadata": {
        "id": "s-k0eMsOsvPa"
      },
      "execution_count": null,
      "outputs": []
    },
    {
      "cell_type": "code",
      "execution_count": null,
      "metadata": {
        "id": "OYhSBgZBf9JB"
      },
      "outputs": [],
      "source": [
        "from imagededup.methods import PHash, CNN\n",
        "\n",
        "PREDS_DIR= 'preds'\n",
        "\n",
        "cnn_encoder = CNN()\n",
        "# duplicates_cnn = cnn_encoder.encode_images(image_dir=PREDS_DIR)\n"
      ]
    },
    {
      "cell_type": "code",
      "source": [
        "dups_e = cnn_encoder.find_duplicates(image_dir=PREDS_DIR, scores=True,min_similarity_threshold=0.95)\n",
        "# dups_e"
      ],
      "metadata": {
        "id": "SHHKrkon1byN"
      },
      "execution_count": null,
      "outputs": []
    },
    {
      "cell_type": "code",
      "execution_count": null,
      "metadata": {
        "id": "BoIHPnD5lXAN"
      },
      "outputs": [],
      "source": [
        "cnt=0\n",
        "dups = {}\n",
        "for it in dups_e.items():\n",
        "  if(it[0].startswith('pred_')):\n",
        "    for dup in it[1]:\n",
        "      if(it[0].endswith(dup[0])):\n",
        "        dups[it[0]]=[dup]\n",
        "        cnt+=1\n",
        "\n",
        "\n",
        "f,axes = plt.subplots(cnt,2,figsize=(12,cnt*6))\n",
        "\n",
        "j=0\n",
        "for it in dups.items():\n",
        "  if(it[0].startswith('pred_')):\n",
        "    for dup in it[1]:\n",
        "      if(it[0].endswith(dup[0])):\n",
        "        display_image(Path(os.path.join(PREDS_DIR,it[0])),bands=[1],title=it[0] + '                    ' + '(Pred)',ax=axes[j,1],cm=cm,verbose=False)\n",
        "\n",
        "        display_image(Path(os.path.join(PREDS_DIR,dup[0])),bands=[1],\n",
        "                      title='{} (True) -------> CosSim:{:.3f}'.format(dup[0],dup[1]) ,ax=axes[j,0],cm=cm,verbose=False)\n",
        "      j+=1\n",
        "\n",
        "print('Duplicate detection by CNN:{} of {}'.format(cnt,len(dups_e)))"
      ]
    },
    {
      "cell_type": "markdown",
      "metadata": {
        "id": "wIbp99GSvMf3"
      },
      "source": [
        "# TODOs\n",
        "\n"
      ]
    },
    {
      "cell_type": "markdown",
      "metadata": {
        "id": "SO081lPyv1l3"
      },
      "source": [
        "# Inference"
      ]
    },
    {
      "cell_type": "code",
      "execution_count": null,
      "metadata": {
        "id": "9kKYLwhivDgS"
      },
      "outputs": [],
      "source": [
        "#Save and load models\n",
        "# learn.save('stage-1')\n",
        "# learn.load('stage-1');"
      ]
    },
    {
      "cell_type": "markdown",
      "metadata": {
        "id": "sLwjo7N8to2z"
      },
      "source": [
        "References:\n",
        "\n",
        "Some code snippets and inspiration:\n",
        "\n",
        "https://gist.github.com/jaeeolma/0846e03c0c3b613212f8ca5824ae47e0\n",
        "\n",
        "https://github.com/muellerzr/Practical-Deep-Learning-for-Coders-2.0/blob/master/Computer%20Vision/07_Binary_Segmentation.ipynb\n",
        "\n",
        "[Semantic Segmentation for Edge Detection](file:///C:/Users/liadl/Desktop/remotesensing-14-00613-v2.pdf)"
      ]
    }
  ],
  "metadata": {
    "_draft": {
      "nbviewer_url": "https://gist.github.com/88ddd03be2d2d2156cd293d73113051a"
    },
    "colab": {
      "collapsed_sections": [],
      "name": "NB4_Experiments_Results_Analysis.ipynb",
      "provenance": [],
      "include_colab_link": true
    },
    "gist": {
      "data": {
        "description": "Multichannel satellite images with fastai2",
        "public": true
      },
      "id": "88ddd03be2d2d2156cd293d73113051a"
    },
    "kernelspec": {
      "display_name": "Python 3",
      "language": "python",
      "name": "python3"
    },
    "language_info": {
      "codemirror_mode": {
        "name": "ipython",
        "version": 3
      },
      "file_extension": ".py",
      "mimetype": "text/x-python",
      "name": "python",
      "nbconvert_exporter": "python",
      "pygments_lexer": "ipython3",
      "version": "3.7.6"
    },
    "toc": {
      "base_numbering": 1,
      "nav_menu": {},
      "number_sections": true,
      "sideBar": true,
      "skip_h1_title": false,
      "title_cell": "Table of Contents",
      "title_sidebar": "Contents",
      "toc_cell": false,
      "toc_position": {},
      "toc_section_display": true,
      "toc_window_display": false
    }
  },
  "nbformat": 4,
  "nbformat_minor": 0
}